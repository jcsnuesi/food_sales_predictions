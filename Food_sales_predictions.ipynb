{
  "cells": [
    {
      "cell_type": "markdown",
      "metadata": {
        "id": "view-in-github",
        "colab_type": "text"
      },
      "source": [
        "<a href=\"https://colab.research.google.com/github/jcsnuesi/food_sales_predictions/blob/main/Food_sales_predictions.ipynb\" target=\"_parent\"><img src=\"https://colab.research.google.com/assets/colab-badge.svg\" alt=\"Open In Colab\"/></a>"
      ]
    },
    {
      "cell_type": "code",
      "execution_count": 300,
      "metadata": {
        "id": "yY2fxbO6sS0W"
      },
      "outputs": [],
      "source": [
        "import pandas as pd\n",
        "import numpy as np\n",
        "import matplotlib.pyplot as plt\n",
        "import seaborn as sns\n"
      ]
    },
    {
      "cell_type": "code",
      "source": [
        "df = pd.read_csv(\"/content/drive/MyDrive/Colab Notebooks/sales_predictions.csv\")\n",
        "df.head()"
      ],
      "metadata": {
        "colab": {
          "base_uri": "https://localhost:8080/",
          "height": 357
        },
        "id": "JDK55agfDa6Y",
        "outputId": "7cefc7b6-a59d-4346-82b5-2e7e6fa834f5"
      },
      "execution_count": 224,
      "outputs": [
        {
          "output_type": "execute_result",
          "data": {
            "text/plain": [
              "  Item_Identifier  Item_Weight Item_Fat_Content  Item_Visibility  \\\n",
              "0           FDA15         9.30          Low Fat         0.016047   \n",
              "1           DRC01         5.92          Regular         0.019278   \n",
              "2           FDN15        17.50          Low Fat         0.016760   \n",
              "3           FDX07        19.20          Regular         0.000000   \n",
              "4           NCD19         8.93          Low Fat         0.000000   \n",
              "\n",
              "               Item_Type  Item_MRP Outlet_Identifier  \\\n",
              "0                  Dairy  249.8092            OUT049   \n",
              "1            Soft Drinks   48.2692            OUT018   \n",
              "2                   Meat  141.6180            OUT049   \n",
              "3  Fruits and Vegetables  182.0950            OUT010   \n",
              "4              Household   53.8614            OUT013   \n",
              "\n",
              "   Outlet_Establishment_Year Outlet_Size Outlet_Location_Type  \\\n",
              "0                       1999      Medium               Tier 1   \n",
              "1                       2009      Medium               Tier 3   \n",
              "2                       1999      Medium               Tier 1   \n",
              "3                       1998         NaN               Tier 3   \n",
              "4                       1987        High               Tier 3   \n",
              "\n",
              "         Outlet_Type  Item_Outlet_Sales  \n",
              "0  Supermarket Type1          3735.1380  \n",
              "1  Supermarket Type2           443.4228  \n",
              "2  Supermarket Type1          2097.2700  \n",
              "3      Grocery Store           732.3800  \n",
              "4  Supermarket Type1           994.7052  "
            ],
            "text/html": [
              "\n",
              "  <div id=\"df-4578c285-474c-4fae-95a5-0912ac3b8bee\">\n",
              "    <div class=\"colab-df-container\">\n",
              "      <div>\n",
              "<style scoped>\n",
              "    .dataframe tbody tr th:only-of-type {\n",
              "        vertical-align: middle;\n",
              "    }\n",
              "\n",
              "    .dataframe tbody tr th {\n",
              "        vertical-align: top;\n",
              "    }\n",
              "\n",
              "    .dataframe thead th {\n",
              "        text-align: right;\n",
              "    }\n",
              "</style>\n",
              "<table border=\"1\" class=\"dataframe\">\n",
              "  <thead>\n",
              "    <tr style=\"text-align: right;\">\n",
              "      <th></th>\n",
              "      <th>Item_Identifier</th>\n",
              "      <th>Item_Weight</th>\n",
              "      <th>Item_Fat_Content</th>\n",
              "      <th>Item_Visibility</th>\n",
              "      <th>Item_Type</th>\n",
              "      <th>Item_MRP</th>\n",
              "      <th>Outlet_Identifier</th>\n",
              "      <th>Outlet_Establishment_Year</th>\n",
              "      <th>Outlet_Size</th>\n",
              "      <th>Outlet_Location_Type</th>\n",
              "      <th>Outlet_Type</th>\n",
              "      <th>Item_Outlet_Sales</th>\n",
              "    </tr>\n",
              "  </thead>\n",
              "  <tbody>\n",
              "    <tr>\n",
              "      <th>0</th>\n",
              "      <td>FDA15</td>\n",
              "      <td>9.30</td>\n",
              "      <td>Low Fat</td>\n",
              "      <td>0.016047</td>\n",
              "      <td>Dairy</td>\n",
              "      <td>249.8092</td>\n",
              "      <td>OUT049</td>\n",
              "      <td>1999</td>\n",
              "      <td>Medium</td>\n",
              "      <td>Tier 1</td>\n",
              "      <td>Supermarket Type1</td>\n",
              "      <td>3735.1380</td>\n",
              "    </tr>\n",
              "    <tr>\n",
              "      <th>1</th>\n",
              "      <td>DRC01</td>\n",
              "      <td>5.92</td>\n",
              "      <td>Regular</td>\n",
              "      <td>0.019278</td>\n",
              "      <td>Soft Drinks</td>\n",
              "      <td>48.2692</td>\n",
              "      <td>OUT018</td>\n",
              "      <td>2009</td>\n",
              "      <td>Medium</td>\n",
              "      <td>Tier 3</td>\n",
              "      <td>Supermarket Type2</td>\n",
              "      <td>443.4228</td>\n",
              "    </tr>\n",
              "    <tr>\n",
              "      <th>2</th>\n",
              "      <td>FDN15</td>\n",
              "      <td>17.50</td>\n",
              "      <td>Low Fat</td>\n",
              "      <td>0.016760</td>\n",
              "      <td>Meat</td>\n",
              "      <td>141.6180</td>\n",
              "      <td>OUT049</td>\n",
              "      <td>1999</td>\n",
              "      <td>Medium</td>\n",
              "      <td>Tier 1</td>\n",
              "      <td>Supermarket Type1</td>\n",
              "      <td>2097.2700</td>\n",
              "    </tr>\n",
              "    <tr>\n",
              "      <th>3</th>\n",
              "      <td>FDX07</td>\n",
              "      <td>19.20</td>\n",
              "      <td>Regular</td>\n",
              "      <td>0.000000</td>\n",
              "      <td>Fruits and Vegetables</td>\n",
              "      <td>182.0950</td>\n",
              "      <td>OUT010</td>\n",
              "      <td>1998</td>\n",
              "      <td>NaN</td>\n",
              "      <td>Tier 3</td>\n",
              "      <td>Grocery Store</td>\n",
              "      <td>732.3800</td>\n",
              "    </tr>\n",
              "    <tr>\n",
              "      <th>4</th>\n",
              "      <td>NCD19</td>\n",
              "      <td>8.93</td>\n",
              "      <td>Low Fat</td>\n",
              "      <td>0.000000</td>\n",
              "      <td>Household</td>\n",
              "      <td>53.8614</td>\n",
              "      <td>OUT013</td>\n",
              "      <td>1987</td>\n",
              "      <td>High</td>\n",
              "      <td>Tier 3</td>\n",
              "      <td>Supermarket Type1</td>\n",
              "      <td>994.7052</td>\n",
              "    </tr>\n",
              "  </tbody>\n",
              "</table>\n",
              "</div>\n",
              "      <button class=\"colab-df-convert\" onclick=\"convertToInteractive('df-4578c285-474c-4fae-95a5-0912ac3b8bee')\"\n",
              "              title=\"Convert this dataframe to an interactive table.\"\n",
              "              style=\"display:none;\">\n",
              "        \n",
              "  <svg xmlns=\"http://www.w3.org/2000/svg\" height=\"24px\"viewBox=\"0 0 24 24\"\n",
              "       width=\"24px\">\n",
              "    <path d=\"M0 0h24v24H0V0z\" fill=\"none\"/>\n",
              "    <path d=\"M18.56 5.44l.94 2.06.94-2.06 2.06-.94-2.06-.94-.94-2.06-.94 2.06-2.06.94zm-11 1L8.5 8.5l.94-2.06 2.06-.94-2.06-.94L8.5 2.5l-.94 2.06-2.06.94zm10 10l.94 2.06.94-2.06 2.06-.94-2.06-.94-.94-2.06-.94 2.06-2.06.94z\"/><path d=\"M17.41 7.96l-1.37-1.37c-.4-.4-.92-.59-1.43-.59-.52 0-1.04.2-1.43.59L10.3 9.45l-7.72 7.72c-.78.78-.78 2.05 0 2.83L4 21.41c.39.39.9.59 1.41.59.51 0 1.02-.2 1.41-.59l7.78-7.78 2.81-2.81c.8-.78.8-2.07 0-2.86zM5.41 20L4 18.59l7.72-7.72 1.47 1.35L5.41 20z\"/>\n",
              "  </svg>\n",
              "      </button>\n",
              "      \n",
              "  <style>\n",
              "    .colab-df-container {\n",
              "      display:flex;\n",
              "      flex-wrap:wrap;\n",
              "      gap: 12px;\n",
              "    }\n",
              "\n",
              "    .colab-df-convert {\n",
              "      background-color: #E8F0FE;\n",
              "      border: none;\n",
              "      border-radius: 50%;\n",
              "      cursor: pointer;\n",
              "      display: none;\n",
              "      fill: #1967D2;\n",
              "      height: 32px;\n",
              "      padding: 0 0 0 0;\n",
              "      width: 32px;\n",
              "    }\n",
              "\n",
              "    .colab-df-convert:hover {\n",
              "      background-color: #E2EBFA;\n",
              "      box-shadow: 0px 1px 2px rgba(60, 64, 67, 0.3), 0px 1px 3px 1px rgba(60, 64, 67, 0.15);\n",
              "      fill: #174EA6;\n",
              "    }\n",
              "\n",
              "    [theme=dark] .colab-df-convert {\n",
              "      background-color: #3B4455;\n",
              "      fill: #D2E3FC;\n",
              "    }\n",
              "\n",
              "    [theme=dark] .colab-df-convert:hover {\n",
              "      background-color: #434B5C;\n",
              "      box-shadow: 0px 1px 3px 1px rgba(0, 0, 0, 0.15);\n",
              "      filter: drop-shadow(0px 1px 2px rgba(0, 0, 0, 0.3));\n",
              "      fill: #FFFFFF;\n",
              "    }\n",
              "  </style>\n",
              "\n",
              "      <script>\n",
              "        const buttonEl =\n",
              "          document.querySelector('#df-4578c285-474c-4fae-95a5-0912ac3b8bee button.colab-df-convert');\n",
              "        buttonEl.style.display =\n",
              "          google.colab.kernel.accessAllowed ? 'block' : 'none';\n",
              "\n",
              "        async function convertToInteractive(key) {\n",
              "          const element = document.querySelector('#df-4578c285-474c-4fae-95a5-0912ac3b8bee');\n",
              "          const dataTable =\n",
              "            await google.colab.kernel.invokeFunction('convertToInteractive',\n",
              "                                                     [key], {});\n",
              "          if (!dataTable) return;\n",
              "\n",
              "          const docLinkHtml = 'Like what you see? Visit the ' +\n",
              "            '<a target=\"_blank\" href=https://colab.research.google.com/notebooks/data_table.ipynb>data table notebook</a>'\n",
              "            + ' to learn more about interactive tables.';\n",
              "          element.innerHTML = '';\n",
              "          dataTable['output_type'] = 'display_data';\n",
              "          await google.colab.output.renderOutput(dataTable, element);\n",
              "          const docLink = document.createElement('div');\n",
              "          docLink.innerHTML = docLinkHtml;\n",
              "          element.appendChild(docLink);\n",
              "        }\n",
              "      </script>\n",
              "    </div>\n",
              "  </div>\n",
              "  "
            ]
          },
          "metadata": {},
          "execution_count": 224
        }
      ]
    },
    {
      "cell_type": "code",
      "execution_count": 225,
      "metadata": {
        "colab": {
          "base_uri": "https://localhost:8080/"
        },
        "id": "5es0Qumi8yip",
        "outputId": "3aa015e9-31eb-4c85-e1ad-4339b320c68b"
      },
      "outputs": [
        {
          "output_type": "execute_result",
          "data": {
            "text/plain": [
              "(8523, 12)"
            ]
          },
          "metadata": {},
          "execution_count": 225
        }
      ],
      "source": [
        "df.shape"
      ]
    },
    {
      "cell_type": "code",
      "execution_count": 226,
      "metadata": {
        "colab": {
          "base_uri": "https://localhost:8080/"
        },
        "id": "0Mo0EX5Y87iU",
        "outputId": "7a5eefe4-a775-4966-9680-f05747494b05"
      },
      "outputs": [
        {
          "output_type": "execute_result",
          "data": {
            "text/plain": [
              "0"
            ]
          },
          "metadata": {},
          "execution_count": 226
        }
      ],
      "source": [
        "#Corregir Item_Fat_Content data LF a Low Fat\n",
        "#Eliminar los tipos de datos NAN\n",
        "df1 = df.duplicated(keep=False).sum()\n",
        "df1"
      ]
    },
    {
      "cell_type": "code",
      "execution_count": 227,
      "metadata": {
        "colab": {
          "base_uri": "https://localhost:8080/"
        },
        "id": "R6YKT3G4KbfN",
        "outputId": "96f6d018-2b55-48fc-beb1-603d00b434b6"
      },
      "outputs": [
        {
          "output_type": "execute_result",
          "data": {
            "text/plain": [
              "Item_Identifier                 0\n",
              "Item_Weight                  1463\n",
              "Item_Fat_Content                0\n",
              "Item_Visibility                 0\n",
              "Item_Type                       0\n",
              "Item_MRP                        0\n",
              "Outlet_Identifier               0\n",
              "Outlet_Establishment_Year       0\n",
              "Outlet_Size                  2410\n",
              "Outlet_Location_Type            0\n",
              "Outlet_Type                     0\n",
              "Item_Outlet_Sales               0\n",
              "dtype: int64"
            ]
          },
          "metadata": {},
          "execution_count": 227
        }
      ],
      "source": [
        "df.isna().sum()"
      ]
    },
    {
      "cell_type": "code",
      "execution_count": 228,
      "metadata": {
        "id": "T0aFAxBSKuOM"
      },
      "outputs": [],
      "source": [
        "def search_replace(Item_Identifier):\n",
        "\n",
        "    \n",
        "    Item_Identifier_filter = df['Item_Identifier'] == Item_Identifier\n",
        "    \n",
        "    compate = df[Item_Identifier_filter]['Item_Weight'].mean() \n",
        "    if(pd.isnull(float(compate)) != pd.isnull(float('nan'))):\n",
        "      values_mean = df[Item_Identifier_filter]['Item_Weight'].mean().round(2) \n",
        "    else:\n",
        "      values_mean = 0.00\n",
        "    \n",
        "    return values_mean\n",
        "  \n",
        "\n",
        "   \n",
        "item_w_filter_isna = df['Item_Weight'].isna()\n",
        "df.loc[item_w_filter_isna, 'Item_Weight'] = df.apply(lambda x:search_replace(x['Item_Identifier']), axis=1)\n",
        "\n",
        "\n"
      ]
    },
    {
      "cell_type": "code",
      "source": [
        "df['Item_Weight'].isna().sum()\n"
      ],
      "metadata": {
        "colab": {
          "base_uri": "https://localhost:8080/"
        },
        "id": "U1bWtGG40Gmq",
        "outputId": "eacfcc1a-4476-4c56-9f86-315207b4ee96"
      },
      "execution_count": 229,
      "outputs": [
        {
          "output_type": "execute_result",
          "data": {
            "text/plain": [
              "0"
            ]
          },
          "metadata": {},
          "execution_count": 229
        }
      ]
    },
    {
      "cell_type": "markdown",
      "source": [
        "En la funcion de arriba antes de instanciar la funcion hacemos un filtro de los campos que son Nan de la col 'Item_Weight' donde luego se lo asignamos a un filtro general donde llamaremos dicha columna y le aplicaremos el valor de dataframe con la funcion apply que tiene como primer parametro una funcion lambda donde con una variable x a la que le instanciamos nuestra funcion principal \"searched_replace\" entro de esta haremos un filtro para buscar por clave en la columna \"Item_identifier\" sus valores luego incluirlo en un filtro para hacer la media de estos valores y segun sea el valor de la media haremos una validacion, si existe una media le asignamos el valor a la columna \"item_weight\" de lo contrario le agregamos 0.00 y retornamos la variable valor con todos los cambios realizados."
      ],
      "metadata": {
        "id": "rWDFQ7nNx2yH"
      }
    },
    {
      "cell_type": "code",
      "source": [
        "Item_Fat_Content_filter = df['Item_Fat_Content'] == 'LF'\n",
        "df.loc[Item_Fat_Content_filter, 'Item_Fat_Content'] = df.apply(lambda x:'Light Fat', axis=1)"
      ],
      "metadata": {
        "id": "H4b7IeEM0GDr"
      },
      "execution_count": 230,
      "outputs": []
    },
    {
      "cell_type": "markdown",
      "source": [
        "En el codigo anterior normalizamos la columna \"Item_Fat_Content\" en donde cambiamos los valores abreviados por su valor de mayor coincidencia."
      ],
      "metadata": {
        "id": "wiYslFi12APb"
      }
    },
    {
      "cell_type": "code",
      "source": [
        "regular = df['Item_Fat_Content'] == 'reg'\n",
        "low_fat = df['Item_Fat_Content'] == 'low fat'\n",
        "\n",
        "df.loc[regular, 'Item_Fat_Content'] = df.apply(lambda x:'Regular', axis=1)\n",
        "df.loc[low_fat, 'Item_Fat_Content'] = df.apply(lambda x:'Low Fat', axis=1)"
      ],
      "metadata": {
        "id": "DQQ8r1GitI2F"
      },
      "execution_count": 231,
      "outputs": []
    },
    {
      "cell_type": "markdown",
      "source": [
        "Se filtradon los datos inconsistentes ya que es una categoria con tres opciones y procedí con una funcion lambda a sustituirlos por su argumento original."
      ],
      "metadata": {
        "id": "Ic41rdQcu6Yl"
      }
    },
    {
      "cell_type": "code",
      "source": [
        "df.loc[:,['Item_Weight','Item_Visibility','Item_MRP','Outlet_Establishment_Year','Item_Outlet_Sales']].describe().loc[['min','max','mean']].round(2)"
      ],
      "metadata": {
        "colab": {
          "base_uri": "https://localhost:8080/",
          "height": 143
        },
        "id": "9JqDoiPYopkT",
        "outputId": "3d11aded-f9e3-42e7-f275-e0c779cfdf9a"
      },
      "execution_count": 232,
      "outputs": [
        {
          "output_type": "execute_result",
          "data": {
            "text/plain": [
              "      Item_Weight  Item_Visibility  Item_MRP  Outlet_Establishment_Year  \\\n",
              "min          0.00             0.00     31.29                    1985.00   \n",
              "max         21.35             0.33    266.89                    2009.00   \n",
              "mean        12.87             0.07    140.99                    1997.83   \n",
              "\n",
              "      Item_Outlet_Sales  \n",
              "min               33.29  \n",
              "max            13086.96  \n",
              "mean            2181.29  "
            ],
            "text/html": [
              "\n",
              "  <div id=\"df-9ec13f3d-3ce3-4fc0-9fe1-245f13191e66\">\n",
              "    <div class=\"colab-df-container\">\n",
              "      <div>\n",
              "<style scoped>\n",
              "    .dataframe tbody tr th:only-of-type {\n",
              "        vertical-align: middle;\n",
              "    }\n",
              "\n",
              "    .dataframe tbody tr th {\n",
              "        vertical-align: top;\n",
              "    }\n",
              "\n",
              "    .dataframe thead th {\n",
              "        text-align: right;\n",
              "    }\n",
              "</style>\n",
              "<table border=\"1\" class=\"dataframe\">\n",
              "  <thead>\n",
              "    <tr style=\"text-align: right;\">\n",
              "      <th></th>\n",
              "      <th>Item_Weight</th>\n",
              "      <th>Item_Visibility</th>\n",
              "      <th>Item_MRP</th>\n",
              "      <th>Outlet_Establishment_Year</th>\n",
              "      <th>Item_Outlet_Sales</th>\n",
              "    </tr>\n",
              "  </thead>\n",
              "  <tbody>\n",
              "    <tr>\n",
              "      <th>min</th>\n",
              "      <td>0.00</td>\n",
              "      <td>0.00</td>\n",
              "      <td>31.29</td>\n",
              "      <td>1985.00</td>\n",
              "      <td>33.29</td>\n",
              "    </tr>\n",
              "    <tr>\n",
              "      <th>max</th>\n",
              "      <td>21.35</td>\n",
              "      <td>0.33</td>\n",
              "      <td>266.89</td>\n",
              "      <td>2009.00</td>\n",
              "      <td>13086.96</td>\n",
              "    </tr>\n",
              "    <tr>\n",
              "      <th>mean</th>\n",
              "      <td>12.87</td>\n",
              "      <td>0.07</td>\n",
              "      <td>140.99</td>\n",
              "      <td>1997.83</td>\n",
              "      <td>2181.29</td>\n",
              "    </tr>\n",
              "  </tbody>\n",
              "</table>\n",
              "</div>\n",
              "      <button class=\"colab-df-convert\" onclick=\"convertToInteractive('df-9ec13f3d-3ce3-4fc0-9fe1-245f13191e66')\"\n",
              "              title=\"Convert this dataframe to an interactive table.\"\n",
              "              style=\"display:none;\">\n",
              "        \n",
              "  <svg xmlns=\"http://www.w3.org/2000/svg\" height=\"24px\"viewBox=\"0 0 24 24\"\n",
              "       width=\"24px\">\n",
              "    <path d=\"M0 0h24v24H0V0z\" fill=\"none\"/>\n",
              "    <path d=\"M18.56 5.44l.94 2.06.94-2.06 2.06-.94-2.06-.94-.94-2.06-.94 2.06-2.06.94zm-11 1L8.5 8.5l.94-2.06 2.06-.94-2.06-.94L8.5 2.5l-.94 2.06-2.06.94zm10 10l.94 2.06.94-2.06 2.06-.94-2.06-.94-.94-2.06-.94 2.06-2.06.94z\"/><path d=\"M17.41 7.96l-1.37-1.37c-.4-.4-.92-.59-1.43-.59-.52 0-1.04.2-1.43.59L10.3 9.45l-7.72 7.72c-.78.78-.78 2.05 0 2.83L4 21.41c.39.39.9.59 1.41.59.51 0 1.02-.2 1.41-.59l7.78-7.78 2.81-2.81c.8-.78.8-2.07 0-2.86zM5.41 20L4 18.59l7.72-7.72 1.47 1.35L5.41 20z\"/>\n",
              "  </svg>\n",
              "      </button>\n",
              "      \n",
              "  <style>\n",
              "    .colab-df-container {\n",
              "      display:flex;\n",
              "      flex-wrap:wrap;\n",
              "      gap: 12px;\n",
              "    }\n",
              "\n",
              "    .colab-df-convert {\n",
              "      background-color: #E8F0FE;\n",
              "      border: none;\n",
              "      border-radius: 50%;\n",
              "      cursor: pointer;\n",
              "      display: none;\n",
              "      fill: #1967D2;\n",
              "      height: 32px;\n",
              "      padding: 0 0 0 0;\n",
              "      width: 32px;\n",
              "    }\n",
              "\n",
              "    .colab-df-convert:hover {\n",
              "      background-color: #E2EBFA;\n",
              "      box-shadow: 0px 1px 2px rgba(60, 64, 67, 0.3), 0px 1px 3px 1px rgba(60, 64, 67, 0.15);\n",
              "      fill: #174EA6;\n",
              "    }\n",
              "\n",
              "    [theme=dark] .colab-df-convert {\n",
              "      background-color: #3B4455;\n",
              "      fill: #D2E3FC;\n",
              "    }\n",
              "\n",
              "    [theme=dark] .colab-df-convert:hover {\n",
              "      background-color: #434B5C;\n",
              "      box-shadow: 0px 1px 3px 1px rgba(0, 0, 0, 0.15);\n",
              "      filter: drop-shadow(0px 1px 2px rgba(0, 0, 0, 0.3));\n",
              "      fill: #FFFFFF;\n",
              "    }\n",
              "  </style>\n",
              "\n",
              "      <script>\n",
              "        const buttonEl =\n",
              "          document.querySelector('#df-9ec13f3d-3ce3-4fc0-9fe1-245f13191e66 button.colab-df-convert');\n",
              "        buttonEl.style.display =\n",
              "          google.colab.kernel.accessAllowed ? 'block' : 'none';\n",
              "\n",
              "        async function convertToInteractive(key) {\n",
              "          const element = document.querySelector('#df-9ec13f3d-3ce3-4fc0-9fe1-245f13191e66');\n",
              "          const dataTable =\n",
              "            await google.colab.kernel.invokeFunction('convertToInteractive',\n",
              "                                                     [key], {});\n",
              "          if (!dataTable) return;\n",
              "\n",
              "          const docLinkHtml = 'Like what you see? Visit the ' +\n",
              "            '<a target=\"_blank\" href=https://colab.research.google.com/notebooks/data_table.ipynb>data table notebook</a>'\n",
              "            + ' to learn more about interactive tables.';\n",
              "          element.innerHTML = '';\n",
              "          dataTable['output_type'] = 'display_data';\n",
              "          await google.colab.output.renderOutput(dataTable, element);\n",
              "          const docLink = document.createElement('div');\n",
              "          docLink.innerHTML = docLinkHtml;\n",
              "          element.appendChild(docLink);\n",
              "        }\n",
              "      </script>\n",
              "    </div>\n",
              "  </div>\n",
              "  "
            ]
          },
          "metadata": {},
          "execution_count": 232
        }
      ]
    },
    {
      "cell_type": "code",
      "execution_count": 233,
      "metadata": {
        "colab": {
          "base_uri": "https://localhost:8080/"
        },
        "id": "nsRXfYv28zxE",
        "outputId": "68c5bf3e-99b2-405b-e8c9-f869c1601efb"
      },
      "outputs": [
        {
          "output_type": "stream",
          "name": "stdout",
          "text": [
            "<class 'pandas.core.frame.DataFrame'>\n",
            "RangeIndex: 8523 entries, 0 to 8522\n",
            "Data columns (total 12 columns):\n",
            " #   Column                     Non-Null Count  Dtype  \n",
            "---  ------                     --------------  -----  \n",
            " 0   Item_Identifier            8523 non-null   object \n",
            " 1   Item_Weight                8523 non-null   float64\n",
            " 2   Item_Fat_Content           8523 non-null   object \n",
            " 3   Item_Visibility            8523 non-null   float64\n",
            " 4   Item_Type                  8523 non-null   object \n",
            " 5   Item_MRP                   8523 non-null   float64\n",
            " 6   Outlet_Identifier          8523 non-null   object \n",
            " 7   Outlet_Establishment_Year  8523 non-null   int64  \n",
            " 8   Outlet_Size                6113 non-null   object \n",
            " 9   Outlet_Location_Type       8523 non-null   object \n",
            " 10  Outlet_Type                8523 non-null   object \n",
            " 11  Item_Outlet_Sales          8523 non-null   float64\n",
            "dtypes: float64(4), int64(1), object(7)\n",
            "memory usage: 799.2+ KB\n"
          ]
        }
      ],
      "source": [
        "df1 = df\n",
        "df1.info()"
      ]
    },
    {
      "cell_type": "code",
      "source": [
        "def imputar_outlet(col):\n",
        "        \n",
        "    small = ['OUT010', 'OUT019', 'OUT035', 'OUT046'] \n",
        "    med = ['OUT049','OUT018','OUT027','OUT017']  \n",
        "    high = ['OUT013','OUT045'] \n",
        "\n",
        "    Outlet_Size =  1\n",
        "    reducer = np.array(col['Outlet_Size'].isna().sum())\n",
        "    size = col['Outlet_Size'].isna()\n",
        "    id = col.loc[size,'Outlet_Identifier'].to_list()\n",
        "    i = 0\n",
        "    \n",
        "    while Outlet_Size <  reducer:\n",
        "       \n",
        "        if id[i] in small:\n",
        "           compare = df1['Outlet_Identifier'] == id[i]\n",
        "           df1.loc[size & compare,'Outlet_Size'] = \"Small\"\n",
        "           reducer = reducer - 1\n",
        "          \n",
        "        elif id[i] in med:\n",
        "            compare = df1['Outlet_Identifier'] == id[i]\n",
        "            df1.loc[size & compare,'Outlet_Size'] = \"Medium\"\n",
        "            reducer = reducer - 1\n",
        "            \n",
        "        elif id[i] in high :\n",
        "            compare = df1['Outlet_Identifier'] == id[i]\n",
        "            df1.loc[size & compare,'Outlet_Size'] = \"High\"\n",
        "            reducer = reducer - 1\n",
        "        else:\n",
        "          reducer = reducer - 1\n",
        "\n",
        "        \n",
        "        i = i + 1\n",
        "          \n",
        "    return df1\n",
        "\n",
        "newdata = imputar_outlet(df1)\n",
        "newdata"
      ],
      "metadata": {
        "id": "Sj81hXixv1_d",
        "colab": {
          "base_uri": "https://localhost:8080/",
          "height": 661
        },
        "outputId": "1db32d64-ae9e-4af4-aa6e-2e7d4b8d42b5"
      },
      "execution_count": 234,
      "outputs": [
        {
          "output_type": "execute_result",
          "data": {
            "text/plain": [
              "     Item_Identifier  Item_Weight Item_Fat_Content  Item_Visibility  \\\n",
              "0              FDA15        9.300          Low Fat         0.016047   \n",
              "1              DRC01        5.920          Regular         0.019278   \n",
              "2              FDN15       17.500          Low Fat         0.016760   \n",
              "3              FDX07       19.200          Regular         0.000000   \n",
              "4              NCD19        8.930          Low Fat         0.000000   \n",
              "...              ...          ...              ...              ...   \n",
              "8518           FDF22        6.865          Low Fat         0.056783   \n",
              "8519           FDS36        8.380          Regular         0.046982   \n",
              "8520           NCJ29       10.600          Low Fat         0.035186   \n",
              "8521           FDN46        7.210          Regular         0.145221   \n",
              "8522           DRG01       14.800          Low Fat         0.044878   \n",
              "\n",
              "                  Item_Type  Item_MRP Outlet_Identifier  \\\n",
              "0                     Dairy  249.8092            OUT049   \n",
              "1               Soft Drinks   48.2692            OUT018   \n",
              "2                      Meat  141.6180            OUT049   \n",
              "3     Fruits and Vegetables  182.0950            OUT010   \n",
              "4                 Household   53.8614            OUT013   \n",
              "...                     ...       ...               ...   \n",
              "8518            Snack Foods  214.5218            OUT013   \n",
              "8519           Baking Goods  108.1570            OUT045   \n",
              "8520     Health and Hygiene   85.1224            OUT035   \n",
              "8521            Snack Foods  103.1332            OUT018   \n",
              "8522            Soft Drinks   75.4670            OUT046   \n",
              "\n",
              "      Outlet_Establishment_Year Outlet_Size Outlet_Location_Type  \\\n",
              "0                          1999      Medium               Tier 1   \n",
              "1                          2009      Medium               Tier 3   \n",
              "2                          1999      Medium               Tier 1   \n",
              "3                          1998       Small               Tier 3   \n",
              "4                          1987        High               Tier 3   \n",
              "...                         ...         ...                  ...   \n",
              "8518                       1987        High               Tier 3   \n",
              "8519                       2002        High               Tier 2   \n",
              "8520                       2004       Small               Tier 2   \n",
              "8521                       2009      Medium               Tier 3   \n",
              "8522                       1997       Small               Tier 1   \n",
              "\n",
              "            Outlet_Type  Item_Outlet_Sales  \n",
              "0     Supermarket Type1          3735.1380  \n",
              "1     Supermarket Type2           443.4228  \n",
              "2     Supermarket Type1          2097.2700  \n",
              "3         Grocery Store           732.3800  \n",
              "4     Supermarket Type1           994.7052  \n",
              "...                 ...                ...  \n",
              "8518  Supermarket Type1          2778.3834  \n",
              "8519  Supermarket Type1           549.2850  \n",
              "8520  Supermarket Type1          1193.1136  \n",
              "8521  Supermarket Type2          1845.5976  \n",
              "8522  Supermarket Type1           765.6700  \n",
              "\n",
              "[8523 rows x 12 columns]"
            ],
            "text/html": [
              "\n",
              "  <div id=\"df-5df02437-b619-41b4-94a3-9d84f2ee1068\">\n",
              "    <div class=\"colab-df-container\">\n",
              "      <div>\n",
              "<style scoped>\n",
              "    .dataframe tbody tr th:only-of-type {\n",
              "        vertical-align: middle;\n",
              "    }\n",
              "\n",
              "    .dataframe tbody tr th {\n",
              "        vertical-align: top;\n",
              "    }\n",
              "\n",
              "    .dataframe thead th {\n",
              "        text-align: right;\n",
              "    }\n",
              "</style>\n",
              "<table border=\"1\" class=\"dataframe\">\n",
              "  <thead>\n",
              "    <tr style=\"text-align: right;\">\n",
              "      <th></th>\n",
              "      <th>Item_Identifier</th>\n",
              "      <th>Item_Weight</th>\n",
              "      <th>Item_Fat_Content</th>\n",
              "      <th>Item_Visibility</th>\n",
              "      <th>Item_Type</th>\n",
              "      <th>Item_MRP</th>\n",
              "      <th>Outlet_Identifier</th>\n",
              "      <th>Outlet_Establishment_Year</th>\n",
              "      <th>Outlet_Size</th>\n",
              "      <th>Outlet_Location_Type</th>\n",
              "      <th>Outlet_Type</th>\n",
              "      <th>Item_Outlet_Sales</th>\n",
              "    </tr>\n",
              "  </thead>\n",
              "  <tbody>\n",
              "    <tr>\n",
              "      <th>0</th>\n",
              "      <td>FDA15</td>\n",
              "      <td>9.300</td>\n",
              "      <td>Low Fat</td>\n",
              "      <td>0.016047</td>\n",
              "      <td>Dairy</td>\n",
              "      <td>249.8092</td>\n",
              "      <td>OUT049</td>\n",
              "      <td>1999</td>\n",
              "      <td>Medium</td>\n",
              "      <td>Tier 1</td>\n",
              "      <td>Supermarket Type1</td>\n",
              "      <td>3735.1380</td>\n",
              "    </tr>\n",
              "    <tr>\n",
              "      <th>1</th>\n",
              "      <td>DRC01</td>\n",
              "      <td>5.920</td>\n",
              "      <td>Regular</td>\n",
              "      <td>0.019278</td>\n",
              "      <td>Soft Drinks</td>\n",
              "      <td>48.2692</td>\n",
              "      <td>OUT018</td>\n",
              "      <td>2009</td>\n",
              "      <td>Medium</td>\n",
              "      <td>Tier 3</td>\n",
              "      <td>Supermarket Type2</td>\n",
              "      <td>443.4228</td>\n",
              "    </tr>\n",
              "    <tr>\n",
              "      <th>2</th>\n",
              "      <td>FDN15</td>\n",
              "      <td>17.500</td>\n",
              "      <td>Low Fat</td>\n",
              "      <td>0.016760</td>\n",
              "      <td>Meat</td>\n",
              "      <td>141.6180</td>\n",
              "      <td>OUT049</td>\n",
              "      <td>1999</td>\n",
              "      <td>Medium</td>\n",
              "      <td>Tier 1</td>\n",
              "      <td>Supermarket Type1</td>\n",
              "      <td>2097.2700</td>\n",
              "    </tr>\n",
              "    <tr>\n",
              "      <th>3</th>\n",
              "      <td>FDX07</td>\n",
              "      <td>19.200</td>\n",
              "      <td>Regular</td>\n",
              "      <td>0.000000</td>\n",
              "      <td>Fruits and Vegetables</td>\n",
              "      <td>182.0950</td>\n",
              "      <td>OUT010</td>\n",
              "      <td>1998</td>\n",
              "      <td>Small</td>\n",
              "      <td>Tier 3</td>\n",
              "      <td>Grocery Store</td>\n",
              "      <td>732.3800</td>\n",
              "    </tr>\n",
              "    <tr>\n",
              "      <th>4</th>\n",
              "      <td>NCD19</td>\n",
              "      <td>8.930</td>\n",
              "      <td>Low Fat</td>\n",
              "      <td>0.000000</td>\n",
              "      <td>Household</td>\n",
              "      <td>53.8614</td>\n",
              "      <td>OUT013</td>\n",
              "      <td>1987</td>\n",
              "      <td>High</td>\n",
              "      <td>Tier 3</td>\n",
              "      <td>Supermarket Type1</td>\n",
              "      <td>994.7052</td>\n",
              "    </tr>\n",
              "    <tr>\n",
              "      <th>...</th>\n",
              "      <td>...</td>\n",
              "      <td>...</td>\n",
              "      <td>...</td>\n",
              "      <td>...</td>\n",
              "      <td>...</td>\n",
              "      <td>...</td>\n",
              "      <td>...</td>\n",
              "      <td>...</td>\n",
              "      <td>...</td>\n",
              "      <td>...</td>\n",
              "      <td>...</td>\n",
              "      <td>...</td>\n",
              "    </tr>\n",
              "    <tr>\n",
              "      <th>8518</th>\n",
              "      <td>FDF22</td>\n",
              "      <td>6.865</td>\n",
              "      <td>Low Fat</td>\n",
              "      <td>0.056783</td>\n",
              "      <td>Snack Foods</td>\n",
              "      <td>214.5218</td>\n",
              "      <td>OUT013</td>\n",
              "      <td>1987</td>\n",
              "      <td>High</td>\n",
              "      <td>Tier 3</td>\n",
              "      <td>Supermarket Type1</td>\n",
              "      <td>2778.3834</td>\n",
              "    </tr>\n",
              "    <tr>\n",
              "      <th>8519</th>\n",
              "      <td>FDS36</td>\n",
              "      <td>8.380</td>\n",
              "      <td>Regular</td>\n",
              "      <td>0.046982</td>\n",
              "      <td>Baking Goods</td>\n",
              "      <td>108.1570</td>\n",
              "      <td>OUT045</td>\n",
              "      <td>2002</td>\n",
              "      <td>High</td>\n",
              "      <td>Tier 2</td>\n",
              "      <td>Supermarket Type1</td>\n",
              "      <td>549.2850</td>\n",
              "    </tr>\n",
              "    <tr>\n",
              "      <th>8520</th>\n",
              "      <td>NCJ29</td>\n",
              "      <td>10.600</td>\n",
              "      <td>Low Fat</td>\n",
              "      <td>0.035186</td>\n",
              "      <td>Health and Hygiene</td>\n",
              "      <td>85.1224</td>\n",
              "      <td>OUT035</td>\n",
              "      <td>2004</td>\n",
              "      <td>Small</td>\n",
              "      <td>Tier 2</td>\n",
              "      <td>Supermarket Type1</td>\n",
              "      <td>1193.1136</td>\n",
              "    </tr>\n",
              "    <tr>\n",
              "      <th>8521</th>\n",
              "      <td>FDN46</td>\n",
              "      <td>7.210</td>\n",
              "      <td>Regular</td>\n",
              "      <td>0.145221</td>\n",
              "      <td>Snack Foods</td>\n",
              "      <td>103.1332</td>\n",
              "      <td>OUT018</td>\n",
              "      <td>2009</td>\n",
              "      <td>Medium</td>\n",
              "      <td>Tier 3</td>\n",
              "      <td>Supermarket Type2</td>\n",
              "      <td>1845.5976</td>\n",
              "    </tr>\n",
              "    <tr>\n",
              "      <th>8522</th>\n",
              "      <td>DRG01</td>\n",
              "      <td>14.800</td>\n",
              "      <td>Low Fat</td>\n",
              "      <td>0.044878</td>\n",
              "      <td>Soft Drinks</td>\n",
              "      <td>75.4670</td>\n",
              "      <td>OUT046</td>\n",
              "      <td>1997</td>\n",
              "      <td>Small</td>\n",
              "      <td>Tier 1</td>\n",
              "      <td>Supermarket Type1</td>\n",
              "      <td>765.6700</td>\n",
              "    </tr>\n",
              "  </tbody>\n",
              "</table>\n",
              "<p>8523 rows × 12 columns</p>\n",
              "</div>\n",
              "      <button class=\"colab-df-convert\" onclick=\"convertToInteractive('df-5df02437-b619-41b4-94a3-9d84f2ee1068')\"\n",
              "              title=\"Convert this dataframe to an interactive table.\"\n",
              "              style=\"display:none;\">\n",
              "        \n",
              "  <svg xmlns=\"http://www.w3.org/2000/svg\" height=\"24px\"viewBox=\"0 0 24 24\"\n",
              "       width=\"24px\">\n",
              "    <path d=\"M0 0h24v24H0V0z\" fill=\"none\"/>\n",
              "    <path d=\"M18.56 5.44l.94 2.06.94-2.06 2.06-.94-2.06-.94-.94-2.06-.94 2.06-2.06.94zm-11 1L8.5 8.5l.94-2.06 2.06-.94-2.06-.94L8.5 2.5l-.94 2.06-2.06.94zm10 10l.94 2.06.94-2.06 2.06-.94-2.06-.94-.94-2.06-.94 2.06-2.06.94z\"/><path d=\"M17.41 7.96l-1.37-1.37c-.4-.4-.92-.59-1.43-.59-.52 0-1.04.2-1.43.59L10.3 9.45l-7.72 7.72c-.78.78-.78 2.05 0 2.83L4 21.41c.39.39.9.59 1.41.59.51 0 1.02-.2 1.41-.59l7.78-7.78 2.81-2.81c.8-.78.8-2.07 0-2.86zM5.41 20L4 18.59l7.72-7.72 1.47 1.35L5.41 20z\"/>\n",
              "  </svg>\n",
              "      </button>\n",
              "      \n",
              "  <style>\n",
              "    .colab-df-container {\n",
              "      display:flex;\n",
              "      flex-wrap:wrap;\n",
              "      gap: 12px;\n",
              "    }\n",
              "\n",
              "    .colab-df-convert {\n",
              "      background-color: #E8F0FE;\n",
              "      border: none;\n",
              "      border-radius: 50%;\n",
              "      cursor: pointer;\n",
              "      display: none;\n",
              "      fill: #1967D2;\n",
              "      height: 32px;\n",
              "      padding: 0 0 0 0;\n",
              "      width: 32px;\n",
              "    }\n",
              "\n",
              "    .colab-df-convert:hover {\n",
              "      background-color: #E2EBFA;\n",
              "      box-shadow: 0px 1px 2px rgba(60, 64, 67, 0.3), 0px 1px 3px 1px rgba(60, 64, 67, 0.15);\n",
              "      fill: #174EA6;\n",
              "    }\n",
              "\n",
              "    [theme=dark] .colab-df-convert {\n",
              "      background-color: #3B4455;\n",
              "      fill: #D2E3FC;\n",
              "    }\n",
              "\n",
              "    [theme=dark] .colab-df-convert:hover {\n",
              "      background-color: #434B5C;\n",
              "      box-shadow: 0px 1px 3px 1px rgba(0, 0, 0, 0.15);\n",
              "      filter: drop-shadow(0px 1px 2px rgba(0, 0, 0, 0.3));\n",
              "      fill: #FFFFFF;\n",
              "    }\n",
              "  </style>\n",
              "\n",
              "      <script>\n",
              "        const buttonEl =\n",
              "          document.querySelector('#df-5df02437-b619-41b4-94a3-9d84f2ee1068 button.colab-df-convert');\n",
              "        buttonEl.style.display =\n",
              "          google.colab.kernel.accessAllowed ? 'block' : 'none';\n",
              "\n",
              "        async function convertToInteractive(key) {\n",
              "          const element = document.querySelector('#df-5df02437-b619-41b4-94a3-9d84f2ee1068');\n",
              "          const dataTable =\n",
              "            await google.colab.kernel.invokeFunction('convertToInteractive',\n",
              "                                                     [key], {});\n",
              "          if (!dataTable) return;\n",
              "\n",
              "          const docLinkHtml = 'Like what you see? Visit the ' +\n",
              "            '<a target=\"_blank\" href=https://colab.research.google.com/notebooks/data_table.ipynb>data table notebook</a>'\n",
              "            + ' to learn more about interactive tables.';\n",
              "          element.innerHTML = '';\n",
              "          dataTable['output_type'] = 'display_data';\n",
              "          await google.colab.output.renderOutput(dataTable, element);\n",
              "          const docLink = document.createElement('div');\n",
              "          docLink.innerHTML = docLinkHtml;\n",
              "          element.appendChild(docLink);\n",
              "        }\n",
              "      </script>\n",
              "    </div>\n",
              "  </div>\n",
              "  "
            ]
          },
          "metadata": {},
          "execution_count": 234
        }
      ]
    },
    {
      "cell_type": "markdown",
      "source": [
        "Tomando en cuenta el tipo de comercio en la columna de Outlet_Type pude encontrar un patron en la columna Outlet_Size donde se encontraban los valores nulos, observe que el comercio Type1 es el que tiene mas entradas de datos y segun y tambien que seguian un patron desorganizado pero sin repetir categorias de peso como podran observas en la imagen de abajo. Es por esto que la funcion que vemos arriba busca estos valores faltantes tomando como referencia la columna Outlet_Identifier para luego asignarle el pero a la columna de Outlet_Size."
      ],
      "metadata": {
        "id": "hoNyGjMo_iWq"
      }
    },
    {
      "cell_type": "markdown",
      "source": [
        "![outlet_weight.JPG](data:image/jpeg;base64,/9j/4AAQSkZJRgABAQEAYABgAAD/4REERXhpZgAATU0AKgAAAAgABAE7AAIAAAATAAAISodpAAQAAAABAAAIXpydAAEAAAAmAAAQ1uocAAcAAAgMAAAAPgAAAAAc6gAAAAgAAAAAAAAAAAAAAAAAAAAAAAAAAAAAAAAAAAAAAAAAAAAAAAAAAAAAAAAAAAAAAAAAAAAAAAAAAAAAAAAAAAAAAAAAAAAAAAAAAAAAAAAAAAAAAAAAAAAAAAAAAAAAAAAAAAAAAAAAAAAAAAAAAAAAAAAAAAAAAAAAAAAAAAAAAAAAAAAAAAAAAAAAAAAAAAAAAAAAAAAAAAAAAAAAAAAAAAAAAAAAAAAAAAAAAAAAAAAAAAAAAAAAAAAAAAAAAAAAAAAAAAAAAAAAAAAAAAAAAAAAAAAAAAAAAAAAAAAAAAAAAAAAAAAAAAAAAAAAAAAAAAAAAAAAAAAAAAAAAAAAAAAAAAAAAAAAAAAAAAAAAAAAAAAAAAAAAAAAAAAAAAAAAAAAAAAAAAAAAAAAAAAAAAAAAAAAAAAAAAAAAAAAAAAAAAAAAAAAAAAAAAAAAAAAAAAAAAAAAAAAAAAAAAAAAAAAAAAAAAAAAAAAAAAAAAAAAAAAAAAAAAAAAAAAAAAAAAAAAAAAAAAAAAAAAAAAAAAAAAAAAAAAAAAAAAAAAAAAAAAAAAAAAAAAAAAAAAAAAAAAAAAAAAAAAAAAAAAAAAAAAAAAAAAAAAAAAAAAAAAAAAAAAAAAAAAAAAAAAAAAAAAAAAAAAAAAAAAAAAAAAAAAAAAAAAAAAAAAAAAAAAAAAAAAAAAAAAAAAAAAAAAAAAAAAAAAAAAAAAAAAAAAAAAAAAAAAAAAAAAAAAAAAAAAAAAAAAAAAAAAAAAAAAAAAAAAAAAAAAAAAAAAAAAAAAAAAAAAAAAAAAAAAAAAAAAAAAAAAAAAAAAAAAAAAAAAAAAAAAAAAAAAAAAAAAAAAAAAAAAAAAAAAAAAAAAAAAAAAAAAAAAAAAAAAAAAAAAAAAAAAAAAAAAAAAAAAAAAAAAAAAAAAAAAAAAAAAAAAAAAAAAAAAAAAAAAAAAAAAAAAAAAAAAAAAAAAAAAAAAAAAAAAAAAAAAAAAAAAAAAAAAAAAAAAAAAAAAAAAAAAAAAAAAAAAAAAAAAAAAAAAAAAAAAAAAAAAAAAAAAAAAAAAAAAAAAAAAAAAAAAAAAAAAAAAAAAAAAAAAAAAAAAAAAAAAAAAAAAAAAAAAAAAAAAAAAAAAAAAAAAAAAAAAAAAAAAAAAAAAAAAAAAAAAAAAAAAAAAAAAAAAAAAAAAAAAAAAAAAAAAAAAAAAAAAAAAAAAAAAAAAAAAAAAAAAAAAAAAAAAAAAAAAAAAAAAAAAAAAAAAAAAAAAAAAAAAAAAAAAAAAAAAAAAAAAAAAAAAAAAAAAAAAAAAAAAAAAAAAAAAAAAAAAAAAAAAAAAAAAAAAAAAAAAAAAAAAAAAAAAAAAAAAAAAAAAAAAAAAAAAAAAAAAAAAAAAAAAAAAAAAAAAAAAAAAAAAAAAAAAAAAAAAAAAAAAAAAAAAAAAAAAAAAAAAAAAAAAAAAAAAAAAAAAAAAAAAAAAAAAAAAAAAAAAAAAAAAAAAAAAAAAAAAAAAAAAAAAAAAAAAAAAAAAAAAAAAAAAAAAAAAAAAAAAAAAAAAAAAAAAAAAAAAAAAAAAAAAAAAAAAAAAAAAAAAAAAAAAAAAAAAAAAAAAAAAAAAAAAAAAAAAAAAAAAAAAAAAAAAAAAAAAAAAAAAAAAAAAAAAAAAAAAAAAAAAAAAAAAAAAAAAAAAAAAAAAAAAAAAAAAAAAAAAAAAAAAAAAAAAAAAAAAAAAAAAAAAAAAAAAAAAAAAAAAAAAAAAAAAAAAAAAAAAAAAAAAAAAAAAAAAAAAAAAAAAAAAAAAAAAAAAAAAAAAAAAAAAAAAAAAAAAAAAAAAAAAAAAAAAAAAAAAAAAAAAAAAAAAAAAAAAAAAAAAAAAAAAAAAAAAAAAAAAAAAAAAAAAAAAAAAAAAAAAAAAAAAAAAAAAAAAAAAAAAAAAAAAAAAAAAAAAAAAAAAAAAAAAAAAAAAAAAAAAAAAAAAAAAAAAAAAAAAAAAAAAAAAAAAAAAAAAAAAAAAAAAAAAAAAAAAAAAAAAAAAAAAAAAAAAAAAAAAAAAAAAAAAAAAAAAAAAAAAAAAAAAAAAAAAAAAAAAAAAAAAAAAAAAAAAAAAAAAAAAAAAAAAAAAAAAAAAAAAAAAAAAAAAAAAAAAAAAAAAAAAAAAAAAAAAAAAAAAAAAAAAAAAAAAAAAAAAAAAAAAAAAAAAAAAAAAAAAAAAAAAAAAAAAAAAAAAAAAAAAAAAAAAAAAAAAAAAAAAAAAAAAAAAAAAAAAAAAAAAAAAAAAAAAAAAAAAAAAAAAAAAAAAAAAAAAAAAAAAAAAAAAAAAAAAAAAAAAAAAAAAAAAAAAAAAAAAAAAAAAAAAAAAAAAAAAAAAAAAAAAAAAAAAAAAAAAAAAAAAAAAAAAAAAAAAAAAAAAAAAAAAAAAAAAAAAAAAAAAAAAAAAAAAAAAAAAAAAAAAAAAAAAAAAAAAAAAAAAAAAAAAAAAAAAAAAAAAAAAAAAAAAAAAAAAAAAAAAAAAAAAAAAAAAAAAAAAAAAAAAAAAAAAAAAAAAAAAAAAAAAAAAAAAAAAAAAAAAAAAAAAAAAAAAAAAAAAAAAAAAAAAAAAAAAAAAAAAAAAAAAAAAAAAAAAAAAAAAAAAAAAAAAAAAAAAAAAAAAAAAAAAAAAAAAAAAAAAAAAAAAAAAAAAAAAAAAAAAAAAAAAAAAAAAAAAAAAAAAAAAAAAAAAAAAAAAAAAAAAAAAAAAAAAEhhcmR3YXJlIEdhbWluZyBQQwAAAAWQAwACAAAAFAAAEKyQBAACAAAAFAAAEMCSkQACAAAAAzExAACSkgACAAAAAzExAADqHAAHAAAIDAAACKAAAAAAHOoAAAAIAAAAAAAAAAAAAAAAAAAAAAAAAAAAAAAAAAAAAAAAAAAAAAAAAAAAAAAAAAAAAAAAAAAAAAAAAAAAAAAAAAAAAAAAAAAAAAAAAAAAAAAAAAAAAAAAAAAAAAAAAAAAAAAAAAAAAAAAAAAAAAAAAAAAAAAAAAAAAAAAAAAAAAAAAAAAAAAAAAAAAAAAAAAAAAAAAAAAAAAAAAAAAAAAAAAAAAAAAAAAAAAAAAAAAAAAAAAAAAAAAAAAAAAAAAAAAAAAAAAAAAAAAAAAAAAAAAAAAAAAAAAAAAAAAAAAAAAAAAAAAAAAAAAAAAAAAAAAAAAAAAAAAAAAAAAAAAAAAAAAAAAAAAAAAAAAAAAAAAAAAAAAAAAAAAAAAAAAAAAAAAAAAAAAAAAAAAAAAAAAAAAAAAAAAAAAAAAAAAAAAAAAAAAAAAAAAAAAAAAAAAAAAAAAAAAAAAAAAAAAAAAAAAAAAAAAAAAAAAAAAAAAAAAAAAAAAAAAAAAAAAAAAAAAAAAAAAAAAAAAAAAAAAAAAAAAAAAAAAAAAAAAAAAAAAAAAAAAAAAAAAAAAAAAAAAAAAAAAAAAAAAAAAAAAAAAAAAAAAAAAAAAAAAAAAAAAAAAAAAAAAAAAAAAAAAAAAAAAAAAAAAAAAAAAAAAAAAAAAAAAAAAAAAAAAAAAAAAAAAAAAAAAAAAAAAAAAAAAAAAAAAAAAAAAAAAAAAAAAAAAAAAAAAAAAAAAAAAAAAAAAAAAAAAAAAAAAAAAAAAAAAAAAAAAAAAAAAAAAAAAAAAAAAAAAAAAAAAAAAAAAAAAAAAAAAAAAAAAAAAAAAAAAAAAAAAAAAAAAAAAAAAAAAAAAAAAAAAAAAAAAAAAAAAAAAAAAAAAAAAAAAAAAAAAAAAAAAAAAAAAAAAAAAAAAAAAAAAAAAAAAAAAAAAAAAAAAAAAAAAAAAAAAAAAAAAAAAAAAAAAAAAAAAAAAAAAAAAAAAAAAAAAAAAAAAAAAAAAAAAAAAAAAAAAAAAAAAAAAAAAAAAAAAAAAAAAAAAAAAAAAAAAAAAAAAAAAAAAAAAAAAAAAAAAAAAAAAAAAAAAAAAAAAAAAAAAAAAAAAAAAAAAAAAAAAAAAAAAAAAAAAAAAAAAAAAAAAAAAAAAAAAAAAAAAAAAAAAAAAAAAAAAAAAAAAAAAAAAAAAAAAAAAAAAAAAAAAAAAAAAAAAAAAAAAAAAAAAAAAAAAAAAAAAAAAAAAAAAAAAAAAAAAAAAAAAAAAAAAAAAAAAAAAAAAAAAAAAAAAAAAAAAAAAAAAAAAAAAAAAAAAAAAAAAAAAAAAAAAAAAAAAAAAAAAAAAAAAAAAAAAAAAAAAAAAAAAAAAAAAAAAAAAAAAAAAAAAAAAAAAAAAAAAAAAAAAAAAAAAAAAAAAAAAAAAAAAAAAAAAAAAAAAAAAAAAAAAAAAAAAAAAAAAAAAAAAAAAAAAAAAAAAAAAAAAAAAAAAAAAAAAAAAAAAAAAAAAAAAAAAAAAAAAAAAAAAAAAAAAAAAAAAAAAAAAAAAAAAAAAAAAAAAAAAAAAAAAAAAAAAAAAAAAAAAAAAAAAAAAAAAAAAAAAAAAAAAAAAAAAAAAAAAAAAAAAAAAAAAAAAAAAAAAAAAAAAAAAAAAAAAAAAAAAAAAAAAAAAAAAAAAAAAAAAAAAAAAAAAAAAAAAAAAAAAAAAAAAAAAAAAAAAAAAAAAAAAAAAAAAAAAAAAAAAAAAAAAAAAAAAAAAAAAAAAAAAAAAAAAAAAAAAAAAAAAAAAAAAAAAAAAAAAAAAAAAAAAAAAAAAAAAAAAAAAAAAAAAAAAAAAAAAAAAAAAAAAAAAAAAAAAAAAAAAAAAAAAAAAAAAAAAAAAAAAAAAAAAAAAAAAAAAAAAAAAAAAAAAAAAAAAAAAAAAAAAAAAAAAAAAAAAAAAAAAAAAAAAAAAAAAAAAAAAAAAAAAAAAAAAAAAAAAAAAAAAAAAAAAAAAAAAAAAAAAAAAAAAAAAAAAAAAAAAAAAAAAAAAAAAAAAAAAAAAAAAAAAAAAAAAAAAAAAAAAAAAAAAAAAAAAAAAAAAAAAAAAAAAAAAAAAAAAAAAAAAAAAAAAAAAAAAAAAAAAAAAAAAAAAAAAAAAAAAAAAAAAAAAAAAAAAAAAAAAAAAAAAAAAAAAAAAAAAAAAAAAAAAAAAAAAAAAAAAAAAAAAAAAAAAAAAAAAAAAAAAAAAAAAAAAAAAAAAAAAAAAAAAAAAAAAAAAAAAAAAAAAAAAAAAAAAAAAAAAAAAAAAAAAAAAAAAAAAAAAAAAAAAAAAAAAAAAAAAAAAAAAAAAAAAAAAAAAAAAAAAAAAAAAAAAAAAAAAAAAAAAAAAAAAAAAAAAAAAAAAAAAAAAAAAAAAAAAAAAAAAAAAAAAAAAAAAAAAAAAAAAAAAAAAAAAAAAAAAAAAAAAAAAAAAAAAAAAAAAAAAAAAAAAAAAAAAAAAAAAAAAAAAAAAAAAAAAAAAAAAAAAAAAAAAAAAAAAAAAAAAAAAAAAAAAAAAAAAAAAAAAAAAAAAAAAAAAAAAAAAAAAAAAAAAAAAAAAAAAAAAAAAAAAAAAAAAAAAAAAAAAAAAAAAAAAAAAAAAAAAAAAAAAAAAAAAAAAAAAAAAAAAAAAAAAAAAAAAAAAAAAAAAAAAAAAAAAAAAAAAAAAAAAAAAAAAAAAAAAAAAAAAAAAAAAAAAAAAAAAAAAAAAAAAAAAAAAAAAAAAAAAAAAAAyMDIyOjEyOjAxIDIzOjExOjU2ADIwMjI6MTI6MDEgMjM6MTE6NTYAAABIAGEAcgBkAHcAYQByAGUAIABHAGEAbQBpAG4AZwAgAFAAQwAAAP/hCyVodHRwOi8vbnMuYWRvYmUuY29tL3hhcC8xLjAvADw/eHBhY2tldCBiZWdpbj0n77u/JyBpZD0nVzVNME1wQ2VoaUh6cmVTek5UY3prYzlkJz8+DQo8eDp4bXBtZXRhIHhtbG5zOng9ImFkb2JlOm5zOm1ldGEvIj48cmRmOlJERiB4bWxuczpyZGY9Imh0dHA6Ly93d3cudzMub3JnLzE5OTkvMDIvMjItcmRmLXN5bnRheC1ucyMiPjxyZGY6RGVzY3JpcHRpb24gcmRmOmFib3V0PSJ1dWlkOmZhZjViZGQ1LWJhM2QtMTFkYS1hZDMxLWQzM2Q3NTE4MmYxYiIgeG1sbnM6ZGM9Imh0dHA6Ly9wdXJsLm9yZy9kYy9lbGVtZW50cy8xLjEvIi8+PHJkZjpEZXNjcmlwdGlvbiByZGY6YWJvdXQ9InV1aWQ6ZmFmNWJkZDUtYmEzZC0xMWRhLWFkMzEtZDMzZDc1MTgyZjFiIiB4bWxuczp4bXA9Imh0dHA6Ly9ucy5hZG9iZS5jb20veGFwLzEuMC8iPjx4bXA6Q3JlYXRlRGF0ZT4yMDIyLTEyLTAxVDIzOjExOjU2LjEwNjwveG1wOkNyZWF0ZURhdGU+PC9yZGY6RGVzY3JpcHRpb24+PHJkZjpEZXNjcmlwdGlvbiByZGY6YWJvdXQ9InV1aWQ6ZmFmNWJkZDUtYmEzZC0xMWRhLWFkMzEtZDMzZDc1MTgyZjFiIiB4bWxuczpkYz0iaHR0cDovL3B1cmwub3JnL2RjL2VsZW1lbnRzLzEuMS8iPjxkYzpjcmVhdG9yPjxyZGY6U2VxIHhtbG5zOnJkZj0iaHR0cDovL3d3dy53My5vcmcvMTk5OS8wMi8yMi1yZGYtc3ludGF4LW5zIyI+PHJkZjpsaT5IYXJkd2FyZSBHYW1pbmcgUEM8L3JkZjpsaT48L3JkZjpTZXE+DQoJCQk8L2RjOmNyZWF0b3I+PC9yZGY6RGVzY3JpcHRpb24+PC9yZGY6UkRGPjwveDp4bXBtZXRhPg0KICAgICAgICAgICAgICAgICAgICAgICAgICAgICAgICAgICAgICAgICAgICAgICAgICAgICAgICAgICAgICAgICAgICAgICAgICAgICAgICAgICAgICAgICAgICAgICAgICAgIAogICAgICAgICAgICAgICAgICAgICAgICAgICAgICAgICAgICAgICAgICAgICAgICAgICAgICAgICAgICAgICAgICAgICAgICAgICAgICAgICAgICAgICAgICAgICAgICAgICAgCiAgICAgICAgICAgICAgICAgICAgICAgICAgICAgICAgICAgICAgICAgICAgICAgICAgICAgICAgICAgICAgICAgICAgICAgICAgICAgICAgICAgICAgICAgICAgICAgICAgICAKICAgICAgICAgICAgICAgICAgICAgICAgICAgICAgICAgICAgICAgICAgICAgICAgICAgICAgICAgICAgICAgICAgICAgICAgICAgICAgICAgICAgICAgICAgICAgICAgICAgIAogICAgICAgICAgICAgICAgICAgICAgICAgICAgICAgICAgICAgICAgICAgICAgICAgICAgICAgICAgICAgICAgICAgICAgICAgICAgICAgICAgICAgICAgICAgICAgICAgICAgCiAgICAgICAgICAgICAgICAgICAgICAgICAgICAgICAgICAgICAgICAgICAgICAgICAgICAgICAgICAgICAgICAgICAgICAgICAgICAgICAgICAgICAgICAgICAgICAgICAgICAKICAgICAgICAgICAgICAgICAgICAgICAgICAgICAgICAgICAgICAgICAgICAgICAgICAgICAgICAgICAgICAgICAgICAgICAgICAgICAgICAgICAgICAgICAgICAgICAgICAgIAogICAgICAgICAgICAgICAgICAgICAgICAgICAgICAgICAgICAgICAgICAgICAgICAgICAgICAgICAgICAgICAgICAgICAgICAgICAgICAgICAgICAgICAgICAgICAgICAgICAgCiAgICAgICAgICAgICAgICAgICAgICAgICAgICAgICAgICAgICAgICAgICAgICAgICAgICAgICAgICAgICAgICAgICAgICAgICAgICAgICAgICAgICAgICAgICAgICAgICAgICAKICAgICAgICAgICAgICAgICAgICAgICAgICAgICAgICAgICAgICAgICAgICAgICAgICAgICAgICAgICAgICAgICAgICAgICAgICAgICAgICAgICAgICAgICAgICAgICAgICAgIAogICAgICAgICAgICAgICAgICAgICAgICAgICAgICAgICAgICAgICAgICAgICAgICAgICAgICAgICAgICAgICAgICAgICAgICAgICAgICAgICAgICAgICAgICAgICAgICAgICAgCiAgICAgICAgICAgICAgICAgICAgICAgICAgICAgICAgICAgICAgICAgICAgICAgICAgICAgICAgICAgICAgICAgICAgICAgICAgICAgICAgICAgICAgICAgICAgICAgICAgICAKICAgICAgICAgICAgICAgICAgICAgICAgICAgICAgICAgICAgICAgICAgICAgICAgICAgICAgICAgICAgICAgICAgICAgICAgICAgICAgICAgICAgICAgICAgICAgICAgICAgIAogICAgICAgICAgICAgICAgICAgICAgICAgICAgICAgICAgICAgICAgICAgICAgICAgICAgICAgICAgICAgICAgICAgICAgICAgICAgICAgICAgICAgICAgICAgICAgICAgICAgCiAgICAgICAgICAgICAgICAgICAgICAgICAgICAgICAgICAgICAgICAgICAgICAgICAgICAgICAgICAgICAgICAgICAgICAgICAgICAgICAgICAgICAgICAgICAgICAgICAgICAKICAgICAgICAgICAgICAgICAgICAgICAgICAgICAgICAgICAgICAgICAgICAgICAgICAgICAgICAgICAgICAgICAgICAgICAgICAgICAgICAgICAgICAgICAgICAgICAgICAgIAogICAgICAgICAgICAgICAgICAgICAgICAgICAgICAgICAgICAgICAgICAgICAgICAgICAgICAgICAgICAgICAgICAgICAgICAgICAgICAgICAgICAgICAgICAgICAgICAgICAgCiAgICAgICAgICAgICAgICAgICAgICAgICAgICAgICAgICAgICAgICAgICAgICAgICAgICAgICAgICAgICAgICAgICAgICAgICAgICAgICAgICAgICAgICAgICAgICAgICAgICAKICAgICAgICAgICAgICAgICAgICAgICAgICAgICAgICAgICAgICAgICAgICAgICAgICAgICAgICAgICAgICAgICAgICAgICAgICAgICAgICAgICAgICAgICAgICAgICAgICAgIAogICAgICAgICAgICAgICAgICAgICAgICAgICAgICAgICAgICAgICAgICAgICAgICAgICAgICAgICAgICAgICAgICAgICAgICAgICAgICAgICAgICAgICAgICAgICAgICAgICAgCiAgICAgICAgICAgICAgICAgICAgICAgICAgICA8P3hwYWNrZXQgZW5kPSd3Jz8+/9sAQwAHBQUGBQQHBgUGCAcHCAoRCwoJCQoVDxAMERgVGhkYFRgXGx4nIRsdJR0XGCIuIiUoKSssKxogLzMvKjInKisq/9sAQwEHCAgKCQoUCwsUKhwYHCoqKioqKioqKioqKioqKioqKioqKioqKioqKioqKioqKioqKioqKioqKioqKioqKioq/8AAEQgBRQHfAwEiAAIRAQMRAf/EAB8AAAEFAQEBAQEBAAAAAAAAAAABAgMEBQYHCAkKC//EALUQAAIBAwMCBAMFBQQEAAABfQECAwAEEQUSITFBBhNRYQcicRQygZGhCCNCscEVUtHwJDNicoIJChYXGBkaJSYnKCkqNDU2Nzg5OkNERUZHSElKU1RVVldYWVpjZGVmZ2hpanN0dXZ3eHl6g4SFhoeIiYqSk5SVlpeYmZqio6Slpqeoqaqys7S1tre4ubrCw8TFxsfIycrS09TV1tfY2drh4uPk5ebn6Onq8fLz9PX29/j5+v/EAB8BAAMBAQEBAQEBAQEAAAAAAAABAgMEBQYHCAkKC//EALURAAIBAgQEAwQHBQQEAAECdwABAgMRBAUhMQYSQVEHYXETIjKBCBRCkaGxwQkjM1LwFWJy0QoWJDThJfEXGBkaJicoKSo1Njc4OTpDREVGR0hJSlNUVVZXWFlaY2RlZmdoaWpzdHV2d3h5eoKDhIWGh4iJipKTlJWWl5iZmqKjpKWmp6ipqrKztLW2t7i5usLDxMXGx8jJytLT1NXW19jZ2uLj5OXm5+jp6vLz9PX29/j5+v/aAAwDAQACEQMRAD8A+h7FgLNmdsASy5JPQb2rnfD/AMUPBninXpdG0DXoLy/i3ExKjqH2nB2MyhX9flJ456c1rytap4bvm1AsLQLcGcorMwTc+7AUEk4zwBmvEfA+rxaB4w8MaJYa7oHjXQrhpI9Jl8tP7S0lTGWOQBlFxwc8nH8ONtJP3rP+t/6+8HdRv/X9f1Y+g6K+eNK+IjSfDPwfp7+Jp5PEUviSOC7i+3E3Ri+0vkSDdu2bdo546Cs/WfEE6R+OdSm+Jep6ZrOia3cHStI+3qElUMu1TE3MqnBUL91cHjk5qy+X/Df5luFnbzt+f+R9L0V8w+NvGvjW58dX6C+udIubCG2azgHiG20yBGaJXJkhn/4+BvJzyBgbTXfC21vxP8VNRjvfEer6XbadpNjfNY6be7I3nIYlSRkFOGBC43cc8Cpbsk/62b/QzTT2/rVL9T2Civm7wvD4ou9H+H+of8J74iE/iSWezu1e5WRI4lDtlFdTiTC43nJyeMYrXtvEX9n+BdV0HxJ4s1+IQ+K5tHs9UjvkhuNqgOvnXMgOxAclmHzY4AI+WqtrJdv81/mhx1Sl0/4f/JnvVZ413Tm8RtoIuP8AiZrai7MGxuIi20Nuxt6jGM59q+edP8QeIbvwcmm2ni2/kZPG9vpsOpQ6kbpzC6cjz9q+auTkZXB44xVzxvB4l8H+OJ7HwlNquqtF4aUX2p3N0Jb2G2+0u0kiliNzgcLjpxgccLs+/wD8jf8AyuNppf1/Ny/8MfRVMaeJJkheVFlkBKIWAZsdcDvjIr50+JXijVU8Q6TpOg6xqS6ENGju7K6j8Sx6a90zsR5klxPnzeAPkznnPFXdJhu9Q+LngfV/FfiGe0v73Q/Mb7PqUXk3EySKojQplGWQYYqpwx6dKN2l52/P/Iluyv5X/L/M9g8W+O/Dnga3tp/FOo/YY7pikLeRJJuIGSPkU4696reE/iX4S8cXs9p4W1b7dPbx+bKn2aWPaucZy6gHn0rf1b/kC3v/AF7yf+gmvEtM8Q3Hgf4b/DjxXLdXQ0WK0ay1O2jZmRhIhMchQcZDpjOM/NipUkr822n43t+K/EbT05fP8Lfoz3iivnvUL7WLfTfh2PE3jPU9BXxA19daldpfGPyllQPHHl8qgUMqrkfITkYNZWqeNPEmm+DdS0zRfEN9rOkQ+I0sIdd/tBIpngaMyFPtjAqpDYHmnjnsMAW1bff/AIKX5sNLJ9H/AMH/ACPphmCqWYgADJJ7VnaB4h0rxRpK6noN4t5ZNI8azIrAMVYq2MgZGQeeh7V5d8MrK/8AHPgTV9E8X3txeaWt4ohZNfhvp5IsBmhluID8wz2O07Wx0Arc+BEaQ/C6KOJQiJf3iqoHAAnfApbSt5X/AC/zFe6uu9vz/wAjV8OaxY+H/Amqarq8/wBnsrTVtVkml2M2xf7Qn5woJP4Ct3VfEuk6Ja2Nxql35EWoXMdrbN5bt5ksn3FwAcZx1OAO9edeJ/8Ak3nxh/1+av8A+nGeua8YeHvGGmWfgu68ReOP7csX1+wWOy/siG28tiSQ29Dk4AIx3zSh71Tlf938W1/wxVtL+T/Bf1c9u0jX9N11r4aVc+edPu3srn92y+XMmNy/MBnGRyMj3pde17TfDOiXGr63c/ZbG22mWXy2fblgo4UEnkjoK8Q1PxPrCaLrVvceI77TbK48eS6bc6kJzvsbTaDtRznyxkAAjAGT71j+JtSe48J/EjTrTxVd+JdLsrPTFs7q4uPOBzL8x3LhHORguo5xzkgmrir2+X4pP9S+Ve05H3t+Nv0PpcEMoI6HpRXl/h621bw58aF0mfxJqurWeqaK99NDfzB0imWZR+6AAEa4YjaPxzgY9QpdE/63a/QyX9fdcKKKKQwooooAKKKKACiiigDzDwtrNhofws8KXGqT+RFNp9jbo2xmzI8aKo+UHqT16VvX2u6bpurafpl7c+XeakXW0j8tj5hRdzcgYGB6kV5j4jjmm+AfgyK0n+zTv/ZKxT7A/lsQmG2ng4POD1qK+0bxJpPxa8DnxL4q/t8SS3fkj+zo7XycQ8/cJ3ZyOvTHvXNH3m793+SZlyr8G/z/AMj1TRNb0/xFpMWp6NcfabOYsEl2MmdrFTwwB6gjpRqut6foi2h1S48gXt0lpB8jNvlfO1eAcZweTx714lYa/f6h4S8EWWu+LNQ0bT9Rlv2vdVW78uVmjkby4zO2do+vBwB6VFcahe6xpEajXZ9R8vx3bQ2d9Kd2E2Dayg/LjndwApzkDBrT2fv8vn+qX6jcEpNdr/gn/kfQNFefeBIr/R/HXifw9ca3qWr2dpHazwPqU3nSoZFbcN2Bx8o46D8yfQazasQ9HYKKKKQgooooAKKKKACuf8f/APJNfE3/AGCLr/0S1dBXP+P/APkmvib/ALBF1/6JahbjW5o61rem+HdKm1LW7yOztIRl5ZD+gA5JPYDJPasrw18QfC3i+SePw7q8V3LAu+SIo8bhf7wVwCRyOQMciud+KMkFl4g8G6nrW3+wbTUXN4zpuSOQx4hduOAGzz2zVTWdW0fxJ8XPCv8Awil3a6jfWsVy97c2UqyKlsYyoV3XI5cjAzwT2zTWqv6/l/XyK5V+F/x2O5j8V6LN4UbxLHe50hYmmNz5T8IpIJ243dQe1Y+tfFbwZ4euobfWNZ+zyzwJcxr9lmfdG4yrZVD19Oteb2fizQrf9m++0W61S2t9Vhtbi0ewlkCziUyMAPL+8eo5x9ehx1/xBikt/gXHDMhSSOKxR1YcqRJECKvkXNbpdL77/wDAJtZpPz/CxqN8YPAi6Mmqtr6Czkna3RzbTbmdVDEBNm7ADLzjHIGc10V74j0jTvDja9eX8KaWsQm+1A7lKHGCMZJzkYA5Oa4nxFqWn6L8Z7C98RXdvaafJ4fnigkuXCJ5vmqXAJ4yVI471x9x4Zgv/wBmi11HVxO8un2E81nCZGWNd8hKSFOMsEOAT0DH61ErKm5/11/y/EtRTkl6fjb8up6z4h8d+G/CthaXmv6olpDef8e5Mbu0gxnIVQWxgjnHGR61tWd5b6hZQ3djPHcW86B4pY23K6noQa8+8R6zpFrp+k6XeXlvoWq3mlH7Frt3bRPHbgBRJGGdhhmB6dOR7Ctb4Tzi4+FuiFbUWqpCY1VS21wrFfMG7nDY3c/3qpx38n/n/kZK/Kn3OxoooqBhRRRQAVxvxa1L+yPhdq195XneV5PybtuczIOuD612Vcp8Tb23074dandXj+XDH5W5tpOMyoBwOeprowt/bwtLl1WvbXf5GdX+HLS+m3fyOmXxfpunNJa3FtrLyJK5LW+h3k6HLEjDpEVPB5weDkHkEVmWOq+CdL1KXUdM8MX1nezbvNubfwheRyPuOTlhbgnJ5OeprrLSaO306WaZwkcckzOx6KA7EmuQ8N/F7QfE2v22lQWGsWP25ZG067v7IwwX4TkmFsknjnkDj34qlq7Lc7HotRRf+BReS3Y8KXguZplnlm/4Q+83ySA7g5b7PksCcgnnNY3h+18J6Tfald6lpuqatcXWsTarbS3Hg+93WbSbPlRjCxyCgO4Y7ccV6pRTTtt/W3+SHdtW/r+tTidQ1nwbq19Be6p4b1C9urbBgnufCV7JJFg5G1mtyV55471ZXxX4bS9nvE0fWFurhFjmnHhe+DyqucKzeRkgZOAfWutopWEcXBrvhC2hsorbw7qUMdgxazSPwneqLYnIJjAt/kJyemOpqOfVvBV1Z3FpdeGL+a2upzc3EMnhG8ZJpT1kZTb4ZuB8x5ruKKAOHGreCg4YeGb8MJY5wR4RvMiSMbY3/wCPf7yjhT1A4FWz4r8NnUGvjo+sG8aLyGuD4XvvMMec7C3kZ255x0rrax18TWbeNX8MCOf7aliL8ybR5fllymM5zuyPTGO9G7t/W3+QbL+u/wDmc1cXngO70620+68JXU9la5NvbSeDrto4c9dqm3wufarN5rvhDULmzuL/AMPaldT2J3Wks3hO9drc5ByhNvleQOmOgrtKpyatYRaxDpUl3EL+eJpo7bd87IpALY7DJAyaL2dw6GK/jnRpEZJLHX2Vhhlbw3qBBHp/qK5Lxf8A2J4n8N23hq1TV9K0IOn2q0t/B9/ukjRgwjjYRBYhkc/K3tjv2PjDxgvg+0guJNB1zWFmLBhpFn9oMQAzuf5htHvVHwP8RrXx5ufT/D+v6fbeSJo7vUrIRQzgnGEcMwY96Fq9OgN8pheIJfD/AIg8TeHtTuINbFroy3KPYyeFL+RLlJovLKnMOAAO2DnpxWwmueD49EOjR+HdRXSyCDYr4SvRAQTkjy/s+3rz0612tFO91Yd9vI5DTfFHhjR7FbLSNF1ewtUJKwWvha+iRSTk4VYAOTTrHxX4b0u1+zaZpGsWcG5n8q38L30a7mOScCADJJyTXTXt7a6dYzXl/cR21tAheWaVwqoo6kk9BWV4P8Xad448OR63oqzizlkkjTz0Cs2xipOATwcZHfHUCluxbI43wz4u8OTeFr7T9XsNTuoJtV1IyQSeHryaN1e+nYBh5JGcEZU8g5BAIIrbu/GHhK/igjvtL1O5jtpFlgSbwxeuInX7rKDBwR2I5FYljrVv4c8Fa3rF8kslvZapqssiwgFyBfz9ASBn8akk+Ieir4Z0XXYfPuLPWbqG0t/JVSySSEgBwWAG0ghsEkEd6+AxHE+Np4idOlQTUZuKeurV/wAbanXGhFpNvpf/ADKXjOTwv4o8L3Wk6W2taFJc3a3ks1t4WvWSeTI3GaLyQJgwHIbrgZzjFUfB1l4Z0C31T/hI59W8Rz6msMUwl8HXUFusUIxFGsCwFAB1/LgV6JXNaF480fxBrmt6RZedHe6LK0dxHMqjeASCyYJyuRjsemQMiuKnxljJRlOFBNK19Xp0X+Rbw60uzVPjTwqdQS/OnaqbxIjCtz/wjN95ixk5KBvIyFyAcdKs/wDCxNC/5465/wCE9f8A/wAZqh4Y8RWnizw3aa3p0c0VtdqWRJ1AcYYryASOo9a1qipxpi6c3TnRSa0au9+pMcPGSumQf8LE0L/njrn/AIT1/wD/ABmj/hYmhf8APHXP/Cev/wD4zU9FR/rviP8AnyvvZX1ZdyD/AIWJoX/PHXP/AAnr/wD+M0f8LE0L/njrn/hPX/8A8Zqeij/XfEf8+V97D6su5B/wsTQv+eOuf+E9f/8Axmj/AIWJoX/PHXP/AAnr/wD+M1PRR/rviP8AnyvvYfVl3IP+FiaF/wA8dc/8J6//APjNH/CxNC/5465/4T1//wDGanoo/wBd8R/z5X3sPqy7nmvhXxb4Zf4eeHLLVbW9uTbafaZV9DupkWRI1wykRFTgjIYH3Brbn8Z+FLq7t7q5s7+a4tSxgmk8P3bPCWGG2kw5XI4OOtcPZeIrXwv8LdD1K+huJohY2sey3UM5LRqBgEj+dSa18RdG0PQNM1e5S6lg1MBoEhRS+CuckFh0yAeTya/R023outvma/UKKXvTtpf5E3jGPw14j0nT7HRbzUdDjsJmlSBPC1zNavuzndbtEEY5OQSDgk+tXPC1x4V0HS3h1WXVNcvZr46jNd3Phu6A+0cAOieSQmABjHTt6VsKdygjuM1Bf3kenabc3s4Zo7aJpXCDJIUZOM9+KXtHFP8Ar+tjb+zISt7z/r/hzSj8a+FYb2a8itdQS6nCrLOugXgeQL90M3k5OMnGelT/APCw9A9NW/8ABHe//Gq5nTNfi1Z7b7PZXqRXNkl4lxJEBGA3RCwJ+fvj071q0NtaNERyylJXUmaP/Cw9A9NW/wDBHe//ABqj/hYegemrf+CO9/8AjVZ1FLmH/ZVP+Zmj/wALD0D01b/wR3v/AMao/wCFh6B6at/4I73/AONVnUUcwf2VT/mZo/8ACw9A9NW/8Ed7/wDGqP8AhYegemrf+CO9/wDjVZ1FHMH9lU/5maP/AAsPQPTVv/BHe/8AxqsPxr460S88A+ILaEan5k2mXMab9Hu0XJiYDLNEABz1JAHerdY3jH/kRde/7Btx/wCimpqWopZXCKb5mdLc+OfDN7ay215BqVxBMpSSKXQbxldT1BBhwR7VV0vxN4K0OORNF0q505JSDItp4buog5HQnbCM1la/4gsfDmm/bNRZ8M4jiiiTdJNIeiIvcms7RfHFhrGpNp0tlqWl33lmWO21K28l5UHVl5IOP89DQpOzaJeXUVJRc9ToZNc8BS6t/asuhyvqIcP9sbwxcmbcOAd/kZyMDnPart5418K6jatbaha6hdQMQWin0C8dSQcjIMOOCAa5mHxZYzeDX8SrFcCzSJ5TGVXzMKSDxnGePWs7WfiFaaJDDPPoutT200Ec4ube1DRKH6KWLABunHuKd3e1hPL6CV3M7HU/FXgzWrdINZ0271CFG3rHd+HLqVVbGMgNCQDgnn3qa58a+FbyxezvLXUJ7WRdjwS6BeMjL6FTDgj2rhJfiPZwWsTy6FryXMrsEsTY4nKKAWk27vucgZz1z6GtO/8AGei6d4Uj8QzXW6xlQNDtxvlJ6KqkjLdeO2DnpQ721QLAUG9JnQ3/AIo8F6rZx2mqaXdXttGQUgufDl1IiEDAIVoSBgHFXE8f+HYo1SNNVRFACquh3gAA7AeTXHax4wTSI7aQaHrWoR3EImD2Fp5qxj0Y7hg1f8Pa7b+JdDg1WyhnhgnzsW4UK2ASM4BIxx60Xdm7DWXUW1FTdzpP+Fh6B6at/wCCO9/+NUf8LD0D01b/AMEd7/8AGqzqKnmL/sqn/MzR/wCFh6B6at/4I73/AONUf8LD0D01b/wR3v8A8arOoo5g/sqn/MzR/wCFh6B6at/4I73/AONVz3jvxNoHiXwVf6SY9Qk+0eX8s+mXUCHbIrcu0agfd7kZ6d60K5v4gab/AGx4F1CxMvk+b5fz7d2MSqen4V0YWV8RBKN9Vp312+Zhictp06E587Vk3f5HtRZE0C8aS1kvEUXBa3iUM8w3NlFBIBJ6AEjrXhfw91+DTPiBpeh/DvxDquo6NdvIL/w5qllJ5mjqFJJ81hhdrnbgHGTyWJBr2Fdf1K0aSG38I6zfRrK5FxbzWYRssScB7hW4Jwcgcg4yMGnf8JRq/wD0IniD/v8A6f8A/JVaW1/r+v60see9VY8F0nxTYp8P/Cng0pcjW9N8VQi/t2t5ALYfapGBZyu3JyABnP5VQ1xPCxn8bG/Oqr4u/wCEjuv+Eda1Fxjz96YEWz5N+7buz82NuO1fRP8AwlGr/wDQieIP+/8Ap/8A8lVi+HftXhltVaw8E+J5DquoS6hP51zpx2ySYyFxcjC/KMA5PvVp6tvfXVd/d27bGkp3u/P/AOSf6nhvxFj12X4kTp4ou9PstTaK1GkXF6NQMkTeWuWtfsqsmfNzncCd2MCvR08JWXib4w6xL4pRru40zRtPuVRJZI4zcgOfMKgrnBBwGH8R4r0X/hKNX/6ETxB/3/0//wCSqP8AhKNX/wChE8Qf9/8AT/8A5KrNq6S9fya/W/nYzWj/AK7p/oeBeEfBGlS6D8M71XvobrXJ7i11CaK+mQzW4EjeT8rDany4wuOprTW50Lw98Otd0HXdPnuvDcHjGfT0DXNwIrCEAMrP5R3yKG52Z+Zj1Bwa9q/4SjV/+hE8Qf8Af/T/AP5Ko/4SjV/+hE8Qf9/9P/8Akqrb1k+/+af6P72Efdil1XX7/wDNfcfPOnWUFx4Rj0CKeaPT18eWcduiJNbGOCWPIZEkdpIwwJYZYnnOa3/HPg/UtM8bXHh/4cW8Vrp9t4ZDXVkJ3Es9t9pdpIo3O47nJIyT3PPavZ/+Eo1f/oRPEH/f/T//AJKo/wCEo1f/AKETxB/3/wBP/wDkqjol/T922v8AXWw76f1/Nzafl+J8+fFK6sNQ1DQLi3Gk2/gyXRkOkrqS3gtopdx3hRaZIlAwCGyMD1rfs9I0vTPip8P7/wAdT/adQvdJVY71vtI+0XiSKsJIYKwbaRneoyT8wya9k/4SjV/+hE8Qf9/9P/8Akqj/AISjV/8AoRPEH/f/AE//AOSqFo7+d/z/AB138kQ1dW8rfl/lsbOrf8gW9/695P8A0E14Sl7J4P8AhT8PPH9tbyTjSLQ2t7FFjL28ykDOfSRUP4167/wlGr/9CJ4g/wC/+n//ACVWB4rgu/GNrb2WreD/ABWunxyrLNZQXOmLHdbWDKshNwW2gjorLnvnios76dbfrf8ABl6dfP8AG3+R5hruh6doum/DWLxuLxre9Go32tG2EnmM00Qkk3eV8+0bsNj+EHtWRqIvR8MdTHhNp28A/wDCRKbc332nyfsmw+Zu2fvvI83H3ec575r2vUxc6r4m0TXLjwT4nS50QzG2SO504I3mpsbcDcknA6YI/Gtr/hKNX/6ETxB/3/0//wCSqt2a0+7pvf8AS33h0j5fnr/nc87+C2gWmueAtQs9VOmav4fa/WaxtLaO7NtCVwWVRdKGZd4zjLLuLZ7iuj+BgA+GSADAGo3mB/23euh/4SjV/wDoRPEH/f8A0/8A+SqP+Eo1f/oRPEH/AH/0/wD+SqG7y5vK35a/gSlpbzv+f+Z5z4n/AOSKeMP+vzV//S+euL8Y6XeeF9U8NWNnFv0HWNcsr+Pk4tLkECRAOm1928DjkNgV6V4U1TWf7JuzD4N1mdG1bUm3JPZAAm9mJX5rgHKklT2yDgkYJ2/7V13/AKEbXP8AwIsP/kmvy+ph8zoYuq4Ydyg5zl632fyte/yO/mg4JX6foeEeKNQ0S78ePqthZy6Zr+n6/FHdmQ3UsvkiVVEzSFhFEjZChNrcFcEA4rbs9LvYH8X+LPD8Pm6ro3iW93wDP+l2rJH5sPHfgMvBwV6c165/auu/9CNrn/gRYf8AyTR/auu/9CNrn/gRYf8AyTUShmvJGEcLKyVtZX00utr23W+l99CuaF22+t/z/wA/wOd+C3/JHtB/65yf+jXruqx/7V13/oRtc/8AAiw/+SaP7V13/oRtc/8AAiw/+Sa8PFZNmmIrzrewkuZt29XcKc4Qgo32Niisf+1dd/6EbXP/AAIsP/kmj+1dd/6EbXP/AAIsP/kmuf8AsDNP+fEjT2sO5sUVj/2rrv8A0I2uf+BFh/8AJNH9q67/ANCNrn/gRYf/ACTR/YGaf8+JB7WHc2KKx/7V13/oRtc/8CLD/wCSaP7V13/oRtc/8CLD/wCSaP7AzT/nxIPaw7mxRWP/AGrrv/Qja5/4EWH/AMk0f2rrv/Qja5/4EWH/AMk0f2Bmn/PiQe1h3PGdVAb4S+FQRkFtMBB/4BXE6naXB0zxDYXMO238NQtbWxPOfOuVYHpx8gA//XXe+GPGqWvhLSLc6JqcphsYU3obfa2IwMjMoOPqAa0/+E9j/wCgBq3523/x6v3SnhcTF8ypt632fl+l/vKlicJOzdVKyX4Xf52+48w8RLqL/EK9W5urS01U3Kf2bNcLeGZYuNnlCJWQqeQcg8lq1vFv9lf8JL4j/wCEq+3/ANq/ZR/Y3k+bt2eSd3l7eMbt27dx1967n/hPY/8AoAat+dt/8eo/4T2P/oAat+dt/wDHqf1TFcqXs5fc/Ly8hLEYRNv2sdXf899dd9Dj7OGS4iEMEbSSyeCEVEUZLE9AB60mm+I7DXNX8DwWBkd7K2niuCYmVY5BbAFMkAE8ds9q7H/hPY/+gBq3523/AMeo/wCE9j/6AGrfnbf/AB6qlhcU2/3Utb9H1v5eZUcThI2tWX9cvn5HnXh7wzYSaR4Lula6juNTnlt7uSO6kUyRAOfL4PyrxjjHU133w2gSxs9c0633C1stYnht42Yt5aAKdoJ56k/nU/8Awnsf/QA1b87b/wCPUf8ACex/9ADVvztv/j1J4XFNy/dy18n5f18xUsRgqajarG6t+Vvx/Q6yiuT/AOE9j/6AGrfnbf8Ax6j/AIT2P/oAat+dt/8AHqy+o4r/AJ9y+5nX/aOE/wCfi+86yiuT/wCE9j/6AGrfnbf/AB6j/hPY/wDoAat+dt/8eo+o4r/n3L7mH9o4T/n4vvOsrG8Y/wDIi69/2Dbj/wBFNWZ/wnsf/QA1b87b/wCPVmeJ/GqXXhLV7caJqcRmsZk3ubfauYyMnEpOPoCaf1LErV039zJlmGEcWlUX3l3x55lhqGg6+8M1xY6Vcu92kKbiiMmPMx6L/Ws5tcsvHPjXRH8M+Zc2+lmWa6vvJdETchUR5YAkk849Poca/wDwnsf/AEANW/O2/wDj1H/Cex/9ADVvztv/AI9TWDxNrOnL7mZyxuFcrqrGztf5HEReJ7Gx+Gd34OvEuY/ECpLaLYC3dnkd2JUqQMEEMD1+meM9X41t5LT4SC3nGJIYrWNxnoQ6A1c/4T2P/oAat+dt/wDHqP8AhPY/+gBq3523/wAeqvquKvf2Ut09n0M1isJZp1Y7NL0fz1M/xNqtr4Y8f2Ot6y0kenS6ZJaLKImdVl3hwvAOCRn8vasabw/FD8Dzc6pZD7fb2M7QmZfmgWSTdgA9DjHv29a6n/hPY/8AoAat+dt/8eo/4T2P/oAat+dt/wDHqn6niuTl9nL7n5/5lvF4RybdWNv+G/yKviqaaTwboukWzlH1iW3s3ZSQVjK5cj/gKkfjXZW9vFaWsVvbRrFDCgSNFGAqgYAFcv8A8J7H/wBADVvztv8A49R/wnsf/QA1b87b/wCPU3g8U7/u5b32ZUMbhIv+KtktzrKK5P8A4T2P/oAat+dt/wDHqP8AhPY/+gBq3523/wAeqPqOK/59y+5mv9o4T/n4vvOsork/+E9j/wCgBq3523/x6j/hPY/+gBq3523/AMeo+o4r/n3L7mH9o4T/AJ+L7zrK5v4gC/PgXUBpBxefu/LPy/8APVc/e46Zqv8A8J7H/wBADVvztv8A49WN4t8fhPC92Y9C1FWGzBmaEKPnXrtkY/kD/WtqGErwqxlUhKMU1d2eivq/kc+Kx2GnQnGE4ttOyvu7bH0fBcx2ekz3M5IihaeRyBnADsT/ACrivBnxO1XxXqVkZ/BV9Y6LqaSPYarHcpcowXp5yoP3JIH8RPzcc9a7NGmTRblrW3W6nUzmOB32LK29sKWwcAnjODivEfBek3tp8TtPm8HeFPFXhO3mkdtesb5QNMwFI/csT853n5SO33QBmpTfN/X9f5fM8aXw3/r+vz7nt6eINGk0+C+j1axezuZRDBcLcoY5ZC20IrZwW3AjA5yMVA/i3w5HepZyeINLW6kuGtUgN7GHaYEAxhc5LgsuV68j1rwnTIvE0Pg/w54Lk8G64k+j+JYpry+a0P2YxfaXfdG4OXHzDJA2gc56Vm32mW+qx/EDTYfAN7resal4huoLDV7a1SRbVwyYDyk7oQC27P3SCcnAOKVm7rVf/s/5/gaSik2r9bf+lf5fifR974g0bTdQt7DUdXsbS8uiBb209yiSTEnA2qTlsnjjvTLzxLoWnXn2TUNa061uQyL5M92iPl87BtJzlsHHrg4r5y8ceAfFEnjjUItUg1W/j1SG2jhvLDw9Bqf3YlRszSujW5DAngjruyK9KsPBS3XxV1e/1/SDqJtdEso7S9vLQMrTqG3shOR5gKqflJIz15qG7JP1/Jv9LfMzWr/rul+v4HfW3i/w1eyiOz8Q6VcSGE3ASK9jY+UOr4DfdGDz0qUeJdCOh/20Na086UDj7d9qTyPvbf8AWZ29eOvXivCfDXwwtn8O/DQaj4QIuPts76uZtPIfbhyonyuduQuA3HQd6vDTNR8OeFddtI/Ar6npbeMZ2+x/2SLlobMoAJbaBsKT2VuVGTkEZq3vJdv81/n+DCOsVL+tn/l+J7NH4p8Py6dDqEWu6a9lPN5ENyt5GY5JP7itnBbg8Dmse0+IWl33i+XSrSazn06PSf7TOrRXitDtEpjYZHy4G0ktu4wRivF7HwVqVxoTaVc+GdUjspvG1pdG1uLBV/0No8F2WFREBjhtowp4OK3/AIhfDXVta8eTW3hKFdK0y10FCtvHZFbS9ZJ2f7KSu0KGJBIGfp3o2Sb/AK92/wCb/AdtNP69635fmev3Xizw7Y6fa317r+l29neDNtcS3saRz/7jE4b8KrXfjnw7Y+MLXwxc6nAmq3UfmJCzgYHG0Ek/ebPC9T1xivD/AIkaPr2v+INK8SRaHq8WmXejJbrZw+Go9TlspQxLxtBMV8rrxIOuOOK3NM8JN4W8eeA7nUfDuoavGmkfYpLwaWjvazCRfKebaziPYpxu3HAHB64S1kl52/P/ACX3/MhvS67X/L/N/ceoeMte8QaBYxXHhvwv/wAJCfmNwv8AaEdr5KgZ3ZcHdnngelYnw9+I2p+M5YTq3hyDQ4Ly0+12LHV4riS6TcASIgA4Az1I9q7XU0aTSbxI1LM0DhVUZJO08V4dq0Gq+C/gv4I8Xw2Dxar4ZiEdxa3IMTGKZTGyMCM53GM4I7VKdm29dvxv+ti2nKyXn+FvzPZZfFfh2Bd02vaZGN0qZe8jHzRDMo69UHLD+Hvipk8QaNJoh1mPV7FtLAJN8tyhgABwT5mdvXjr1rwrX/DkPhpPhZp2saFL4haJL65v9PRFlkuJWiWWQhXIDkMSdp67ce1ZeqeCfEN/4N1LUtC8P6ho+jzeI01CHQ309JZ0gWMoz/Y2O1vnwREeMDjjBq2rJ/11t/wfl9x0i11/4P8AkvvPf77xj4e0/wALSeI59XtH0iNSftkMolR8HGFK53HIxgZOeKp/D/xivjvwjFrqWD6ess0sYgkfeyhHK5PAwTjOO3TJrkfgp4Ym0/w7qU+qW96I7y+W5ittS0WHTjFIihd6QRuwXoOcKflyB3rY+DenXul/D1bbU7O4s5/t92/lXETRttadyDggHBByDS2m15f5f5sm7av5/wCf+Rp+DbmOz8I6hczkiKHVtWkcgZwBf3BP8qw/BvxP1XxVqNk1x4LvrDRNTSR7DVkuUuUYL/z2VB+5JA/iJ54561teEGmTwbqTWtut1Ouq6uY4HfYsrfb7jClsHAJ4zg4ryjwjpN7a/Eiyl8G+FPFXhSCZpG16wvVxphAQj9yx++28/KR2+6AM1N7N/wBd/wCvL5ja0/r+v8+57Va+L/DV9OkNl4h0q4leJpljivY3ZkXO5wA3Kja2T0GD6VKvibQW0M6yut6cdLU4N8LuPyAc7ceZnb1469a8F8O/DGCbwl8Pf7U8IsLw61M+qmXTyJDEGlK+flc7DhOG4wR61pz6Te+GtF8QWtt4EOp6RL4tZzZrpIuTFamJR51tA2FY54VuVHcEcVb0bXb/ADj/AJ/gPS/9ef8Al+J6fr/j7TtM8O2esaO9rrdrdajBYiS1u1KAySBC29QwO3PT9RVvw34o/wCEh1XxBZ/Y/s/9jX/2Lf5u/wA75FfdjA2/exjnp1rxbRvDGs23hPVLOPw/q1sG8X2N5BbzWKo/2fMZ37YVEYwB8wQYUgg4xXqXgCwvLPxJ43lvLSe3jutbMsDyxlRKnkxjcpP3hkEZHpWcb8zT/rSH+bE9tP6+L/JHb0UUVYBRRRQAUUUUAFFFFAHyHY30emeCbO8nDGOGxiYhRyfkHFGma5c3TP8A2ppj6cixCZZjKJImT3cYAPfHpSWm/wD4Qa0EdmL0mxiBt2bb5g2DIzg9q5q0srlYdTi0my1W2097KTNteJj96egjHJP+c9q+vlWqU3Hl1XLt8n5fk9O2p4EacZ3v3/r+rHarqunsshW/tSIlDuRMvyKehPPAp0uo2UFslxNeW8cEmNkryqFbPPBzg1ytl4ctjqWimbSl8tbAmfdB8pkwv3+PvcnrzVaK3uLbRNMtLnRZbiHdMrMtoss0JL/LgPwoPckHireJqxvzR/Puv8yfYwez/rX/ACOruNXjiu9OigVZ4792VZUk4AC7sjHXpT9H1L+1tPF15XlfvHTbu3fdYjOcD0rl9GsLyGDQI5rSeNre7uPNDRn92CGwSQMY54PT0rd8KwS2+hiO4ieJ/PlO11KnBckHBow9arUq+9orN/hTf6y/pCq04Qjpv/wZf5I2aKKK9A5gooooAKKKKACs/X/+Ra1P/r0l/wDQDWhWfr//ACLWp/8AXpL/AOgGs6v8OXoyofGhNY1ZdKhi2wPc3E7+XBBHwXb69h6ntVWy1+4fUBY6tpj6fcSRmSEGVZFkA6jcO/t6U3xFbXKXen6rZ27XTWDuXgQ/MyMuCV9SMdO9VUkuvEOu2U4066sbSxDsXu49ju7LtAC+nfNck6lRVGk9bqytpbS7vb169LG8YQ5Lvs9fPt+RfTX9/hM619mxiIyeT5nocY3Y/pVbVfEWoadbpdRaN9otWRGM32pVwzfw4xnqRzWMJdRh8LSeHG0W9e72tCsyR/uCCcht/wBD/wDqrc8Q2czeFBbQxtNKhhG2NSxOGXJwPpU+0qVINxbVkunXW+69C+SEZpNbt9emlupFL4k1OLZA2gsb9g0htxdoQIhj592MdTjHtU1x4jmbT7S60nS5r4XEZkPziNY1HXLEEZ9vY1Bq7XGmeI49Visbm9ikszbMtsm9lbduGR6e9UPs93pfhyy03UNLmvrGWFhcR2oLSpIW3AcEfL/h+cSq1YqS5np5bdunXro/Kw1Cm7O39devQ0NR8XR2un6fc21sspvwWRJp1g2gDJyzcVt2FxLdWEU9xAIJJF3GMSCQD/gQ4Nci1pc2dlpMmtaK2qrHA8bKkZlkhJPygrnaflwCccEdfXoPDFlcaf4dtre8G2VQx2E52AsSFz7A1vQqVZVZKe35beXXfdmdWEIwXL/w+/8AWxrUUUV2nMFFFFABVTVL6DTdNlurx9kMeNzAE4yQBwPc1bqpqdpb32nS296geB8blJIBwQRz9QKHzfY36X2uL3ftbH0Ot34rjaRdM0XRri2Er7JLjV5YXJ3HOUFs4GDkD5jkAHjOA77d43/6F7w//wCD6f8A+Q61Irj7Jo9xceW0nktPJsQfM2HY4HvXnXw2+IXi/wAaX1tfT2Ph+60G7Vy50u7JudLPJRbhXI3E4x8q+/A4r89WraPrHojsft3jf/oXvD//AIPp/wD5DrO0jTvEuhNfHSvCvh+A6hdve3P/ABUVy3mTPjc3zWhxnA4GB7VqQ+O/Dlx4fsdbh1Hdp2oXS2dtN5Eg8yUuUC7duR8wIyQB74rKvPjF4B0/WG0u+8RwQXiXTWbxyRSDy5VIBDNtwq5P3iQpweeDhpO9lvt+Wn5fgN3S1/rf/g/iaX27xv8A9C94f/8AB9P/APIdH27xv/0L3h//AMH0/wD8h1Dr3xN8HeGNdg0bXtet7O/uNpWJldgoY4BdlBVB7sRxz0pdZ+JXhHw/ryaLq+sJb6k7RKlv5MjMxkzsxtUgg469BxnGRU3VriJft3jf/oXvD/8A4Pp//kOj7d43/wChe8P/APg+n/8AkOse2+N3w4u5RHF4qtFJhM+ZUkjG0dssoG7j7n3j2FaH/C0fBn/CG/8ACVf27CNG83yBcGOQEyZxs8vbv3d8benPTmmG+xY+3eN/+he8P/8Ag+n/APkOj7d43/6F7w//AOD6f/5DqnF8WPBEvhqLxAmvw/2XLdiyFw0UgCzEZCsCuV4GcsAMc5rKsvizpl94mneK8th4Xj0P+1BfyQyRyZE7RnhsHHy8DbknpnIo/r8L/kHS/wDW9vzOh+3eN/8AoXvD/wD4Pp//AJDo+3eN/wDoXvD/AP4Pp/8A5DqrrnxS8HeGrGwutd1j7Emox+bbJLbTeYyf3jGE3qPdgKqXXxc8L23j7TfCq3RmuNQhWSK5jUvES+DEoZQd24HOfugd+1HW3y+YdL/M1ft3jf8A6F7w/wD+D6f/AOQ6ydb0bxD4je0OteFdCuktJRNFC3iW6WIuCCC8YtQr4I43A4/GtXxrP4wttNjn8EDQy8Qd7oav52CgGRs8vv161y/w28d+JdfuNN/4TGXQIF1qwa80y306K4EzhSN+8vlOAegbP4UR1fp/w/6Clotev/DfqbF7p3iXUda03Vrzwr4fkvtLMhs5f+EiuR5XmLtfgWmDkccg47Vo/bvG/wD0L3h//wAH0/8A8h1Tvvit4K0y0jur/XEgt5ZbiGOV4JdrvB/rQDt5weBj7x4XJqaP4m+DpvBz+KY9etzo0chia4KuCHz9zy8b93fbtyRz05ovpfoVqTfbvG//AEL3h/8A8H0//wAh0fbvG/8A0L3h/wD8H0//AMh1XHxK8OXXguTxNolxNrNmJPIjisYHeaWYnAiEZAYMSR94Dgg9Dmm/DHxZqHjXwRFrOr2sNpdSXE8TQQZ2oEkZQMknJwOT3PYUa3a/r+tRXMDwhrfiy30a6jg0DRpVGrakWZ9alQ7jezlhgWp4DEgHuADgZwNz/hIvGP8A0Leh/wDg9m/+RK5efWrnw58NPEesWKRSXFlqOrSxrMCUJF/P1AIOPxrLPxRu5/Bmhana2tvFqFzrMGlalazqT9ndiRIAA2QeAVyTwRkV+bYjOs5+sVI0OXkU5QWnba/y6naqVPlTfa/3K53n/CReMf8AoW9D/wDB7N/8iUf8JF4x/wChb0P/AMHs3/yJWLN8TfB8Hin/AIR2XW4V1TzhB5PluVEh/h37dgOeMZ68daxfC/xKudW8ceIfD2rW0FubO5ni02aMEC4EJ+dGyTlwGRuMZBPAxXJHPs+cJTcUklzaxtdd1fdenQp0aa++33naf8JF4x/6FvQ//B7N/wDIlH/CReMf+hb0P/wezf8AyJWV8PfEV34s8B6ZreoxwxXN2jM6QKQgw7LwCSeg9a6WuStxVm1CrKlNxvFtPTqtBRo05xUl1M//AISLxj/0Leh/+D2b/wCRKP8AhIvGP/Qt6H/4PZv/AJErQorL/W/NO6+4v6vAz/8AhIvGP/Qt6H/4PZv/AJEo/wCEi8Y/9C3of/g9m/8AkStCij/W/NO6+4Pq8DP/AOEi8Y/9C3of/g9m/wDkSj/hIvGP/Qt6H/4PZv8A5ErQoo/1vzTuvuD6vAz/APhIvGP/AELeh/8Ag9m/+RKP+Ei8Y/8AQt6H/wCD2b/5ErQoo/1vzTuvuD6vA8K8MeAvFd54R0e5tYtGME1jBJGZL+VW2mMEZAgIBwemT9TWp/wrrxj/AM8dD/8ABjN/8j1tp4nm8J/BjwhqEH2YK9vptvK9znYkbogZsgjGBk5PAq5ffEeyl8ceG9G8OalpOpwak863jQTiZ4Qke5MbGwuTnqDnHFftsc0xm0ZbabLor9jwHhaTd3Hz6nMf8K68Y/8APHQ//BjN/wDI9H/CuvGP/PHQ/wDwYzf/ACPXVaf8SdJsvAljr3i3WNOiF3LJGstlFP5chV2XCIy+ZwAMkjGfbFReIPiZYW9hp154dvLO8t5Nbt9NvJpVby40cbmZWyAcLghuV571f9qY29ufy2X+XmH1Ole3L379P+GOa/4V14x/546H/wCDGb/5Ho/4V14x/wCeOh/+DGb/AOR69F8M+M/D/jGG4l8N6lHfLbOEmARkZCenysAcHnB6HB9DW5UvNcat5fgv8ifqtH+X8zx7/hXXjH/njof/AIMZv/kej/hXXjH/AJ46H/4MZv8A5Hr2Gij+1sZ/P+C/yD6rR/l/M8e/4V14x/546H/4MZv/AJHo/wCFdeMf+eOh/wDgxm/+R69hoo/tbGfz/gv8g+q0f5fzPHv+FdeMf+eOh/8Agxm/+R6P+FdeMf8Anjof/gxm/wDkevYaKP7Wxn8/4L/IPqtH+X8zx7/hXXjH/njof/gxm/8AkesvxP4C8V2fhHWLm6i0YQQ2M8khjv5WbaIyTgGAAnA6ZH1Fe61z/j//AJJr4m/7BF1/6Jak80xclZz/AAX+Q1hqKd7fmeff8K68Y/8APHQ//BjN/wDI9H/CuvGP/PHQ/wDwYzf/ACPXc+NvFN3oEen2Gh2cV9rWrzm3soZn2xqQuWkfHOxRyQOTWRpnivxXpPim00Px5Y6SDqccjWN7pLyeV5iDcYnWTnOOQenQc84azbGNX5/wX+QfVKX8v5nO/wDCuvGP/PHQ/wDwYzf/ACPR/wAK68Y/88dD/wDBjN/8j10tp441Kf4KS+MHgtRqCWcs4iCN5W5GYAY3Zxx61n+MPFnjrRvDdt4i0eLw6+mPa2zypdLOZvNkKg7QpC7csOpz1p/2pjb25/LZf5eQvqtHt36vpb/Myv8AhXXjH/njof8A4MZv/kej/hXXjH/njof/AIMZv/ketO58T/EaDUrfw7HbeGJvEEsMl87obj7Mlqu1VGD83mFyeemAPXjQuviYi/Cq28T2lmH1C+iKWthndunGQy8dVXazE8fKp6UnmuMUebn/AAX+XkUsHSbS5fzOc/4V14x/546H/wCDGb/5Ho/4V14x/wCeOh/+DGb/AOR6n8VfFnUdD8H+Er+F9Jtb7XIBPO97DO0ESiMMSBGS/wB5gB1/rXoXhTUrrV/CthqF/cWFzPcReY0uml/IbJONu/5umMg8g5qnmeNV7z2dtl/kT9Vo6e7v6nm3/CuvGP8Azx0P/wAGM3/yPR/wrrxj/wA8dD/8GM3/AMj17DRU/wBrYz+f8F/kH1Wj/L+Z49/wrrxj/wA8dD/8GM3/AMj0f8K68Y/88dD/APBjN/8AI9ew0Uf2tjP5/wAF/kH1Wj/L+Z49/wAK68Y/88dD/wDBjN/8j1jeLfhz4kPhe7Gq/wBlwWnyeZJbXcksg+dcYVolB5x/EOPyr3quN+LS37/C7Vl0ltt4fJ8s5A/5bJnrx0zWlLMsTUqRhUfNFtJpJarqvmTLD04xcoqzXXt5nocQuTo9wLBolut0/kmdSUD7227gCCRnGcHOK8g0HwT4muvilpWvXPgmx8KT2ryNqep2Gph4dSBUrtW3XldzHd83P94k4r0lbTxXI0jaZrWjW9sZX2R3GkSzODuOcuLlAcnJHyjAIHOMl32Hxv8A9DD4f/8ABDP/APJlcFle56T1VjybT/BvxEtvD+h+EpfDlsNO0TxBHeNqS6jETdQidnysXVQN2Tk54wBVSDT/ABTrth8QvD3h/wANWOo2eseJLuCbUZrxYjZMCnzvGy5dRkMu0kgg8dM+yfYfG/8A0MPh/wD8EM//AMmVWtNA8VaeZzYat4YtTcytPP5PhyVPNkPV2xd8scDJPNUuqlrf8fh3+7oW5t69b3/P9WeTeJ/hD4qj8V36adHrGq6Tq8VvHM9hr8enooSNY2E8bxuZBxkYB4JGCa9G0PwffaZ8Qtb1F7Um0k0S0sLS5eVXZ2QMHXsf7uSQAa3PsPjf/oYfD/8A4IZ//kyj7D43/wChh8P/APghn/8Akypa5lr/AFo1+TM0ktv61T/Q8+8NfDzW7Hw78NLS/wBIjSXQ72efUU82I+TuDlWyG+Y7ip+XNPXQPiB4e0vXZPDemiR7zxZPfSWiXcUMl3YuoGElORESR14cAcYNd99h8b/9DD4f/wDBDP8A/JlH2Hxv/wBDD4f/APBDP/8AJlVd3k+//A/+RX4jjpHl/rr/AJs8qsvhv4ra1MV/om0S+MbTV3RtSF0FtQnz5lkbe7L905GSemRW18RPhVqPjn4iyakk09lbW2joLO4jkjMb3iSsypJGcll5B6Ae/au7+w+N/wDoYfD/AP4IZ/8A5Mo+w+N/+hh8P/8Aghn/APkyl0SXT/JL9PvHe6s/61v/AF5HlXjbwT4613XdP8VW2l6sl3d6UlnqGnaTr0NhLBIrEtmQh1kjbPCjn1re03wZr3hLxd4LudI0STULGz0p9MvS2pRlrMPKrb9zKnmheeFUZA7cZ7f7D43/AOhh8P8A/ghn/wDkyj7D43/6GHw//wCCGf8A+TKFo7+d/wA9PxZNtPlb8v8AJG5qETz6ZdRRDc8kLqozjJKkCvEfFukax4M+BnhLVUWKy8SeGTGiRORIWMoMTxAqcMTuB4P8NepfYfG//Qw+H/8AwQz/APyZVK88M+JNRu7W61DUPCl1cWbb7aafw1I7wNxyjG7yp4HI9Klxv+H4f8OUnbX1/E881zQr/wAG6n8J9L0TTrfU9R0+K9b7LNN5S3EvkK8mHIO1ixYgkYzjOOtVNW+FvjDXND1DXjYnStYuteXVV0aw1FI5ERYzHhbgAospJLbsEevJwPUp9A8VXN7bXlzq3hia6tNxt55PDkrPDuGG2MbvK5HBx1qz9h8b/wDQw+H/APwQz/8AyZVyd9ev/Bv+iDol2X+f+Zg/CPwpqPhzSdSutbttStb/AFK4EksepaumoSnau0MZEjQZI7ZbgDkdKv8Awp0DUvDXgZdP1q2+zXQvbmXy/MV/leZmU5Ukcgg1f+w+N/8AoYfD/wD4IZ//AJMo+w+N/wDoYfD/AP4IZ/8A5Mpfav5W/L/IlKyt53/P/M4TUtLvNb+FPijTdMh8+7ur/Vo4Y9wXcxv5+MkgD8TWF40+HWs3fiHw7qnh2PdEbyzl1m18xFBaDAWYbiMkKWU4OT8vBrr/AAhoniy40a6kg1/RolOrakGV9Flc7hezhjkXQ4LAkDsCBk4ydz/hHfGP/QyaH/4Ipv8A5Lr85qZPnFPF1KtCMeVym1d7qXf7k12Z2+0puKT7WPKvEfh/4g69qbxahpX2qCx1qO7tbuPVFjje1EoIiW3GFLKOd8h3cEAnitH/AIV7q93oviohTp+rN4guNV0W5EqnkqoUnBOFYBlKsOh5Feif8I74x/6GTQ//AARTf/JdH/CO+Mf+hk0P/wAEU3/yXWf9k52oxjCnCKXZ+nRtrW2q21ZXtqd22/61/wAzD+GGi6h4d+G+k6VrFv8AZ723RxLFvV9pMjEcqSDwR0NdZWf/AMI74x/6GTQ//BFN/wDJdH/CO+Mf+hk0P/wRTf8AyXXl4jhbNq9aVaUY3k23r3dwhVpwioroaFFZ/wDwjvjH/oZND/8ABFN/8l0f8I74x/6GTQ//AARTf/JdY/6oZp2X3l/WIGhRWf8A8I74x/6GTQ//AARTf/JdH/CO+Mf+hk0P/wAEU3/yXR/qhmnZfeH1iBoUVn/8I74x/wChk0P/AMEU3/yXR/wjvjH/AKGTQ/8AwRTf/JdH+qGadl94fWIGhRWf/wAI74x/6GTQ/wDwRTf/ACXR/wAI74x/6GTQ/wDwRTf/ACXR/qhmnZfeH1iBwVxoF34k+Cfg6xsrRLzEelyzROVCmJVQvncQCMZ471b1XwDb2vxD8J6p4Y0CxsrSykuTfy2kMUGA0W1MgYLc56A4rjPDHj3xXZ+EdHtrWXRhBDYwRxiSwlZtojAGSJwCcDrgfQVqf8LF8Y/89tD/APBdN/8AJFftscrxlrxjvruuqt3PAeLpJ2b8uvn/AJmFNDqPw50nwHd6naWh1Oxlv4v7Pu7pYUYSuWDifmJCAQfmPOcDnOJ9A0e98W6bcz6daWtzEvjmO+uPssi+QIlUeYyM2N4BPUDLdQOat6l4v1/WbUW2sWvhm/gVg4iutIklUMOAcNORnk8+9SWXjjxNptnHaadH4dtLaIYjhg0qVEQZzwonwK1WW42/M4a+q7p9+6HLGUW7p73vv1uv1O90bRL6z+J3iXV5rYR2V/b2iwzBlPmMisG4ByMZHUV1dePf8LF8Y/8APbQ//BdN/wDJFH/CxfGP/PbQ/wDwXTf/ACRWf9lYz+T8V/mQ8VRbvzfmew0V49/wsXxj/wA9tD/8F03/AMkUf8LF8Y/89tD/APBdN/8AJFH9k4z+T8V/mH1qj/N+Z7DRXj3/AAsXxj/z20P/AMF03/yRR/wsXxj/AM9tD/8ABdN/8kUf2TjP5PxX+YfWqP8AN+Z7DRXj3/CxfGP/AD20P/wXTf8AyRR/wsXxj/z20P8A8F03/wAkUf2TjP5PxX+YfWqP835nsNc/4/8A+Sa+Jv8AsEXX/olq8+/4WL4x/wCe2h/+C6b/AOSKy/E/j3xXeeEdYtrqXRjBNYzxyCOwlVtpjIOCZyAcHrg/Q0nleLiruH4r/MaxNFu3N+Z6J4+8P6rqE2j674ZSCbV9DneaG2uG2rcI6bXjz0ViMYJ4BrLstO8WeL/GWl6t4q0WHw7p2jLI8Not6tzLcTOpTcWQYChSeOufUHjD/wCFi+Mf+e2h/wDgum/+SKP+Fi+Mf+e2h/8Agum/+SKaynGWs4fiv8/6eofW6X835kC6B8QrHwLdfD6Dw5Z3VnJ5ltDrp1BEjWF23bmh+/kBiOO/Y457Xxv4avr/AOF/9g6PF9ruYltY0UsqbxHIhJyxAHCk9a5H/hYvjH/ntof/AILpv/kij/hYvjH/AJ7aH/4Lpv8A5Iqv7Mxt78muj3XT5h9ao3vfv0fU6PxdpniTTvGtl4p8KaPFrUv9nSadcWjXa27KC4dXBfggEEEdeR9Rzn/CovEdt4b00aZ4mSzvLHS5rZrVbFJ0kklZnlCu7DZuJC7sZwOuDij/AIWL4x/57aH/AOC6b/5Io/4WL4x/57aH/wCC6b/5Iqf7KxvLy8n4rz8/NjWMpJ/F+fQn07w/468LaH4XurfT7TxHdWNm9rcWEot7eW3DAbQk5B4XG04b5uDjuOz+Hnhu58KeCLPS79o2ulaSWVYfuRs7lyi+wzj8K4X/AIWL4x/57aH/AOC6b/5Io/4WL4x/57aH/wCC6b/5IqnleNd/c381/mT9ao2tf8z2GivHv+Fi+Mf+e2h/+C6b/wCSKP8AhYvjH/ntof8A4Lpv/kip/snGfyfiv8w+tUf5vzPYaK8e/wCFi+Mf+e2h/wDgum/+SKP+Fi+Mf+e2h/8Agum/+SKP7Jxn8n4r/MPrVH+b8z2GuN+LWoPpXwu1a8ih85o/JxHnGczIP61yH/CxfGP/AD20P/wXTf8AyRWZ4j+IWvSeH7ldem0sWB2+b9msZVk+8MYJmYfex2PH51rRyzF06sZyXKk073Wnnv0IniKUotLXy118j6Fiklh0e4ltovOmRp2jjzjewdsD8TXknwp8b+JvFHiCJ7/xjpl8WEo1Pw9c2P2O509gTgQ4GZQCMEseB1+avW4opp9HuIrW4a1mkadY51QMYmLsAwB4ODzg8V5tp3w78Y6h4/0fXPGNx4Zf+x3Z11DTLWSO9v8A5CiibICgYOSBkA8AYOa89X5v6/r+lbqenL4f6/r+tTqLb4m6NdeENK8Rx218LPVb9bCBGjTzFkaVogWG/AXcp6EnHbtWPf8Axx8O6df38E+la+0Gm37WN/fRWG+3tGVgu93DcKSeMZbg/LyM85ZfCjx1a6dpXh9tX0NtA0bW49RttqzC5njEzOVkONoIDZAAOT34yc3SfDnjDxRF490bw/qOj22jaj4lvLe/N5BI08KnZuaIqdrEqcbWA6deeLWrbXm//Sd/vZpJR17X/wDkv0SPQ9e+LugaDrEli1nq2oxWqRvfX2nWRnt7BXGQ0zg8Dad3APH5VLqnxS0rTfFn/CPQ6XrOp3vlwzFtPtBNGsUmcSFt3yovGScdRjPOOA8T/s/y33i97/SrfQtQsbpIUlGsy3ay22xAh8sQOgfIUH5iOeMgc16FpHgq40rxrrGqRtbCyu9KtbC2jVm3oYgwOcg4XkY+Ynjms23ZW8/yf62M1e+v9ar9LmDY/H7wxfLZOuk+I4ob9W+yTNpjMlxKpx5KFC298jHGR6kVt2XxR03UfBs3iDT9F1+6a3u2s5tLg08yXkcynlWjUkLgc5LAduvFYvh/4Z6vpeh+ALK6uLF5PDV1NNdlHcq4dXA8vKDJyw64qvd/Djxhb6Zq40HVdOhubzxPLq4t55Jhb3Vu6geTPsAYjjJUZU9DmrdryX3fev8AN/cEfhTf9aP/ACX3mqfjT4eTw0NZuNO1q3C6oulTWUtmBcwTsNw3R7umPTJ5xjNZbfFn7F4wmutaj1DSdGGgi7TS761SO6NwbhowoXli7ADC7scg8c1Q034Pa9ZWyQSTaGif8JTa64Us0eCJI0TEkSR7TtweFGTkckg8VteNfhHD438dy6zqciJBHpItrGWKaRJ7a6EjMsoAwCAD3J57d6Nkn/Xw/wCe3mh6Naf173+W/kamvfFPT9Aazt5tB1+81G4tftcum2Fms89pFnG+UK+1RnI4Y9Kz/wDhb0F18RNF0DSNG1C/07VLNbpNRhgJUq+NrAHGEXJ3seQeMVzHjT4NeIPF19pmuX0Xh3UdZWwS01CC/nukty6EkSxtDsbJycqwwO1dHb/DvWtA8UeE9Q8Mf2NHa6XYNp9/BMZ1HlPIrsYQS5z97G9j2znsl8ST7/hr/wAD+tCG3bTt+On/AAf61Om8cad4jvtKWXwt4o/4R+S2V5Jm/s+O688BeFw5+Xp1HrXE/DHxT4ge40BvGfiibVW8T6dJcWNv/ZkEEULx4Lr5qEMzbTnG3GM+leq30DXOn3EEZAaWJkUt0BIIrxLx9oN14W+C/hbRotShj8XaZLEmmJZtve5kOY3WMMASu2TJOOMDNSm03by/G6/yLa5rL1/CzX6nZXPxn0C3s9OuY9N1m7TVLi7t7FbS1WV7hrc4JVVfJDHhT+e0c1LD8YvDk3hWTWBb6os8d7/Z7aQ1p/p32ntEIs8sQM9cdecgiuS8UeHtQ8O+IfhXofhWe0hv7CC9igkvIi8Lutuu7eFIOGOckcjdnnGKbq/wS1jxH4bv7nXr3SrjxJe6qupSQoJlsWCoYxCSCJNpU53DBzx2ybasv672/K7/AK1HtF99fz/4CO4tviINZ8JXmpeG9A1S61S2nFq+jXUQtriKY42iXccIuCG3ZIwfUEBnwj8Qax4m+H8Oo+I50n1Brq4jkaNAijZKygAADgAY9fWmfCvwE/gXQbqG6stJs7y7m3yx6S9y8WAML807sxPXoFHOMHGav/Djwve+D/B40rU5beWcXdxNut2Zl2ySs45IBzg88Uvtvtb8dP8Agk6tfP8Az/4Avg+SWHwfqMttF50yarq7Rx5xvYX9xgfia89+FfjjxL4m16OXUPGOm32Vm/tPw9cWP2O509hnAhwMygEYJY8Dr81eheD4pp/B+oxWtw1rNJqurrHOqBjExv7gBgDwcHnB4rjrL4c+MtT8daTrfjC48MsdJLsuo6bayR3t8dhRRMSAoGDkhcgHgDBzU6pv+u/9fdbqNq6/r+v61LVn8f8Awvd/YnOk+IoLe+LR21y+mFo5ZgSPJUoW3uSBgLkcjJHONqx+Kem6l4RutdsND8QXElpeGyn0uLTme9jlHVWjBIGAc5LY7deKwvD/AMMNY0vwz4H067uLCSXw9qkt7dFHcq6MZSoTKDLDzF6gdDzTdT+Hfi9bfWJPD+qadDPe+Ijqi29xJKILq3MYQwz7AGwSMlRlSODVuybX9bx/zf3D0v8A15/5L7yXV/ii2reD4NS8Mrf6TdRa/a6beW2o2qpPEGkUOjIdwGVbqORnsa6LwTrmo6vr/i+21G486LTdXNtarsVfLj8pG25AGeWPJya4vTvhFrtloN9YNNosbXPiG01dFs0eCGNEKGSNY9p24KkLycjBOK7zwl4avNB1rxPd3kkDx6vqf2yARMSVTy0XDZAwcqemfrWcb8zv/WkP+D+InqtP6+L/AIB09FFFWAUUUUAFFFFABRRRQB8gW9zcWfgK2uLKLzZ49PjZExnJ2Dt3qhoWt3DWdze3Orw6paRQea6rEIp4mHUbOhHuT1rU06K4n8G2MdlcfZpzZxbJdgbado7H8qyR4Z1O6uL26v8A+zYbia0eBRZqyiRm/ickf4/pX18vbJxlTu/d+Wz8/wA12t1PAj7N3Uu/9f195bj8a2EjKq2eo75IxJCn2YkzjGfkx1x68DjrVo+JbdtKtr+1s767juM7Ut7cuyY4O7sOeOv0ptpotxBfaXM7xFbOyNu+CclsLyOOnBrOHhzV4bCyggns5FiaXz7e43tDIHbIJAxuI9DxmrcsTG/X5ea/r5E8tF/16/8AALh143txokunu6W95LIsqOgDfKp4PoQR2q14bvbi/wBHE93J5knnSLu2gcByB09hWdpvhq7sY9JjeWBhY3E0jFSRuVgcYGODz0/WtXQdOl0vSxbXDIz+bI+UJIwzEjqB60Yf27q81S9rP0van+vN+Iqvs1G0f61l/wAA0qKKK9A5gooooAKKKKACs/X/APkWtT/69Jf/AEA1oVn6/wD8i1qf/XpL/wCgGs6v8OXoyofGitr2oXcE1lp+mskd3fOyrLIuRGqjLNjufQVViudW0jWLez1S9TUILxXEcwgEbRuozggcEEVe1vSpr8W9xYTLBfWjl4XdcqcjBVvY1VtNJ1S71aG/8QTWpNsrLBBaBtoLDBYluc44xXJONV1Ha97q2ultL/PfzvbobxcOTW2z9b9P0Io9WvW+HramZv8ATBbs/mbF6gnnGMfpUOuy61b6TFqdnq/kIY4g0H2ZGyzEAtuP16YqP/hHdeTTH0WG8sv7MYlRM6MZ1QnJGPu+o/wrZ1nSpL7QvsFoyqymPaZCcYVgew9BU8tSpB3utF1tqr32fmvUu8IzVrWu/u0MmU68NRTR4tbU3Aha6e6NogJXIVU29OuTnrT5fEtxL4Rt7q1Vf7Ruom2KBwpXO9+ewwT9cCrmr6XqT6nFqOiy2yXAhNvItyG2lScggrzkGqUngmI6fEkOoXcVxFamAGKXYj5JJ3DBOCTyKica6U1C/wB/3W+W/nruOMqT5XK33ffcqah4kuY7HTI31SPT3msxcTXTweYWJwAoUDHJJJ4rqdKnludJtpp5YZpHjBaSAkox9RmsGLw3qWnW1hLplzBLe28Bgk+2FnQq2D8pAyACMAY6GtnQ9M/sjR4LIuJGjBLMBgEkknA9Oa3w6q+0k6n9fj+i+ZnV9nyLlNCiiiu05gooooAKqanbW13p0sF8ivA2NyscA4II/XFW6zte01dX0WexeQxLLty4GcYYH+lKV7Oyv5d/IFbq7efY+jV0DUrtpJrfxdrNjG0rgW9vDZlFwxBwXt2bkjJyTyTjAwKd/wAIvq//AEPfiD/vxp//AMi1qRef/Y9x9i2/aN0/lb/u797Yz7ZrxP4W63eDx3b2PiXxd4jsvEu2UajoOur5lvdsckNakYWMDGRgHI4X5ea/PU1ezPq3ornrH/CL6v8A9D34g/78af8A/ItH/CL6v/0PfiD/AL8af/8AItYNn8U/tfgDQvE39j7P7X1RNP8As32rPlbpmi37tnzfdzjA64z3rKv/AIzaraSa3cweBru70fQdSls9R1CK/j/dojKN6xkBnOCSV6AYy3JxVtWu3/A/zRTi1/Xr/kzs/wDhF9X/AOh78Qf9+NP/APkWj/hF9X/6HvxB/wB+NP8A/kWuJ8T/AB707QvEE1nYaZFqNnZxxSXty+qQW0iq6h/3MMhDTEIQcLjnj3rYvfibqDeNX0Dw54XfWI47W3vZL0XyQpHby5y5DLnIGCFGS3PTHMt2V3/XX9Cd/wCv67m9/wAIvq//AEPfiD/vxp//AMi0f8Ivq/8A0PfiD/vxp/8A8i1wWl/HPVdQt9Fum+H18trrm+LT5ItQhcz3C5+Ta23anH32x3ODiug0z4k6tq/gfUdWsfCMj6vpl9JY3mlvqUMaQtHy7Gd8LtCkHIB546fNT2v5f1/l96Ba2t/X9WZu/wDCL6v/AND34g/78af/APItH/CL6v8A9D34g/78af8A/ItcRb/HQ3HhCPVk8NGa8/tuPR5LK21GOZSzruDxzKNknYY4Ge/es/UvidqPhn4gG58V2c+n3NxoCfZ/Dsd+J1kumuWVAGUbNxUDL44Hrjl/1+F/69Qeiv8A1vb5f8A9H/4RfV/+h78Qf9+NP/8AkWj/AIRfV/8Aoe/EH/fjT/8A5Frk/GPxim8I31npUmh2c+svZi7vLebW4bWK3UkgKssoXzWyDwAD3qvZ/FTXNd+JHh2x8PaGs/h/VdOF6ZZLhEl2FgHcg5x5ZypQcseQcUt3p3t+f+TE3ZX+f5f5o7T/AIRfV/8Aoe/EH/fjT/8A5Fo/4RfV/wDoe/EH/fjT/wD5FqPx34YbxHo+6PX9c0VrNJJVbSL37OZTt6OcHI46V538LtQuNCbwnc61rWv6qfFmnyN52pamZre3njAfYsZX5Syg4Yt2IxSTu2n/AFv/AJDeiVv62/zPSP8AhF9X/wCh78Qf9+NP/wDkWj/hF9X/AOh78Qf9+NP/APkWuRb4x309noE2keEZtRk8Qz3senwx3yo0iQfckJZAFD9Tk/KOfm6Uy4+OMFh4YurjVdBksNftdRGmSaRcXsaIsxBZSbhsIIyozvIx9Rgl9L/12Ha39ev+TOx/4RfV/wDoe/EH/fjT/wD5Fo/4RfV/+h78Qf8AfjT/AP5FrntA+IuqeOPB2oTeFNLsovEFpcC1kt5tQS4toS2CJfOiyJECnOF5yCO2TN8Fb/UtS+GsM+t6hNqN6L26SS4ncsz7ZmHfoOOB0A4o62+f5f5k30v/AF1/yIvBfhzVJtBuWj8aa5ABq2pKUjhsSCRfTgt81sTliCx7ZJwAMAdB/wAIvq//AEPfiD/vxp//AMi1yGtXt1p3wF8V3en3M1rcw32rtHNBIUdD/aM/IYcg1wWreKvEqfCoeF4Ncv01+11O7jm1A3En2g20ETXIfeCDyrRrnPeo5tWu1n97t+Bai3bzv+Vz2z/hF9X/AOh78Qf9+NP/APkWj/hF9X/6HvxB/wB+NP8A/kWvNI/jkvhvQdB082K6xdw6LaXeqXN3q8Ns674lb5BKd08hGWIHPK9c8dXqHxUnn1fTrDwZ4Yu/EZudOj1S4eO4S3+z28hwpG/hnPJ2ZHTr1xrNcrfk2vuv/kyVqv6/rqjoP+EX1f8A6HvxB/340/8A+RaP+EX1f/oe/EH/AH40/wD+Ra80+G/ie9u7H4fHU73V7q5vo9Vd2kv22P5btgTIVJkIGAvzDbjvXXwfFLzvBXhfxB/Y+3/hINUi0/7P9q/1G93Xfu2fNjZnGB1603FqXL52/Gw2tWu1/wADc/4RfV/+h78Qf9+NP/8AkWj/AIRfV/8Aoe/EH/fjT/8A5Frhp/jjfW0lzcv4HvZdHs9Xk0me+gvY2YyK21dkbAFi3HcAZxuNdd4J8cXfifVNb0rWNBl0LU9HkiEts9yk+6ORSyNuTjJAOQM445qF7yuv62/zQti3/wAIvq//AEPfiD/vxp//AMi0f8Ivq/8A0PfiD/vxp/8A8i10lFAHN/8ACL6v/wBD34g/78af/wDItH/CL6v/AND34g/78af/APItdJRQBzf/AAi+r/8AQ9+IP+/Gn/8AyLR/wi+r/wDQ9+IP+/Gn/wDyLXSUUAfM/hjwUl34S0i4Ot6nEZrGF9iC32rmMHAzETj6kmtP/hAo/wDoP6t+Vt/8ZrF1eW7T4OeHU0+8nsppotPh863kKOoYIDyOe9cz4l8Ta1eeC9Jhs9SurS9sbaSbUZYpnV2aOQQAEjHViTz6VMMVipOyqPe27PXlhsHGydJN2T27ux6B/wAIFH/0H9W/K2/+M0f8IFH/ANB/Vvytv/jNZep/FW00vXJrM2SS2dnIsN1dG+jSRW77IT88gGRkj39OZfEvjS+B1qw0PRrq7gsLVvtWow3CxmB2jLKUU8tgYJwcj06ZX1zF2v7SX3s0WFwDdvZr7v6uX/8AhAo/+g/q35W3/wAZo/4QKP8A6D+rflbf/GaxtJ8Ry2aW9zcNe3csHhaO9dZLs+XKRySVKn5z/fyeO1dC/i3ZP4dj+xZ/tuF5c+b/AKnbEJMdPm647VUsVi4tr2j+9+f+TFDCYKf/AC7X3en+aK//AAgUf/Qf1b8rb/4zR/wgUf8A0H9W/K2/+M1j2PxRv7uHTZ28JXQt9TLR2jx3cbGSUZ+XBxhePvHHfg11HhXxE/iPT7iW4sG0+6tLl7W4tmkEmx1x0YAA8EUni8Wr/vHp5hDC4CduWmtfL/gGf/wgUf8A0H9W/K2/+M0f8IFH/wBB/Vvytv8A4zXWUVH17Ff8/Jfezf8As7Cf8+19xyf/AAgUf/Qf1b8rb/4zR/wgUf8A0H9W/K2/+M11lFH17Ff8/Jfew/s7Cf8APtfccn/wgUf/AEH9W/K2/wDjNZnifwUlp4S1e4Gt6nKYbGZ9ji32tiMnBxEDj6EGu/rG8Y/8iLr3/YNuP/RTU/ruJejqP72TLL8IotqmvuMz/hAo/wDoP6t+Vt/8Zo/4QKP/AKD+rflbf/GaPGt9fNeaNoOmXj2Emrzukt1GPnjiRNzBT2Y8AHtWcttqHg3xVpVqmuajqmn6t5kMkeozCWSKRULK6tgEDjBH8+MP65irX9o/vZnLBYSMreyVuuiNH/hAo/8AoP6t+Vt/8Zo/4QKP/oP6t+Vt/wDGayrLUr5/gXPfte3DXgs52FyZWMgIZsHdnORiqni/T7w+BrXxDB4g1q1uVtLVTFb3pSJyxUFiAMljuPOfSq+tYrmt7R723ZDw2D5U1SW19kdB/wAIFH/0H9W/K2/+M0f8IFH/ANB/Vvytv/jNYVxoV4fE1t4Vg8Ua8tv9jk1GS5a9zOzbljVN+PuDk7fU/ki+LdU1L4cWcFnNnXLy3m8ydePJjiLK8xx0J2gD/aYUni8Uo8yqS+9+f+TKWEwl7SopfJeWn4m9/wAIFH/0H9W/K2/+M0f8IFH/ANB/Vvytv/jNcjqWr3B0Xwp/bmuatpelXGnB5b6xZzJLc7RtVnAZuRk478+mR2/gLV7nW/BdleX7tJc5eKR2TaXKOVyR2JAGR605YrFpN+0enmyaeGwU5cvsltfZdk/1/Blb/hAo/wDoP6t+Vt/8Zo/4QKP/AKD+rflbf/Ga6yis/r2K/wCfkvvZ0/2dhP8An2vuOT/4QKP/AKD+rflbf/GaP+ECj/6D+rflbf8Axmusoo+vYr/n5L72H9nYT/n2vuOT/wCECj/6D+rflbf/ABmsbxb4Ou7Dwvd3Oka1qE14mzy0m8gIcuoOSIgehPevRa5v4gX8mmeBdQu4IfPePy8R885lUdvrW1DGV5VYqpUly3V9XtfU58VgMNGhOUKcbpO2nWx7bFbC80e4tmllhEzTxmSByjpl2GVYcgjsexriNK+F+sx+JdK1DxP43u9fs9Fd5NPtZrGOORGK7QZJgS0mF65xk4PtXQr4Q03UWkuri51lJHlcFbfXLyBBhiBhElCjgc4HJyTySad/wgekf8/niD/wo9Q/+P0utzxt1Y4e1+CF9aixsh40uX0TTNWTU7DTWsI8RESFyrSBtzk7iAeAM5wegzNK+G3iHxHN4xtZ/EGpaBpGo+Iro3Vg1gjC+tyUIeJ3AZNw3DcNwOBxwc+l/wDCB6R/z+eIP/Cj1D/4/R/wgekf8/niD/wo9Q/+P01pp/XT79upTk399/z/AMzjde+BtpqPihtV0bUrTToLhYlurW60S2v9wjUIPLeYHy8qAOhGecHpXX6f4MTTvFmq6zDdjy9Q0+3sVtlgCiERBgCCDg53dAABin/8IHpH/P54g/8ACj1D/wCP0f8ACB6R/wA/niD/AMKPUP8A4/UtJqz/AK6fkyVpt/X9WMPRfhd/Y+k+DbL+2PO/4ReeWbf9l2/ad6uMY3nZjf8A7XSqWo/CC4ubG8Ww8SvY3sviN9ftrgWSyrBIQAEaNmw+OoY457V1P/CB6R/z+eIP/Cj1D/4/R/wgekf8/niD/wAKPUP/AI/Tu7t9X/wP8kC0jyrb/h/82crbfB6eHm58TSXkjeIbfXpJprNQ8kka4dDtYKAx5GANo4w3WtbxL8LdI8W+K7rV9dEN1DPpX9nJbvbgtA28t5ySE5VhnHAH17Vqf8IHpH/P54g/8KPUP/j9H/CB6R/z+eIP/Cj1D/4/R0t/W1vyHd/163/M4zxD8FrnX20y/l8R2p1q1slsrq9vNEhvI7tFOVbypiwR+eWB59q23+G1xbeI/DWq6FriacdGtTZ3ES6bCVvIWdWZcJsWLJB5VeM8d87H/CB6R/z+eIP/AAo9Q/8Aj9H/AAgekf8AP54g/wDCj1D/AOP0db+d/wA/82TZWt8v6+437uD7VZT2+7b5sbJuxnGRjNeQfEHwPc2nwd0Lwbo41DUdatJYUsLyztZEVGB2tJI4ysS7Hb7zc9s4r0D/AIQPSP8An88Qf+FHqH/x+j/hA9I/5/PEH/hR6h/8fpWT38vwKvb8fxOJ8XeCdRXxD8OdK8MT3unRaTDdwjU7a2Eq2hFuoRnDArhiuCGxuyQDnmprr4IQ6j4ZubfVtee+1+51EalJq89jEyNMq7FBtzlCgTjYT156YA7D/hA9I/5/PEH/AIUeof8Ax+j/AIQPSP8An88Qf+FHqH/x+qbvv/WtxdEu3/B/zIfAPgr/AIQrRZbWa7tb25nk3yz2ulW9grdlHlwqBwO5JPJ6DirHgbwn/wAIX4ZGkfbftuLmafzfK8v/AFkhfGMnpnGc803/AIQPSP8An88Qf+FHqH/x+j/hA9I/5/PEH/hR6h/8fpdb/L+vuDpb+v61MS08O/8ACW/CvXdB+1fZPt+p6tD5/l7/AC86hPztyM/mKqXXwasrjxjrHiBdS8ubU9FbTPL+zAiJ2jEZmzu5+UAbeO/PNb1n8PNCt4GS3m1yFDLI5WPxDfqCzOzM2BN1LEknuSSeTVj/AIQPSP8An88Qf+FHqH/x+p5Vdvv/AMH/ADY1Jq3l/wAB/ojhNS+AsdxNptxput2ltcW+n29jeNeaHb3y3PkoEV0WbPlMQMHBOfl9Od7Vfhjdtr1jqnhPxRceHZYrBNOu1gsoZFuIEOV2rgJG4y3zBcDIwByDu/8ACB6R/wA/niD/AMKPUP8A4/R/wgekf8/niD/wo9Q/+P1bbe/9X/4di/4Y5/wx8KB4cXwqraybseHkvUObbabn7QSeu87duffPtWPYfBDULH+ybM+NribRtF1ZNRsNOfT4wExIzlWkDBnJ3fe4A5+XkY7j/hA9I/5/PEH/AIUeof8Ax+j/AIQPSP8An88Qf+FHqH/x+nzPm5uv/Bv+Y76NdzAX4VbfD9zpn9s58/xH/bnm/Zfu/vRJ5WN/tjdn8K6HR/Cn9k+OPEXiL7b5v9trbD7P5W3yfJQr97J3ZznoMe9N/wCED0j/AJ/PEH/hR6h/8fo/4QPSP+fzxB/4Ueof/H6labf1sv0Qu/n/AJ3/ADOkorm/+ED0j/n88Qf+FHqH/wAfo/4QPSP+fzxB/wCFHqH/AMfoA6Siub/4QPSP+fzxB/4Ueof/AB+j/hA9I/5/PEH/AIUeof8Ax+gDpKK5v/hA9I/5/PEH/hR6h/8AH6P+ED0j/n88Qf8AhR6h/wDH6APG7DQ/7f8Ahr4btvtH2fyrexuN2zdnYqNtxkdcdapXHwvtpW8SNDf+U2uMjA/Z8/Z8PvYfeG7J+n416/Z/CnwnDYwRQwanFGkaqiJrd6qqAOAAJsAe1T/8Kt8L/wBzVv8Awe33/wAerBU5Rd0/60/yR6v1yk0uaO1vwv8A5s8ZvvhjFc+JJtRtr+3it7mUS3FvPpcFwzN/FtkkBKA46YODk1Z1bwHdXmp6lNpXiGfTLTVYgl5apbpIHYJsBVj9zjGQOT6jjHrv/CrfC/8Ac1b/AMHt9/8AHqP+FW+F/wC5q3/g9vv/AI9R7OVrXEsXRTb5X955TbeBI4iqz3zSRf2IukOqxbSQOsgOTg+2D9ao6V8Pb+y1DSLm/wDEkl+mkpJFbwmzWNVjaPYBkHOR6nOcAcda9k/4Vb4X/uat/wCD2+/+PUf8Kt8L/wBzVv8Awe33/wAep8k3fXf/AIP+bH9co6e69PP0/wAkeUaZ4G/s7TvDlr/aPmf2JM8u7yMeduDDGN3y/e9+la2gaD/YcmqN9p8/+0L+S8x5e3y9wA29TnGOvH0r0H/hVvhf+5q3/g9vv/j1H/CrfC/9zVv/AAe33/x6l7OTbd9/+B/kOONpQSUY7fpocrRXVf8ACrfC/wDc1b/we33/AMeo/wCFW+F/7mrf+D2+/wDj1T7F9zT+0ofynK0V1X/CrfC/9zVv/B7ff/HqP+FW+F/7mrf+D2+/+PUexfcP7Sh/KcrWN4x/5EXXv+wbcf8Aopq9D/4Vb4X/ALmrf+D2+/8Aj1QXnwp8JzWM8U0GpyxvGyuj63esrAjkEGbBHtTVF33FLMYOLXKcF4m8OR+I7GJBdTWN3ayedaXcP3oZACAcdxzyO9Z+k+D72LXItX8S69Lrd3bRtHag2yQRwhuGOxc5YjjPp+GPVP8AhVvhf+5q3/g9vv8A49R/wq3wv/c1b/we33/x6hUpLZkSx1KUuZxf3ni7fDa+W1n0mz8VXNv4fnkLNp4tUZ1RjlkWUnIBOe3fnPOek1/w5HrPhdtFgm+yR4jVH2b9oRlIGMj+7jrXon/CrfC/9zVv/B7ff/HqP+FW+F/7mrf+D2+/+PU/Zy7iWMoq/uvXz/q3yPMfEnha61e/tdR0fWZNIv7eJ4DMsCzB4m5KlWI5yAQc+v4Ubn4W+GrvSLa0ubVpprW2+zw3LyuGHJO4qrAE7mJr1z/hVvhf+5q3/g9vv/j1H/CrfC/9zVv/AAe33/x6l7KVrX/r+mxvG0W7uH9af5L7jyGLwDdaZoWm2PhrxDcaTNZhhLKkXmx3BYfMzRM2AcjI5OOcV0mh6Pb6Botvpto0jxwA/PIcs5JJLE+pJJruv+FW+F/7mrf+D2+/+PUf8Kt8L/3NW/8AB7ff/Hqbpye7CONowd4wOVorqv8AhVvhf+5q3/g9vv8A49R/wq3wv/c1b/we33/x6p9i+5p/aUP5TlaK6r/hVvhf+5q3/g9vv/j1H/CrfC/9zVv/AAe33/x6j2L7h/aUP5TlawfG1/Bpng6+u7slYo/L3EDJ5kUfzNekf8Kt8L/3NW/8Ht9/8erm/iB8M/Dtv4F1CW2tdRnlXy9sc2q3c6n96vVHkKn8Rx17V04SlNYim4tXurX9TmxeYU54epFxdmn+R6Tp/wDx6n/rtL/6MarVVdP/AOPU/wDXaX/0Y1WqDzgooooAKKKKACiiigAooooAKKKKACiiigAooooAKKKKAI4P9Wf99v8A0I1JUcH+rP8Avt/6EakoAKKKKACiiigAooooAKKKKACiiigAooooAjt/+PaL/cH8qkqO3/49ov8AcH8qkoAKKKKACiiigAooooAKKKKACiiigAqO4/49pf8AcP8AKpKjuP8Aj2l/3D/KgCSiiigAooooAKKKKACiiigAooooAKKKKACsPxlqz6H4SvdRiiWV4dmEY4BzIq/1rcrF8Xzafb+FbyTWY/Nsl2eam3OfnXHH1xW1BJ1Ypq6utO/kZ1bqnKzto9exc063h+yEeVHgSyAfKOBvarX2eH/nlH/3yKh0/wD49T/12l/9GNVqsTQj+zw/88o/++RR9nh/55R/98ipKKAI/s8P/PKP/vkUfZ4f+eUf/fIqSigCP7PD/wA8o/8AvkUfZ4f+eUf/AHyKkooAj+zw/wDPKP8A75FH2eH/AJ5R/wDfIqSigCP7PD/zyj/75FH2eH/nlH/3yKkooAj+zw/88o/++RR9nh/55R/98ipKKAI/s8P/ADyj/wC+RR9nh/55R/8AfIqSigCP7PD/AM8o/wDvkUfZ4f8AnlH/AN8ipKKAIIYIihzEh+dv4R/eNP8As8P/ADyj/wC+RRB/qz/vt/6EakoAj+zw/wDPKP8A75FH2eH/AJ5R/wDfIqSigCP7PD/zyj/75FH2eH/nlH/3yKkooAj+zw/88o/++RR9nh/55R/98ipKKAI/s8P/ADyj/wC+RR9nh/55R/8AfIqSigCP7PD/AM8o/wDvkUfZ4f8AnlH/AN8ipKKAI/s8P/PKP/vkUfZ4f+eUf/fIqSigCCCCI28ZMSElRklR6U/7PD/zyj/75FFv/wAe0X+4P5VJQBH9nh/55R/98ij7PD/zyj/75FSUUAR/Z4f+eUf/AHyKPs8P/PKP/vkVJRQBH9nh/wCeUf8A3yKPs8P/ADyj/wC+RUlFAEf2eH/nlH/3yKPs8P8Azyj/AO+RUlFAEf2eH/nlH/3yKPs8P/PKP/vkVJRQBH9nh/55R/8AfIpk8EQt5CIkBCnBCj0qeo7j/j2l/wBw/wAqAD7PD/zyj/75FH2eH/nlH/3yKkooAj+zw/8APKP/AL5FH2eH/nlH/wB8ipKKAI/s8P8Azyj/AO+RR9nh/wCeUf8A3yKkooAj+zw/88o/++RR9nh/55R/98ipKKAI/s8P/PKP/vkUfZ4f+eUf/fIqSigCP7PD/wA8o/8AvkUfZ4f+eUf/AHyKkooAj+zw/wDPKP8A75FY3i3SLTVPC93Z3EiWscmzdMABtw6nv9MfjW7XP+OtMuNY8F39jZhTNL5e3ccDiRSefoK2w+laGttVr213+RlW/hy0vo9O5padcQ/ZCfNjwZZCPmHI3tVr7RD/AM9Y/wDvoVBYusdi7yMFVZZSzMcADzG5rkrH4zfD7UvECaLZ+JraS9klMKAxyLG7jsJSoQ5xgENzxjORWO7sjXpc7T7RD/z1j/76FH2iH/nrH/30KkooAj+0Q/8APWP/AL6FH2iH/nrH/wB9CpKKAI/tEP8Az1j/AO+hR9oh/wCesf8A30KkooAj+0Q/89Y/++hR9oh/56x/99CsPxZ468N+B7WCfxTqsdglw5SIFHkZyBk4VAWwO5xgZHqKv6X4g0nWdEtdX0zUIJ9PuwvkXAfCuWO0LzjDbvl2nnPGM8ULXVBtuXftEP8Az1j/AO+hR9oh/wCesf8A30KkooAj+0Q/89Y/++hR9oh/56x/99CpKKAI/tEP/PWP/voUfaIf+esf/fQqSigCP7RD/wA9Y/8AvoUfaIf+esf/AH0KkooAo2mqWE0LNDfW0gWWRCVmU4ZXZWHXqCCCOxBFT/b7T/n6g/7+CvPtH1Sz0Twrq2panN5Fpa6tqsk0m0ttUX8/OACT+Aq9P4t0O20nTdTlv1FlqksUNnMsbsJXk+4MAZGffGO+K/PsVxXi6WIqUoUOZRk4p662fpvbWx1xoRaTv5nZ/b7T/n6g/wC/go+32n/P1B/38FYtZOl+KNG1m91O00y+We40qUw3sexlMLc8cgZHynkZHBrjjxpipJyjQTS31enroV9WXc7D7faf8/UH/fwUfb7T/n6g/wC/grltF1rT/EWjwaro9x9osrgExS7GTcASDwwBHIPUVfpS41xMJOMqCTW6uxLDxaumbX2+0/5+oP8Av4KPt9p/z9Qf9/BWLRU/68V/+fK+9j+rLubX2+0/5+oP+/go+32n/P1B/wB/BWLRR/rxX/58r72H1Zdza+32n/P1B/38FH2+0/5+oP8Av4KxaKP9eK//AD5X3sPqy7m19vtP+fqD/v4KPt9p/wA/UH/fwVi0Uf68V/8AnyvvYfVl3JrXxZ4dks4Xj1/S2Vo1Kst7GQRjr1qb/hKfD/8A0HdM/wDAyP8Axr5f0WaO38KafLO6xxpZRMzscADYOadpev6ZrLOum3SzNHyy7WUgeuCBX7hHKqTsnU1a20PnXjqivaOiPp7/AISnw/8A9B3TP/AyP/Gj/hKfD/8A0HdM/wDAyP8Axr5yorX+xofzsj+0Zfyn0b/wlPh//oO6Z/4GR/40f8JT4f8A+g7pn/gZH/jXzXPe29tcW8E0m2S4YrEu0ncQMn6cetFne29/b+faSeZHuK7tpHIOD19xULKKTlyqpr8vL/Nfeh/X52vyn0p/wlPh/wD6Dumf+Bkf+NH/AAlPh/8A6Dumf+Bkf+NfOVFX/Y0P52L+0Zfyn0b/AMJT4f8A+g7pn/gZH/jR/wAJT4f/AOg7pn/gZH/jXzlRR/Y0P52H9oy/lPo3/hKfD/8A0HdM/wDAyP8Axo/4Snw//wBB3TP/AAMj/wAa+cqKP7Gh/Ow/tGX8p9G/8JT4f/6Dumf+Bkf+NQ3Xizw7HZzPJr+lqqxsWZr2MADHXrXzxWfr/wDyLWp/9ekv/oBqJ5PCMXLneg45hJtLlPp3/hKfD/8A0HdM/wDAyP8Axo/4Snw//wBB3TP/AAMj/wAa+ar2+ttOtWub6ZYYU6s38h6n2FVdN8QaXq/mDTrxZmjGWXaVYD1wQDj3pPKqKlyOpr20H9eqNc3JofT/APwlPh//AKDumf8AgZH/AI0f8JT4f/6Dumf+Bkf+NfMw1aybSTqYm/0MIX8zY3Qd8Yz+lU73xXounTLFeXnluyCRR5TnKnoeBSlleHgryq2+4axtVuygfUv/AAlPh/8A6Dumf+Bkf+NH/CU+H/8AoO6Z/wCBkf8AjXyufGGhLZrdG/UQs5jU+W+SwAJ4xnuOcY5rRuNSs7XTjfz3CLahQ/mjkEHpjHWhZXQabVXb0B42qt4H0v8A8JT4f/6Dumf+Bkf+NH/CU+H/APoO6Z/4GR/418xajrmm6TbxTahdLCk3+r+UktxnoATV2GaO4hSaB1kjkUMrKcgg96tZRScnFVNV6EvH1EruOh9If8JT4f8A+g7pn/gZH/jR/wAJT4f/AOg7pn/gZH/jXzlRVf2ND+di/tGX8p9G/wDCU+H/APoO6Z/4GR/40f8ACU+H/wDoO6Z/4GR/4185UUf2ND+dh/aMv5T6N/4Snw//ANB3TP8AwMj/AMa53x74v0yDwRfyaXr1iLpfL8sw3aFv9YucYPpmvFKz9c01NX0aexldo0l25ZeowwP9KqGUxpyU4u7Wtu/l8yZY9yi4tWT69j3j4k2l9ffBvxJbaUjyXMkM+I41LM6+YS6gDkkruFeb/EHx5o0ngPQx4Ql8GatpVstu6aPemRrtZlYCMRwxsCMc5DYyMg5BwfXF8X6bpzSWtxbay8iSuS1vod5OhyxIw6RFTwecHg5B5BFZcOo+BrbWTq9v4VvItTZ2c3sfg+8WYs2dx3i33ZOTk55ya+YjpK/o/u/r5Ht30+/8bf5HNRW+uat8UPGl2uv6wlvoH2aey0q2uisM0pty2x1wcoSB8oIySc1ynhrxLdRTeENa0v4gah4h1/XL9IdV0Ga7V4oo33GXbBjMPl4GDwOOODivXoPFnhy2u7i6ttI1mK4uipuJo/C98rzFRhdzCDLYHAz0qpaaz4MsNWm1Sx8NahbahcbvOu4fCV6ksm45bc4t8nJGTk80R0a+X4b/AHieqf8AX9W3POvCWvi+1Ww13WviVf2XiK61l7W48NM/nwKokZBALVeUyqr+9PAPJ5Oa53wp408bal8RLS8fUJluptXNveWN14ktVgWHzCjRJYNtkV1AGGBJJUnB3V7Qms+DY9bbWU8N6guqN96+HhK9E5428yfZ93Tjr0oTWfBsettrKeG9QXVG+9fDwleic8beZPs+7px16U4uzT7f8D/L+tbktea3X/g/5/h93CaVoPiPxRpnjbVIfF+vxXllql/b6XaQX7JCmwgqGA5PPAGcAduTXQfDHxbdfETxNe+Iori5j0qz0+3sltS7LG10w8ydinQlcqoPpnHWt5vFOjWdhdx+H9P1PTri4dpfM/4RK/ZDK3WR0WJS5Pc7gT61meB77QvBXhlNLiXxFeTPLJcXN03hi/QzzO2WbaIflHYDJwAOTSjpp2S+/Z/fr+HyJa3a6t/dv+i/Ez/i1HZjxLol9p/jKz8LeKLGCaSxk1JcWtzE2FdHdhsBzj1P+z0I891u4tvFHgfwTql3NF4WtrbxJJY3D6HcLa2a8tuuoiRgHK8Pk4y3rXsureIPCWvW6W+ueH9T1KGN96R3nhS9mVWxjIDW5AOCRn3plzrPg280eLSbvw3qE+mw7RHZy+Er1oUx0wht9ox24pRuv687/wBfeEtf68rf19x5X4g8QyzXvjHUtS+I2o6Fq3h+4MWjaRFerHHcRogaJ2iI/f8AmE5PXrzxgV0enL4h8W/Ea5fUNa1nSlsdG0/UX0qxuzGj3LKzGNhg/ISCGUY3cZPArr7nVfBN5qFtfXfhi+nvLQKLe4l8IXjSQhTlQjG3yuDyMdKuR+LfDkV/NfRaRrKXc6Kktwvhe+EkirnaGbyMkDJwD0zQ9l5f5NX+bd36B/X4p2+VrfM8S+GXjDxjq3j3R7u51OaZ7+4dNRtbvxJavGYzuyI7A4khZSAeMnCnjBNfTNcTb6z4Ns9Yl1a08N6hBqU2RLeReEr1ZpM9dzi33HOB1PatL/hPNI/58/EH/hOah/8AGKq/upCtq2dJRXN/8J5pH/Pn4g/8JzUP/jFH/CeaR/z5+IP/AAnNQ/8AjFIZ0lFc3/wnmkf8+fiD/wAJzUP/AIxR/wAJ5pH/AD5+IP8AwnNQ/wDjFAHnPif/AJIp4w/6/NX/APS+euF8R29x4SuPDPhfynfSL7XbPUtLkGMQfN++gPfAeQMvsx9K9I0DXtJutA1C1vtK1e7t7jVdSLxt4evJo3Vr2ZsMPJIzg8qeQcggEEVqXWsaDfJbpfaBq1yttIssCzeF71xE6/dZcwfKR2I6V+V1PrtDF1V9WnKLqTlpF63+Fp26fim11O+8XBK/T81Y8r8R+KQfGkOp+H/FerCZNfSwn0261VFXAcK2yzVOYsZG92U5HIJOadYw3Og6p4v8b6ZE850/xDe22p26EZms2CEkZ/ijb5xyON3Nekyz+E57i4uJvCl/JNdFTcSP4Tuy020gjcfIy2CARnuBVuDW9DtVuVttC1iFbqRpbgR+GL1RM7DDM+IPmJA5J61lz4qNNQhhJ7Wd4vVaaaL1t23KvFt3a3T+6/8AmvuMr4Lf8ke0H/rnJ/6Neu6rnLLX9G02zjtNO0XWrS2jGEhg8M3qInOeFEGByan/AOEtsf8AoH+IP/Cdv/8A4zXhYvL8wxGIqVlh5rmbfwy6u/YKbjCCjdaG5RWH/wAJbY/9A/xB/wCE7f8A/wAZo/4S2x/6B/iD/wAJ2/8A/jNc39k5j/z4n/4DL/I09pDublFYf/CW2P8A0D/EH/hO3/8A8Zo/4S2x/wCgf4g/8J2//wDjNH9k5j/z4n/4DL/IPaQ7m5RWH/wltj/0D/EH/hO3/wD8Zo/4S2x/6B/iD/wnb/8A+M0f2TmP/Pif/gMv8g9pDublFYf/AAltj/0D/EH/AITt/wD/ABmj/hLbH/oH+IP/AAnb/wD+M0f2TmP/AD4n/wCAy/yD2kO588hbR/h5bpqMjRWzWESySKpJXKrg4APfFYUWo3Fut9atd2WoSJp8jQajaECVFXorEdPXr+Jrf0XVrVPDunxSQ3jYtY1bFjMyn5AOoTBFSQzaLbxyR2+mSxJKNsippUqhx6ECPnrX9WSgppSjNLS34P8Az9Vr3PjIycW04t6mDZ2l/NfabAdc1HZf2HnTnzRkEAYCEj5eo56+/NNXUvtHh/Tba+1W7t7l/N2zLcrAr7GIHmSEE9OmAcnr610q6hpqPG6WdyrRJsjI0yYFF/uj5OBx0qNrjRnjjjfTZmSJi0anSpSEJ5yB5fBpujHXlmtfPzT79NQ9o+sfw9f+AYOlXc17D4YluZWmf7TOvmMclgFYDJ78d62/B/8AyL4/67zf+jGqZb3SkZWSwuFZHLqRpcw2serD5Op7mnw6pp9vH5dva3cSZJ2ppsyjJ5JwEqqFONOfPKaen6QX/tv4kVJOasotf8O/8zUorP8A7btf+eV9/wCC+f8A+Io/tu1/55X3/gvn/wDiK7va0/5l95z8k+xoUVn/ANt2v/PK+/8ABfP/APEUf23a/wDPK+/8F8//AMRR7Wn/ADL7w5J9jQorP/tu1/55X3/gvn/+Io/tu1/55X3/AIL5/wD4ij2tP+ZfeHJPsaFZ+v8A/Itan/16S/8AoBo/tu1/55X3/gvn/wDiKo63q9tL4f1GNY7wFrWVQWsZlHKHqSmB9TWdWrT9nL3lsXCEuZaEXido4NU0W6vsfYIrhvNLDKq5X5GP0OeahvLu01Lxfph0mWK4mijlM8sDBgIyuACRx949O341rS6tYzxNFNbXkkbjDI+nTkMPQjZUdre6VYqy2VhcW6scsItLmQE++ErnlCMpP31ZtPz0t/l+hrGTUV7ruk19/wDw5zUerWCfDWWykuoku1ieI27MBJu3EY29a2fEasngtEcYZfIBB7HctWTPozXf2ptMmNxnd5x0qXfn13eXmpptUsLiMx3FrdyoSCVfTZmHHI4KURiuVqU1dpL7r/5jcnzKSi92/vM3Ubm2svGkc2pSxxW7ac6I0pABbfyOe+KyJ9MSb4Zw3N4HaS3t2aFCxCjLcNjudvT61011faXexhL2xuLhFOQsumTOAfXlKfLqmnzwNDNa3ckTDBR9NmKkemNlRUownGcXJap2+euvp0HGpKPLaL0t+BlXFzbWXibTptQljhgbTmVHlYBd2VyMnvir3g9WXwrZ7gVBDMgPZSxK/pipLi90q7hWK7sLieNTlUl0uZgPoClTDWbRVAWG+AAwANPn4/8AHK3pqEajlzK2v4u//DGcnJwUeV/8N/w5o0Vn/wBt2v8Azyvv/BfP/wDEUf23a/8APK+/8F8//wARXR7Wn/MvvMeSfY0KKz/7btf+eV9/4L5//iKP7btf+eV9/wCC+f8A+Io9rT/mX3hyT7GhWb4ghvbjQ7iLS5PKum2+W+7GPmGefpmnf23a/wDPK+/8F8//AMRVHWPEP2fSZpbC1u5rhduxJLKZVPzDPJUDpmpnVpcr5paeT1+XmVGE76L7z6vjvbbTtGuL2/njt7a3aaSWWRsKih2JJPpiuHg+OXh57y0+1aR4isNLvZhDba1eaaY7KUtnYQ+c4bHHy+5wASNTx/ot94h+E+vaXpKs95cRzeVGpAMhEpbZzxzjH415d4z+Jsmv6fpmneA9ZvLXXrfy438LS+HRPL56MDlnkQrGY9pPGcbc8YyPg4azUfT8ev8AXz0PqGvdv6/1/XY+hqK8Ys/Cdvrvxc8eapNE9xqelm0l0xDMypFc/Zjh9oIVjnA+YED8a4rwf/Y39t+Fv+EP/tf/AIWH9vH/AAkv2r7Ru8rLfafP3fJt3bcY5ztzzRHVpen4/wCXXtoJ6Jv+v67d9T6cor5x8Hv4ZTxhZHXf+EhPxPOsyC9Fn5m4pvbG/f8Au/s3l7M4+bbjHFc74Sj1yT4wW32u/wBOsvFa6uzX3mLqLXs0O/5o2ARrfyjHjaeAFCnIpxXM0u//AAP8wl7vN5f8H/L8UfWFFeDeH/hnpXi/SvHd9cxyS6u2s6jBYTNM+22OQRtTO3O8A5xnp6VvfCLU7vx14g1DxlqtrJbyWdnDo0McowVkQb7hvxcgfQc0o629E/v/AKSfqEtG/Vr7n/w7+R2XjDx9p/g6aytZ9P1TVr++3mCx0m18+ZkQZZ9uQNoyO/fp1xLo3j7w9rfhvTNbt74Q22qTLb2yXA2SNMW2+Vt/vAg5xkcE5xzXEfGt/DcV5o8+v6prHhi/gWRtO8RWEDyRQuRhoX2fMSw524GQD82Mg8H4pmj8VfDjwb4m+JCG6t7fXWtptR8iWD7TYNu/e+WmCofYp4APAx15UWnv3/W39feroJabdv0v/X3H0vRXzD4pPhttc8UHxUdXPi8zg+ETb/aOYNo+y/Z9ny53dc984+bNdhpXhP8A4Sf4rX0vi2E3Gq6boem3IiWZ0jF6FY7yFIDbWBwDkfMaG7JP+tm/vVrNdG1qH9fil9zvo+x7dRXyp8Ko9Vf4qaa019p9t4iS4lOsxldRN9PHzvWfKm3x90ggqMhOc19V1VvdTFf3mgooopDCiiigDmPBM0dv4WvppnCRx6vqzOx6KBf3BJrK8N/F7QfE2v22lQWGsWP25ZG067v7IwwX4TkmFsknjnkDj34q/wCFWRPBGqtJayXiLqesFreJQzzD7dcZRQSASegBI615D4D1+DS/HOn6H8O/EOq6jo10ZRf+HdUspPM0dQpJPmsMLtc7cA4yeSxINTezf9d/6/MGtL/1/X9I+i6K+WvCfgvS7jwz8OtTjkvre+1fVbiyvJ4L2VDJbBpiYRhhtU7cHbj7zetbEr+H/C/gnxF4e1nT7i58MxeLms0V7q4EWnxGNXDP5R3uobkJn5mPUHmras2u3+cV/wC3L8fUdtbf11/yZ7r4l8S2fhbT7e71COeSO4u4bNBAoJDysFUnJHGTz/I0aJ4ls9e1DWLSzjnSTSLv7HOZVADPtVsrgnIww64+lfPegeXbeAb/AE20kb7Ha+NLA2kRhlhCxO0bKyxyszorfeG4knOa9d+G/wDyNPj/AP7Dx/8AREdZxbcmv62h/wDJMT20/r4v8jv6KKKsAooooAKKKKACiiigD5H0u7hsfB1jdXT7IorKJnbGcDYKNK8Q22q3L26291aTqgkEV1FsZk6bhyciq8XkHwBbC7t5rmE2EQeKEZcjYOnI6dfwrmra/ZrHVLHTtTm1PTFsJG3TRMGtzjCruIGeP5cAV9fLESpOK6ct7ddn+Hnr5ngRoqpd9bnodFcDYaBZSahpMJ87yrzTvMukE7gTEBcZ56DPTpwKh86xbw3pNlq8bPEzTLHPIZWWMq5CjYhBY44HIx+lW8XKN+aKXz7NLt5on6uns/w9fPyO5utRitLy0tpFcvduyRlQMAgZ55o03UYtUsxc26uqb2TDgA5UkHoT6Vx2iM5t/DSSFt0d3cR7WyCmA2FIPIwO1b/g/wD5F8f9d5v/AEY1GHxMqtW3Szf4U3/7cxVaShHz/wCDL/I3aKKK9A5gooooAKKKKACs/X/+Ra1P/r0l/wDQDWhWfr//ACLWp/8AXpL/AOgGs6v8OXoyofGh+qarbaRaie7LHcwSOONdzyMeiqO5qrp3iO11C6a1a3u7O5VPMEN3D5bOvqPWqviXdaX2l6q8cktrZSP56xruKBlxvx6Cqv8AaFv4k8R6fJo++WGyWR5rkxsqjcu0JyBz3rknXmqjinrdK3VrTX5fpbc3jTi4XfZ6/p/Xc2V1y2bw8dYCS/ZxGZNuBvwDjpnH61V1HxVBpgRpdO1GSJ0VxNFACg3dBuz19q5tdZtofBcmgTLMuqhGgFqImLMxbjBxjGDnrW94ljaHwasb8MhgU/UOtT7ec4OUJbJffrdfl6F+yjGaUlu392lh8ni63ihRpNN1NZnLYtjbfvdoAy+M/d5xmrl54h06y0VdUlm3W8igx7fvSZ7AHvWXrF9DoviqLUdQLLayWLQK4QsA+7djjuR/Ks+40pIfhqJL23H2uG2bYZB80YZ849jjFTPEVYwqNNNxTfpb/PcFSpvlfdr8f8jodS8RW2m+QpgurmadPMWG2i3uE/vEZ4FaFndw39nFdWr74ZV3I3qK5bxBLDYy6bem/uNNlaDyvtKW4mRlwDsI7Mexx61r+FLaa08M2sVwro/zNtkGGALEjPvg10U6s5V5Qey/r8fP5GU6cVSUkbFFFFdZgFFFFABVLV9Qh0vSpry63eVHt3bRk8sB/M1dqpqcdrLp0qagIzbnG8SkbeoxnPvih81vd3DT7Wx9Drr+pWjSQ2/hHWb6NZXIuLeazCNliTgPcK3BODkDkHGRg07/AISjV/8AoRPEH/f/AE//AOSq2tP/AOPU/wDXaX/0Y1Wq/PT6s5v/AISjV/8AoRPEH/f/AE//AOSqP+Eo1f8A6ETxB/3/ANP/APkqukooA5v/AISjV/8AoRPEH/f/AE//AOSqP+Eo1f8A6ETxB/3/ANP/APkqukooA5S98Qa3d2MsEPg/xNZySLtW4gm0wvH7rvuGXP1BrO8LNceEfD8OkaV4F8TNDGzO0s91p7ySux3M7t9qGWJJPQD0ArvKKAOb/wCEo1f/AKETxB/3/wBP/wDkqj/hKNX/AOhE8Qf9/wDT/wD5KrpKKAOb/wCEo1f/AKETxB/3/wBP/wDkqj/hKNX/AOhE8Qf9/wDT/wD5KrpKKAOb/wCEo1f/AKETxB/3/wBP/wDkqj/hKNX/AOhE8Qf9/wDT/wD5KrpKKAOb/wCEo1f/AKETxB/3/wBP/wDkqj/hKNX/AOhE8Qf9/wDT/wD5KrpKKAOb/wCEo1f/AKETxB/3/wBP/wDkqj/hKNX/AOhE8Qf9/wDT/wD5KrpKKAPO/BfiPVIdBuVj8F65ODq2pMXjmsQATfTkr81yDlSSp7ZBwSME9B/wlGr/APQieIP+/wDp/wD8lUeA/wDkXbr/ALDWq/8ApwuK6SgDm/8AhKNX/wChE8Qf9/8AT/8A5Ko/4SjV/wDoRPEH/f8A0/8A+Sq6SigDm/8AhKNX/wChE8Qf9/8AT/8A5Ko/4SjV/wDoRPEH/f8A0/8A+Sq6SigDm/8AhKNX/wChE8Qf9/8AT/8A5Ko/4SjV/wDoRPEH/f8A0/8A+Sq6SigDm/8AhKNX/wChE8Qf9/8AT/8A5Ko/4SjV/wDoRPEH/f8A0/8A+Sq6SigDm/8AhKNX/wChE8Qf9/8AT/8A5Ko/4SjV/wDoRPEH/f8A0/8A+Sq6SigDm/8AhKNX/wChE8Qf9/8AT/8A5Ko/4SjV/wDoRPEH/f8A0/8A+Sq6SigD5i8NeD/F914T0ie08LXk9vLZQvFKt1aASKUBDANMCMjnkA+1af8AwhHjb/oUL7/wMs//AI/Xs3w4/wCSWeFP+wLZ/wDohK6SvTjmmJikk19xxPBUW7nzr/whHjb/AKFC+/8AAyz/APj9H/CEeNv+hQvv/Ayz/wDj9fRVFV/auJ7r7hfUaJ86/wDCEeNv+hQvv/Ayz/8Aj9H/AAhHjb/oUL7/AMDLP/4/X0VRR/auJ7r7g+o0T51/4Qjxt/0KF9/4GWf/AMfo/wCEI8bf9Chff+Bln/8AH6+iqKP7VxPdfcH1GifOv/CEeNv+hQvv/Ayz/wDj9H/CEeNv+hQvv/Ayz/8Aj9fRVFH9q4nuvuD6jRPnX/hCPG3/AEKF9/4GWf8A8fo/4Qjxt/0KF9/4GWf/AMfr6Koo/tXE919wfUaJ86/8IR42/wChQvv/AAMs/wD4/WZ4l8H+L7Xwnq8934WvILeKymeWVrq0IjUISWIWYk4HPAJ9q+na5v4j/wDJLPFf/YFvP/RD1Ms0xMk02vuGsFRTueM/8IR42/6FC+/8DLP/AOP0f8IR42/6FC+/8DLP/wCP19FUVX9q4nuvuF9Ronzr/wAIR42/6FC+/wDAyz/+P0f8IR42/wChQvv/AAMs/wD4/X0VRR/auJ7r7g+o0T51/wCEI8bf9Chff+Bln/8AH6P+EI8bf9Chff8AgZZ//H6+iqKP7VxPdfcH1GifOv8AwhHjb/oUL7/wMs//AI/R/wAIR42/6FC+/wDAyz/+P19FUUf2rie6+4PqNE+df+EI8bf9Chff+Bln/wDH6P8AhCPG3/QoX3/gZZ//AB+voqij+1cT3X3B9Ronzr/whHjb/oUL7/wMs/8A4/R/whHjb/oUL7/wMs//AI/X0VRR/auJ7r7g+o0T51/4Qjxt/wBChff+Bln/APH6yvE3gTxJL4duk1vw/e6fYnZ5tybm1cJ84xwkrNycDgHr+NfT9cL8aILy5+EOtQ6ZL5N03kbH3bcfv4yefpmrp5lXqTUJq6bs1bfy+ZM8HShFyi7Ndex2Gn/8ep/67S/+jGq1XMrd+K42kXTNF0a4thK+yS41eWFydxzlBbOBg5A+Y5AB4zgO+3eN/wDoXvD/AP4Pp/8A5Drxz0DpKK5v7d43/wChe8P/APg+n/8AkOj7d43/AOhe8P8A/g+n/wDkOgDpKK5v7d43/wChe8P/APg+n/8AkOj7d43/AOhe8P8A/g+n/wDkOgDpKK5v7d43/wChe8P/APg+n/8AkOj7d43/AOhe8P8A/g+n/wDkOgDpKK5v7d43/wChe8P/APg+n/8AkOj7d43/AOhe8P8A/g+n/wDkOgDpKK5v7d43/wChe8P/APg+n/8AkOj7d43/AOhe8P8A/g+n/wDkOgDpKK5v7d43/wChe8P/APg+n/8AkOj7d43/AOhe8P8A/g+n/wDkOgDpKK5v7d43/wChe8P/APg+n/8AkOj7d43/AOhe8P8A/g+n/wDkOgDpKK5v7d43/wChe8P/APg+n/8AkOj7d43/AOhe8P8A/g+n/wDkOgA8B/8AIu3X/Ya1X/04XFdJXnfgu88YroNyLXQtDkT+1tSJaTWpkIb7dPuGBangNkA55ABwM4HQfbvG/wD0L3h//wAH0/8A8h0AdJRXN/bvG/8A0L3h/wD8H0//AMh0fbvG/wD0L3h//wAH0/8A8h0AdJRXN/bvG/8A0L3h/wD8H0//AMh0fbvG/wD0L3h//wAH0/8A8h0AdJRXN/bvG/8A0L3h/wD8H0//AMh0fbvG/wD0L3h//wAH0/8A8h0AdJRXN/bvG/8A0L3h/wD8H0//AMh0fbvG/wD0L3h//wAH0/8A8h0AdJRXN/bvG/8A0L3h/wD8H0//AMh0fbvG/wD0L3h//wAH0/8A8h0AdJRXN/bvG/8A0L3h/wD8H0//AMh0fbvG/wD0L3h//wAH0/8A8h0AHw4/5JZ4U/7Atn/6ISukrx7wT468RWngDw9bW/hzTJoodMto0kfWJEZ1ESgEqLY4JHbJx6mtv/hYXib/AKFfSf8Awdy//ItRzx7nQsLWauono1Fec/8ACwvE3/Qr6T/4O5f/AJFo/wCFheJv+hX0n/wdy/8AyLR7SPcf1Wv/ACno1Fec/wDCwvE3/Qr6T/4O5f8A5Fo/4WF4m/6FfSf/AAdy/wDyLR7SPcPqtf8AlPRqK85/4WF4m/6FfSf/AAdy/wDyLR/wsLxN/wBCvpP/AIO5f/kWj2ke4fVa/wDKejUV5z/wsLxN/wBCvpP/AIO5f/kWj/hYXib/AKFfSf8Awdy//ItHtI9w+q1/5T0aivOf+FheJv8AoV9J/wDB3L/8i0f8LC8Tf9CvpP8A4O5f/kWj2ke4fVa/8p6NXN/Ef/klniv/ALAt5/6Ieud/4WF4m/6FfSf/AAdy/wDyLWJ428deIrvwB4htrjw5pkMU2mXMbyJrEjsimJgSFNsMkDtkZ9RRzx7ieFrJXcT2GivOf+FheJv+hX0n/wAHcv8A8i0f8LC8Tf8AQr6T/wCDuX/5Fo9pHuP6rX/lPRqK85/4WF4m/wChX0n/AMHcv/yLR/wsLxN/0K+k/wDg7l/+RaPaR7h9Vr/yno1Fec/8LC8Tf9CvpP8A4O5f/kWj/hYXib/oV9J/8Hcv/wAi0e0j3D6rX/lPRqK85/4WF4m/6FfSf/B3L/8AItH/AAsLxN/0K+k/+DuX/wCRaPaR7h9Vr/yno1Fec/8ACwvE3/Qr6T/4O5f/AJFo/wCFheJv+hX0n/wdy/8AyLR7SPcPqtf+U9Gorzn/AIWF4m/6FfSf/B3L/wDItH/CwvE3/Qr6T/4O5f8A5Fo9pHuH1Wv/ACno1cL8aLy4sPhDrVzZQefOnkbY9pO7M8YPA56E1T/4WF4m/wChX0n/AMHcv/yLXN/EH4hav/wgmof2xoFja2f7rzJrbVHnkX96uMIYEB5wPvDAOecYO2HqR9tD3rarXtruY18NWVKTcL6M9aiuPsmj3Fx5bSeS08mxB8zYdjge9edfDb4heL/Gl9bX09j4futBu1cudLuybnSzyUW4VyNxOMfKvvwOK9FiFydHuBYNEt1un8kzqSgfe23cAQSM4zg5xXkGg+CfE118UtK1658E2PhSe1eRtT1Ow1MPDqQKldq268ruY7vm5/vEnFZq/N/X9fr2uRL4f6/r+tT06Hx34cuPD9jrcOo7tO1C6WztpvIkHmSlygXbtyPmBGSAPfFZV58YvAOn6w2l33iOCC8S6azeOSKQeXKpAIZtuFXJ+8SFODzwcecaf4N+Ilt4f0PwlL4cthp2ieII7xtSXUYibqETs+Vi6qBuycnPGAKqQaf4p12w+IXh7w/4asdRs9Y8SXcE2ozXixGyYFPneNly6jIZdpJBB46ZpWbuvPy0937t2aSilf1t/wClffokeva98TfB3hjXYNG17Xrezv7jaViZXYKGOAXZQVQe7Ecc9KXWfiV4R8P68mi6vrCW+pO0Spb+TIzMZM7MbVIIOOvQcZxkV5F4n+EPiqPxXfpp0esarpOrxW8cz2Gvx6eihI1jYTxvG5kHGRgHgkYJr0bQ/B99pnxC1vUXtSbSTRLSwtLl5VdnZAwdex/u5JABqG7JW8/yb/NWv1uZq7ev9ar/AILJLb43fDi7lEcXiq0UmEz5lSSMbR2yygbuPufePYVof8LR8Gf8Ib/wlX9uwjRvN8gXBjkBMmcbPL2793fG3pz05rhvDXw81ux8O/DS0v8ASI0l0O9nn1FPNiPk7g5VshvmO4qflzT10D4geHtL12Tw3poke88WT30lol3FDJd2LqBhJTkREkdeHAHGDVveS7bfev8AP8G/II6xTf8AW/8Akvv+Z2UXxY8ES+GovECa/D/Zct2LIXDRSALMRkKwK5XgZywAxzmsqy+LOmX3iad4ry2HhePQ/wC1BfyQyRyZE7RnhsHHy8DbknpnIri7L4b+K2tTFf6JtEvjG01d0bUhdBbUJ8+ZZG3uy/dORknpkVtfET4Vaj45+IsmpJNPZW1to6CzuI5IzG94krMqSRnJZeQegHv2o2Sf9fDf56vT0sPS2n9e9b5afg7nY658UvB3hqxsLrXdY+xJqMfm2yS203mMn94xhN6j3YCql18XPC9t4+03wqt0ZrjUIVkiuY1LxEvgxKGUHduBzn7oHftXn/jbwT4613XdP8VW2l6sl3d6UlnqGnaTr0NhLBIrEtmQh1kjbPCjn1re03wZr3hLxd4LudI0STULGz0p9MvS2pRlrMPKrb9zKnmheeFUZA7cZS+JLzt8tf8AJa7akNu3y/y/4Onkdt41n8YW2mxz+CBoZeIO90NX87BQDI2eX369a5f4beO/Euv3Gm/8JjLoEC61YNeaZb6dFcCZwpG/eXynAPQNn8K9F1CJ59MuoohueSF1UZxklSBXiPi3SNY8GfAzwlqqLFZeJPDJjRInIkLGUGJ4gVOGJ3A8H+GpTcW+u343X+RbXNZev4Wf46no198VvBWmWkd1f64kFvLLcQxyvBLtd4P9aAdvODwMfePC5NTR/E3wdN4OfxTHr1udGjkMTXBVwQ+fueXjfu77duSOenNea65oV/4N1P4T6XomnW+p6jp8V632WabyluJfIV5MOQdrFixBIxnGcdaqat8LfGGuaHqGvGxOlaxda8uqro1hqKRyIixmPC3ABRZSSW3YI9eTgW1ZP+uttvvflYOkX31/P/JL5nqEvjV/EngaTWPhcLXX7l5RBCJpDDHE24BmlDbWAUHdt4YjGOoNRfDTxdqnizStQOtxae1zp961qbzSpGe0usANuiLc4G7B5PI/Acf4a8H+N/D3gfUr/Ro7218Q3V/HdTWWr6tDqD3scY2tG03lKqF14BySML8y846P4XeGtV0e41/VNU0a28ORatcRyQaFazJLHabE2M+UAXc5GTt9B3ppK79Px0/4P69CdbL1/wA/+B5ETa/deFvg/wCItc0+OGS5sdR1aWNJ1JQkahP1AIOPxFc9qHxj160+EcOtRadYv4mOoy2Etp5bmBWi3vI2N4bAjTP3u9bd9o994g+CXifStIg+0Xt3f6tHDFvVd7f2hPxliAPxNcxqHws8RzeONduorcPpE2j3E1lF5sQzqE1qsDDGcgnaTk4HPXrWPvc0l5K3qrv8UrfcaRSbjfvr+C/Bu/omdpD8XvDGl6B4dm8Yaxa6dqWsWEN15CRyMql1BJOA2xck4LHseeDWx4j+I/hLwndWVt4g1y3tJr9Q1upDPuUnAclQQqk/xNgcHng14tqnwm8Z281jNaWWr3cN9olnZX1tpniCKw8h4oRG8cu5HWVD1G3P8XqM9k3hHxT4N8V6dfeF/D1p4gtZNBg0aVbrUEjezMbfeLsg3xkHkKmTt6DgHapa7t3f62/TXbUzj+i/T/g6eRpeCviRqXiSy8J3F/LpNudZW+aeBIpt7iByFMRG5QABlt7c5+WusTx14ck0XS9XTUc2OrXSWdlL5En72VmKquNuVyVPJAHHWvOPAvgDxLpEfgBdT01bf+yItTW+2zRsITMxMeMMdwOe2cd8VlaZ4Q+Isei+FfDF74bt0sPD3iCG7fUU1GJjcwiV23LHwQFDdzuPGF64tqLnbpf8Lu/4WKf2n6/k7Hosnxk+H8OsHS5/E1tBdrPJbuk0ckaxuhwwZmUKoz3JAPYmtrwt428O+NYLmbwxqcd+lrL5UxRGUo3UcMASD2I4ODg8V5kfhzrsvgzUtPm0hGnuvGf9pmMyxfPa+cDvJ3Y+5n5fvdsV23hrw/qOnfFTxnrF1aiKw1RbEWkodT5pjiZX+UHIwSOoGe1ZQ1Wv9aJ/q18hd7f1q1/wTtKKKKACiiigAooooA+a5tcv/D/wj0C70iKCW7e1soES4VipLoo7EGs/xD8TNRsfCOialpNpbS3d9C01ykqMUiVMK/RgR87ADJNaLaXeat8LvC8Gnw+dJGmnzMu4LhFCFjyR0Fc7efD7XWj8UpHbiaOQeXpMfmRjKPOJXA5GMH1x/KuSnyuXvd/w0/V/gz6CftNOTayX56/cvxR311428O2OtxaPe6pDFqEm390QxALdAWA2qfYkdR6iq3iXx3ovh9rmyl1G3TVVt3lhgkViCwUlQxHAzjoSCcj1FcTq/wAP9cm8SajEsOo3WmancCd3ttXS2hQHGRJEyMWKkdQDxjvWvq+heJLPUvEkGk6La6na67AoF1LcrG0BEWzawIy3IyMYHPJ64nljy36/8MXGrVu01s+z2/X5bXNnSvFzz/ZptTnsoYG0RNSnjjjl8xCfvMOCuzHbJbNbbeINMWTTkNz82poz2g8tv3ihd5PTj5eecVxtp4R1dlWGW3WEN4WXTi7SKQs/dTgk4HqBioNM0nxbd6p4XOq6JHZW+jQzQSSC8jkaQmHYHwOgJAGBk9c4FXOMW3bz/wDbv+B94U6lRWUl/Vo/8H7joYPib4OuJAkeu24JjMn7xXQYHbLADPH3ep9K2tF1zTfEOnC+0a6W5tixXeFK4I6gggEfiK4jRfCGp22i+C7e709Vk0y7kmu13ofLyHweDzyV6Zro/CGk3mlS68b2DyRd6tNcQfMp3xsFw3B46Hg81LjG8kun/A/z/AdKdaSi5re3R9v0/U6SiiiszrCiiigArG8Y/wDIi69/2Dbj/wBFNWzWN4x/5EXXv+wbcf8Aopqa3IqfAyHxV4gudGis7XSrVLvVNSmMFrFI+1FIGS7d9qjkgc1m2PiLxFpviC20rxfaacP7QRzaXWnM/l70GTGwfnJHOfw57W/GGjajetpuraEsMupaTM0sUEzbVnVlwyZ7E8YJ4rPtbLxH4l8T6fqHiHSo9FstLDvHbi6WeSeVlK7srwFAP1z654qO39fh/W/kY1HLn0v0t287/wDB+WpPa+LL6b4WS+JWitxeJbSyiMK3l5VmA4znHHrVLxJ4k8Xab4ft9c02PRWsWtoHkS4WUy+Y+AcAHG3LDvnrWUNH8Z2fhO58Gw6JbXNrJvhi1Y3qoixO2ctH97IBI4/I9+o8VaDd3Xw9OjaYn2m4jSCNBuC7gjLk5JA6KTV2jzX6Nr7uplepKNtdE/v/AFMufXvG8V7BoqwaDJrMsb3bOpm8hIFwoGPvbyxPtgflMPF2va3o+jy+FtLt/tF/HJJcTXoc29tsOChZO5bOOe3T0n8SWGuWXii08QeHdMj1SQWb2U1s1ysJALBlcFuCAQcjryPwwtR0HxXpngvSPDukacb6Ehn1R4LtIC4ZizRKzHIB3EEgdPqaWjj5/wDD/wDAG3OMnvb/AIb8b3X9IvN4r8UXvg+38Q6cmh2VskLtef2gZTh0YqTGU6qccd+cc11Hha91XUvDNnea9bxW17Om94olKhQT8vBJIOMZGawL/StU1nwzoemnRF0qBb6P7bZJco6xW8ZJA3DAYEheBzXbUpWs/X+vz/A0pKXMm29vx/4FvxCiiiszpCiiigArC8aLav4RvV1ARG3Pl7/Oxt/1i4znjrit2ue8d6dFq3gq/sp2dI5fLyyYyMSKe/0rpwl/rFPlV3zLT5nJjrfVat3b3X+R6otp4rkaRtM1rRre2Mr7I7jSJZnB3HOXFygOTkj5RgEDnGS77D43/wChh8P/APghn/8AkytrT/8Aj1P/AF2l/wDRjVarc+bOb+w+N/8AoYfD/wD4IZ//AJMqtaaB4q08zmw1bwxam5laefyfDkqebIerti75Y4GSea62igDm/sPjf/oYfD//AIIZ/wD5Mo+w+N/+hh8P/wDghn/+TK6SigDm/sPjf/oYfD//AIIZ/wD5Mo+w+N/+hh8P/wDghn/+TK6SigDm/sPjf/oYfD//AIIZ/wD5Mo+w+N/+hh8P/wDghn/+TK6SigDm/sPjf/oYfD//AIIZ/wD5Mo+w+N/+hh8P/wDghn/+TK6SigDm/sPjf/oYfD//AIIZ/wD5MqleeGfEmo3drdahqHhS6uLNt9tNP4akd4G45Rjd5U8DkeldjRQByU+geKrm9try51bwxNdWm4288nhyVnh3DDbGN3lcjg461Z+w+N/+hh8P/wDghn/+TK6SigDm/sPjf/oYfD//AIIZ/wD5Mo+w+N/+hh8P/wDghn/+TK6SigDi9F8PeMdJsJLe18R6GyPd3NyTJoUxO6Wd5WHF2ONznHtjk9a0PsPjf/oYfD//AIIZ/wD5MroIP9Wf99v/AEI1JQBzf2Hxv/0MPh//AMEM/wD8mUfYfG//AEMPh/8A8EM//wAmV0lFAHN/YfG//Qw+H/8AwQz/APyZR9h8b/8AQw+H/wDwQz//ACZXSUUAc39h8b/9DD4f/wDBDP8A/JlH2Hxv/wBDD4f/APBDP/8AJldJRQBzf2Hxv/0MPh//AMEM/wD8mUfYfG//AEMPh/8A8EM//wAmV0lFAHN/YfG//Qw+H/8AwQz/APyZR9h8b/8AQw+H/wDwQz//ACZXSUUAc39h8b/9DD4f/wDBDP8A/JlH2Hxv/wBDD4f/APBDP/8AJldJRQB5dpPww8RadotjZW/inTDFbW8cKF9FkLFVUAZIuRzgelW/+Fe+Jv8AoaNJ/wDBJL/8lV6Fb/8AHtF/uD+VSVHJHsdCxVZKykec/wDCvfE3/Q0aT/4JJf8A5Ko/4V74m/6GjSf/AASS/wDyVXo1FHs49h/Wq/8AMec/8K98Tf8AQ0aT/wCCSX/5Ko/4V74m/wCho0n/AMEkv/yVXo1FHs49g+tV/wCY85/4V74m/wCho0n/AMEkv/yVR/wr3xN/0NGk/wDgkl/+Sq9Goo9nHsH1qv8AzHnP/CvfE3/Q0aT/AOCSX/5Ko/4V74m/6GjSf/BJL/8AJVejUUezj2D61X/mPOf+Fe+Jv+ho0n/wSS//ACVR/wAK98Tf9DRpP/gkl/8AkqvRqKPZx7B9ar/zHnP/AAr3xN/0NGk/+CSX/wCSqqat8MPEWo6LfWVx4p0wRXNvJC5TRZAwVlIOCbk84PpXqNR3H/HtL/uH+VHJHsJ4qs1ZyPPf+Fe+Jv8AoaNJ/wDBJL/8lUf8K98Tf9DRpP8A4JJf/kqvRqKPZx7D+tV/5jzn/hXvib/oaNJ/8Ekv/wAlUf8ACvfE3/Q0aT/4JJf/AJKr0aij2cewfWq/8x5z/wAK98Tf9DRpP/gkl/8Akqj/AIV74m/6GjSf/BJL/wDJVejUUezj2D61X/mPOf8AhXvib/oaNJ/8Ekv/AMlUf8K98Tf9DRpP/gkl/wDkqvRqKPZx7B9ar/zHnP8Awr3xN/0NGk/+CSX/AOSqP+Fe+Jv+ho0n/wAEkv8A8lV6NRR7OPYPrVf+Y85/4V74m/6GjSf/AASS/wDyVR/wr3xN/wBDRpP/AIJJf/kqvRqKPZx7B9ar/wAx5z/wr3xN/wBDRpP/AIJJf/kqsDxz4A1yLwZfPqPi21hth5e97LRnWUfvFxtJusdcZ9s17LWL4vsrPUfCt5a6nc/ZbWTZvl3hduHUjk8dQBW1CFNVY8211tvv0Mq2JrypSSl0e5oaf/x6n/rtL/6MarVUdOjb7If30n+tkHRefnb2q15bf89pPyX/AAqDMkoqPy2/57Sfkv8AhR5bf89pPyX/AAoAkoqPy2/57Sfkv+FHlt/z2k/Jf8KAJKKj8tv+e0n5L/hR5bf89pPyX/CgCSio/Lb/AJ7Sfkv+FHlt/wA9pPyX/CgCSio/Lb/ntJ+S/wCFHlt/z2k/Jf8ACgCSio/Lb/ntJ+S/4UeW3/PaT8l/woAkoqPy2/57Sfkv+FHlt/z2k/Jf8KAJKKj8tv8AntJ+S/4UeW3/AD2k/Jf8KACD/Vn/AH2/9CNSVz/hG7u9S0W4nvLp3kTVNQgB2oMJHeTRoOB2VFHvitzy2/57Sfkv+FAElFR+W3/PaT8l/wAKPLb/AJ7Sfkv+FAElFR+W3/PaT8l/wo8tv+e0n5L/AIUASUVH5bf89pPyX/Cjy2/57Sfkv+FAElFR+W3/AD2k/Jf8KPLb/ntJ+S/4UASUVH5bf89pPyX/AAo8tv8AntJ+S/4UASUVH5bf89pPyX/Cjy2/57Sfkv8AhQAW/wDx7Rf7g/lUleTeGfF+v33hLSLu51JnmnsYZJG8mMZZowScBfU1qf8ACS6z/wBBBv8Av1H/APE1l7WJ6Cy+q1e6/r5HotFedf8ACS6z/wBBBv8Av1H/APE0f8JLrP8A0EG/79R//E0vbRH/AGdW7r+vkei0V51/wkus/wDQQb/v1H/8TR/wkus/9BBv+/Uf/wATR7aIf2dW7r+vkei0V51/wkus/wDQQb/v1H/8TR/wkus/9BBv+/Uf/wATR7aIf2dW7r+vkei0V51/wkus/wDQQb/v1H/8TR/wkus/9BBv+/Uf/wATR7aIf2dW7r+vkei0V51/wkus/wDQQb/v1H/8TR/wkus/9BBv+/Uf/wATR7aIf2dW7r+vkei1Hcf8e0v+4f5V59/wkus/9BBv+/Uf/wATWX4m8X6/Y+EtXu7bUmSaCxmkjbyYzhljJBwV9RT9rETy+qle6/r5HrNFedf8JLrP/QQb/v1H/wDE0f8ACS6z/wBBBv8Av1H/APE0vbRH/Z1buv6+R6LRXnX/AAkus/8AQQb/AL9R/wDxNH/CS6z/ANBBv+/Uf/xNHtoh/Z1buv6+R6LRXnX/AAkus/8AQQb/AL9R/wDxNH/CS6z/ANBBv+/Uf/xNHtoh/Z1buv6+R6LRXnX/AAkus/8AQQb/AL9R/wDxNH/CS6z/ANBBv+/Uf/xNHtoh/Z1buv6+R6LRXnX/AAkus/8AQQb/AL9R/wDxNH/CS6z/ANBBv+/Uf/xNHtoh/Z1buv6+R6LRXnX/AAkus/8AQQb/AL9R/wDxNH/CS6z/ANBBv+/Uf/xNHtoh/Z1buv6+R6LWB430ufWvBt9p9o0azTeXtMhIXiRWOcA9hXM/8JLrP/QQb/v1H/8AE1jeLfFmq2/he7ln1ZreNdmZPki2/Ov8QAI/OujC1b14cujut/UwxOAqRoTlKzST/L0PTovP/se4+xbftG6fyt/3d+9sZ9s14n8LdbvB47t7HxL4u8R2XiXbKNR0HXV8y3u2OSGtSMLGBjIwDkcL8vNe2RWwvNHuLZpZYRM08Zkgco6ZdhlWHII7Hsa4jSvhfrMfiXStQ8T+N7vX7PRXeTT7WaxjjkRiu0GSYEtJheucZOD7VCupXX9f1+PkcstY/wBf1/kS2fxT+1+ANC8Tf2Ps/tfVE0/7N9qz5W6Zot+7Z833c4wOuM96yr/4zaraSa3cweBru70fQdSls9R1CK/j/dojKN6xkBnOCSV6AYy3JxFa/BC+tRY2Q8aXL6JpmrJqdhprWEeIiJC5VpA25ydxAPAGc4PQZmlfDbxD4jm8Y2s/iDUtA0jUfEV0bqwawRhfW5KEPE7gMm4bhuG4HA44ObWrbXm9f+3d/wAdtTSXLrba/wD8l+ltzV8T/HvTtC8QTWdhpkWo2dnHFJe3L6pBbSKrqH/cwyENMQhBwuOePeti9+JuoN41fQPDnhd9Yjjtbe9kvRfJCkdvLnLkMucgYIUZLc9Mc5evfA201HxQ2q6NqVpp0FwsS3VrdaJbX+4RqEHlvMD5eVAHQjPOD0rr9P8ABiad4s1XWYbseXqGn29itssAUQiIMAQQcHO7oAAMVm72VvP8n+tvPuZq99f61X6XOF0v456rqFvot03w+vltdc3xafJFqELme4XPybW27U4++2O5wcV0GmfEnVtX8D6jq1j4RkfV9MvpLG80t9ShjSFo+XYzvhdoUg5APPHT5qXRfhd/Y+k+DbL+2PO/4ReeWbf9l2/ad6uMY3nZjf8A7XSqWo/CC4ubG8Ww8SvY3sviN9ftrgWSyrBIQAEaNmw+OoY457VbteS6dPvX6X+5fMj8Kb3/AOH/AOB95Rt/jobjwhHqyeGjNef23Ho8llbajHMpZ13B45lGyTsMcDPfvWfqXxO1Hwz8QDc+K7OfT7m40BPs/h2O/E6yXTXLKgDKNm4qBl8cD1xzu23wenh5ufE0l5I3iG316SaazUPJJGuHQ7WCgMeRgDaOMN1rW8S/C3SPFviu61fXRDdQz6V/ZyW724LQNvLeckhOVYZxwB9e1GyT/r4enzvv+Q9Grf18XX5W2/Mx/GPxim8I31npUmh2c+svZi7vLebW4bWK3UkgKssoXzWyDwAD3qvZ/FTXNd+JHh2x8PaGs/h/VdOF6ZZLhEl2FgHcg5x5ZypQcseQcUviH4LXOvtpl/L4jtTrVrZLZXV7eaJDeR3aKcq3lTFgj88sDz7Vtv8ADa4tvEfhrVdC1xNOOjWps7iJdNhK3kLOrMuE2LFkg8qvGeO+UviV+/4a/ht5kO9vl+On/B8jU8d+GG8R6Puj1/XNFazSSVW0i9+zmU7ejnByOOled/C7ULjQm8J3Ota1r+qnxZp8jedqWpma3t54wH2LGV+UsoOGLdiMV7PdwfarKe33bfNjZN2M4yMZryD4g+B7m0+DuheDdHGoajrVpLClheWdrIiowO1pJHGViXY7febntnFSrpu3W343T/QtpSsn5/o1+ppN8Y76ez0CbSPCM2oyeIZ72PT4Y75UaRIPuSEsgCh+pyflHPzdKZcfHGCw8MXVxqugyWGv2uojTJNIuL2NEWYgspNw2EEZUZ3kY+owTF4u8E6iviH4c6V4YnvdOi0mG7hGp21sJVtCLdQjOGBXDFcENjdkgHPNTXXwQh1Hwzc2+ra899r9zqI1KTV57GJkaZV2KDbnKFAnGwnrz0wBbVlp/wAHf/K/4WDpF9/+D/wCWw8X6r8VPAeoW3heaDw/rEF2ltfSJfJcLbxHDM8M8QZXJTIBGMNnkYBqT4RTX73XiWGLXdQ1/wAN292kWlajqMvmyysF/f4kwN6B8AEccHFRn4RX6fDe+8MWfia2srrUZg15f2WhwWokiH/LMRwlOvAJLMSNw6HA6PwH4V13wnp72OteJ01u1SOOOzhj0uKzW1VQQQAhO7Py9emPemrXl6f5f19/zl6xV+/9f1/S5jWr26074C+K7vT7ma1uYb7V2jmgkKOh/tGfkMOQa4LVvFXiVPhUPC8GuX6a/a6ndxzagbiT7QbaCJrkPvBB5Vo1znvXqNp4d/4S34V67oP2r7J9v1PVofP8vf5edQn525GfzFVLr4NWVx4x1jxAupeXNqeitpnl/ZgRE7RiMzZ3c/KANvHfnmsbPml2svvV3/wPmaRcbxv3/B2X/B+RzUfxyXw3oOg6ebFdYu4dFtLvVLm71eG2dd8St8glO6eQjLEDnleueOr1D4qTz6vp1h4M8MXfiM3OnR6pcPHcJb/Z7eQ4Ujfwznk7Mjp164xNS+AsdxNptxput2ltcW+n29jeNeaHb3y3PkoEV0WbPlMQMHBOfl9Od7Vfhjdtr1jqnhPxRceHZYrBNOu1gsoZFuIEOV2rgJG4y3zBcDIwByDtUak2+7f62+W3nuZx008l+l/18jkfhv4nvbux+Hx1O91e6ub6PVXdpL9tj+W7YEyFSZCBgL8w247118HxS87wV4X8Qf2Pt/4SDVItP+z/AGr/AFG93Xfu2fNjZnGB161H4Y+FA8OL4VVtZN2PDyXqHNttNz9oJPXedu3Pvn2rHsPghqFj/ZNmfG1xNo2i6smo2GnPp8YCYkZyrSBgzk7vvcAc/LyMW3Fz8r/hd3/Ap295+v5O34iT/HG+tpLm5fwPey6PZ6vJpM99BexsxkVtq7I2ALFuO4Azjca67wT44u/E+qa3pWsaDLoWp6PJEJbZ7lJ90cilkbcnGSAcgZxxzWWvwq2+H7nTP7Zz5/iP+3PN+y/d/eiTysb/AGxuz+FdDo/hT+yfHHiLxF9t83+21th9n8rb5PkoV+9k7s5z0GPesobe9/Wi/W4u/wDXV/pZnRUUUUAFFFFABRRRQB8wavLdp8HPDqafeT2U00Wnw+dbyFHUMEB5HPeuZ8S+JtavPBekw2epXVpe2NtJNqMsUzq7NHIIACRjqxJ59K72w0P+3/hr4btvtH2fyrexuN2zdnYqNtxkdcdapXHwvtpW8SNDf+U2uMjA/Z8/Z8PvYfeG7J+n41yU2oy97vf8v+D9x9BOnOVnHayX5t/ovmR6n8VbTS9cmszZJLZ2ciw3V0b6NJFbvshPzyAZGSPf05l8S+NL4HWrDQ9GuruCwtW+1ajDcLGYHaMspRTy2BgnByPTplL74YxXPiSbUba/t4re5lEtxbz6XBcMzfxbZJASgOOmDg5NWdW8B3V5qepTaV4hn0y01WIJeWqW6SB2CbAVY/c4xkDk+o4xPuuPn/w3/B2Lj7dN9r+W3l+F7/IzdJ8Ry2aW9zcNe3csHhaO9dZLs+XKRySVKn5z/fyeO1dC/i3ZP4dj+xZ/tuF5c+b/AKnbEJMdPm647VXtvAkcRVZ75pIv7EXSHVYtpIHWQHJwfbB+tUdK+Ht/ZahpFzf+JJL9NJSSK3hNmsarG0ewDIOcj1Oc4A461c3CTfz/APbv+AFNVY2Vvy7R/wCCVbH4o393Dps7eEroW+plo7R47uNjJKM/Lg4wvH3jjvwa6jwr4ifxHp9xLcWDafdWly9rcWzSCTY646MAAeCKztM8Df2dp3hy1/tHzP7EmeXd5GPO3BhjG75fve/StbQNB/sOTVG+0+f/AGhfyXmPL2+XuAG3qc4x14+lS+S8rfL8P+COkq1oub7X27a/jY16KKKzOsKKKKACsbxj/wAiLr3/AGDbj/0U1bNY3jH/AJEXXv8AsG3H/opqa3IqfAzM8a31815o2g6ZePYSavO6S3UY+eOJE3MFPZjwAe1Zy22oeDfFWlWqa5qOqafq3mQyR6jMJZIpFQsrq2AQOMEfz4x0fibw5H4jsYkF1NY3drJ51pdw/ehkAIBx3HPI71n6T4PvYtci1fxLr0ut3dtG0dqDbJBHCG4Y7FzliOM+n4YqNrW/r+v+HMakZOd0u1nfbv8A112Miy1K+f4Fz37Xtw14LOdhcmVjICGbB3ZzkYqp4v0+8Pga18QweINatblbS1UxW96UicsVBYgDJY7jzn0q83w2vltZ9Js/FVzb+H55CzaeLVGdUY5ZFlJyATnt35zznpNf8OR6z4XbRYJvskeI1R9m/aEZSBjI/u461fNHmv3a/wCD+Zl7Oco2a2TXq+j/AOHOQuNCvD4mtvCsHijXlt/scmoyXLXuZ2bcsapvx9wcnb6n8q2oeIfE9/8ACKG/sJY4pFt5Te35crIPLfYBGB/E2M7ugwe5Fdd4k8LXWr39rqOj6zJpF/bxPAZlgWYPE3JUqxHOQCDn1/B83hG3/wCEBfwvaXDQxNbmETuu9sk5LEZGSTk9R1qHK8PP/h/+AV7KXO0tF6+n63/pnK+NNQvB/wAI9bi91ryZ7R5ZYNDb/S5HCrhz6pyc+/r26rwHe3Wo+BtMutQulu7iSLLyqck8kAN/tAYB9war6x4Qu7ubTrzRtbk0rUbK3+ym4FusyyRkDIKMcA5AOc/0xreHdDh8OaFb6bbyyTCLJeWQ/NI7Esze2STxVOUeVrz/AM/+AFOnNVLvt+i/W5p0UUVkdgUUUUAFc/4606LVvBd/ZXDOscvl5KEAjEinuD6V0Fc38QLW7vfAuoQadP8AZ7l/L2Sbyu3Eqk8jnoDXRhbOvBNX1WnfXY5cZdYapZ29169tD1RPCFtqM811darrflvI4FrBqs1vGhDEZHlMrducsQSScZxhP+EDh8znxH4lMOf9T/a0mNv93f8Af6cZ3bvfPNFFdyr1I7PpY+WdKD3XmLJ4Dt93+ieIPElrHj/Vrq80oz65lLt+Gce1K/gO02L9n1vxHby/xyrrVxIX/wCAyMyj1+VR+XFFFCr1FbXbYPZQd9NwXwHaeUfM1vxHJP8Aw3B1q4Ur/wAAVhGfxU+9EfgO1yftmu+JLteytrM8W0+uYmQn8SRRRQ61Rpq++4eygmnbYavgOHzP3viPxLJFnmE6tIoI9Ny4f8Q2felk8Bwbv9F8Q+JLaPtGurSyAf8AApCzfrRRVfWavNzX1J9jTty20Fk8B2mB9l1vxHat/Gy61cS7/wAJWcD/AICBQPAdp5POt+Izc9rn+2rgEf8AAA3l9OPufrzRRUe2qKKjfRalezhdu24ReA7Tn7ZrniO8H8IfWriLb/35ZM/jn2pqeA4d4+0eI/EtxF/FE2rSRhv+BR7WH4MPyooqvrFS7d99xexhppsD+A4d5+z+I/EtvF/DEurSSBf+BSbmP4sfy4p0vgO04+x654js/wC9s1q4l3f9/mfH4Y988UUUfWKl077bB7GGum4f8IHaeTxrfiMXPe5/tq4JP/AC3l9OPufrzRH4DtMH7XrfiO6b+Bm1q4i2fhEyA/8AAgaKKn21Rxcb6PUfs4XTtsJH4Dg3/wCleIfElzH3jbVpYwf+BRlW/WkbwHD5n7rxH4liizxCNWkYAem5sv8AiWz70UVf1mrzc19SfY07cttCG3+Hmn28JTS9X8QadEZZHaODVpnDOzszMfMLnJJJOMZJJPJzVg+A7Tyh5et+I45/4rga1cMW/wCAMxjH4KKKKlVqiSV9tivZQbbtuCeA7TYftGt+I7iX+CVtauIyn/AY2VT6/Mp/Likj8B2+7/S/EHiS6jx/q21eaIZ9cxFG/DOPaiih16jvrvuHsoaabCf8IHD5nHiPxKIc/wCp/taTG3+7v+/04zu3e+eaWTwHbbv9D1/xJaJjlF1iaXJ9cyl2/AHHHTrRRT+sVbqV9hexhZq24reA7Ty18jW/EcM38cw1q4cv6/I7MgyeflUY7YHFC+A7Tyz52t+I5p/4JzrVwhT0+RGCHHX5lPvkcUUVPtqnLy303H7OF72Ej8B224/bNe8SXaY4RtYmiwfXMRQn6Eke1IPAcPmfP4j8StDnmH+1pACP7u4Yf8d2feiiq+sVbt33F7GFkrbCyeA4N3+i+IPElrH/AM811eWUZ9d0pdv1xSv4DtNo+za34jtpP45F1q4kL/hIzKP+AgUUUvb1FbXbYPZQ103AeA7Tyjv1vxG9x2uDrVwCv/AAwjP4oaI/Adrk/bNd8R3g/hDazPFt/GJkJ/HNFFDrVGmr77j9lBNO2xmWPwp0SG1gj+36wbVI1VbZb4xIFA4UFArADjow6VM/wt0jefs2p63bR9o11BpAP+BSbmP4k0UU/rFTm5767bIfIuXl6erHSfC3Q+Psd5rNof4yuqTS7/8Av6Xx/wABx1+lH/CrdD8n/j81n7T/AM/P9qTZ/wC/efK6cfc9+vNFFQqs1FR6LUq123ffzYR/C3Q+ftl5rN3/AHS2qTRbPX/VFM9vvZ6cY5y1PhbpG8fadT1u5j7xNqDRg/8AAo9rD8CKKKr203fXfcXLt5ebBvhbpG8+RqetwxdohqDOB7bnDOfxY06X4W6JkfY73WrMfxBNTll3f9/S5H4Yooo9tUunfbbYOVWa7+bA/C3Q/KGy81lbjvcDVJiT/wAAJMY/BBQnwt0PaftV5rNy/wDA7apNHs/CMqp/4EDRRU+1nyuPR6jtre/4sSP4W6Pu/wBK1HWrqP8A55tqLxDPrui2t+uKQ/C3SPM+TU9bSHPEI1BiAPTcQX/Hdn3ooq/b1Obmvr8ieRW5f1Ysnwt0XcPsd/rVouOUXUpJcn1zKXI+gIHtUV78KvD8umyxm41bc8bLK76lLIJVIOQ0bkx4PfCj2wKKKlVppJJ7bDcb3b6+bJk+Fuh+W3n3mszzfwTHVJkKenyoVQ4PPzKffI4pI/hbo27/AEvUNau0xwjalJEAfXMWxvwzjnp0ooodabTV99x2tby82J/wq3SPM51PWzDn/Uf2g2Nv93fjf04zu3e+eaWT4W6Nu/0TUNatEx/q11GSUE+uZd7fhnHtRRT9vU5lK+q9Bcqtb9WK/wALdD2L9nvNZgl/jlXVJnL/APAZCyDnn5VHtxxQvwt0Pyj5t5rMk/8ADcHVJlK/8AUiM/ip980UVPtZ8vL03HbW9/xYkfwt0TJ+2X2tXa9lbU5Ytp9cxFCfxJFIvwt0jzP3mp63JDnmE6gygj03KA/47s+9FFV7epdu+/oLlVku3mwk+Fuj7v8ARdS1u2j7RrqDyAf8Ck3N+tOk+Fuh7R9lvNZtW/jZdUml3/hKWA/4CBRRS9tNW122Dl38/NgPhbofk/Neay1x2uf7UmBH/AAfL6ccp+vNEXwt0Pn7Ze61eD+EPqk0W3/vyUz+OaKKHVm049HuNKzTvt5sanwt0jePtGp63cRd4m1Bow3/AAKMKw/BhVfUfhboxtZPKv8AWI4OMQNfNKo5HeQMx555J9uMCiirWJqqftE9fkQ6cXHke3qz/9k=)"
      ],
      "metadata": {
        "id": "ZkS3ijkTz_7B"
      }
    },
    {
      "cell_type": "code",
      "source": [],
      "metadata": {
        "id": "R6RqUtUcYKfD"
      },
      "execution_count": 234,
      "outputs": []
    },
    {
      "cell_type": "code",
      "source": [
        "newdata.info()"
      ],
      "metadata": {
        "colab": {
          "base_uri": "https://localhost:8080/"
        },
        "id": "pM_rhiP3C7FG",
        "outputId": "78cbc889-82c2-4d5a-a083-f280cafb8c2f"
      },
      "execution_count": 235,
      "outputs": [
        {
          "output_type": "stream",
          "name": "stdout",
          "text": [
            "<class 'pandas.core.frame.DataFrame'>\n",
            "RangeIndex: 8523 entries, 0 to 8522\n",
            "Data columns (total 12 columns):\n",
            " #   Column                     Non-Null Count  Dtype  \n",
            "---  ------                     --------------  -----  \n",
            " 0   Item_Identifier            8523 non-null   object \n",
            " 1   Item_Weight                8523 non-null   float64\n",
            " 2   Item_Fat_Content           8523 non-null   object \n",
            " 3   Item_Visibility            8523 non-null   float64\n",
            " 4   Item_Type                  8523 non-null   object \n",
            " 5   Item_MRP                   8523 non-null   float64\n",
            " 6   Outlet_Identifier          8523 non-null   object \n",
            " 7   Outlet_Establishment_Year  8523 non-null   int64  \n",
            " 8   Outlet_Size                8523 non-null   object \n",
            " 9   Outlet_Location_Type       8523 non-null   object \n",
            " 10  Outlet_Type                8523 non-null   object \n",
            " 11  Item_Outlet_Sales          8523 non-null   float64\n",
            "dtypes: float64(4), int64(1), object(7)\n",
            "memory usage: 799.2+ KB\n"
          ]
        }
      ]
    },
    {
      "cell_type": "code",
      "source": [
        "# visibility = newdata['Item_Visibility']\n",
        "group_fatconten = newdata.groupby(['Item_Visibility'])['Item_Fat_Content'].head()\n",
        "\n",
        "plt.style.use('seaborn')\n",
        "plt.hist(group_fatconten, 15)\n",
        "plt.title(\"Productos mas visto por contenido de grasa\")\n",
        "plt.xlabel(\"Categorias de productos por nivel de grasa\")\n",
        "plt.ylabel(\"Rango de visibilidad\")\n",
        "plt.show()"
      ],
      "metadata": {
        "id": "HiU176PHBEKc",
        "colab": {
          "base_uri": "https://localhost:8080/",
          "height": 376
        },
        "outputId": "c89731f1-9270-47aa-99f6-4b0800f30855"
      },
      "execution_count": 243,
      "outputs": [
        {
          "output_type": "display_data",
          "data": {
            "text/plain": [
              "<Figure size 576x396 with 1 Axes>"
            ],
            "image/png": "[encoded data removed]"
          },
          "metadata": {}
        }
      ]
    },
    {
      "cell_type": "code",
      "source": [
        "# newdata['Item_MRP']\n",
        "cero = [1]\n",
        "for i in range(0,len(newdata['Item_Type'].unique())-1):\n",
        "    cero.append(0)\n",
        "\n",
        "desfase = (cero)\n",
        "desfase\n",
        "newdata['Item_Type'].value_counts().plot(kind='pie', autopct='%.2f%%', title='Porcentajes de tipo de productos por mayor MRP', explode=desfase)\n",
        "plt.ticklabel_format(useOffset=False, style='plain')"
      ],
      "metadata": {
        "colab": {
          "base_uri": "https://localhost:8080/",
          "height": 345
        },
        "id": "Ae0kR49fEHNN",
        "outputId": "c9c0a35b-9523-4934-e88c-4e3eb9fe1096"
      },
      "execution_count": 238,
      "outputs": [
        {
          "output_type": "display_data",
          "data": {
            "text/plain": [
              "<Figure size 576x396 with 1 Axes>"
            ],
            "image/png": "[encoded data removed]"
          },
          "metadata": {}
        }
      ]
    },
    {
      "cell_type": "code",
      "source": [
        "newdata.describe()"
      ],
      "metadata": {
        "colab": {
          "base_uri": "https://localhost:8080/",
          "height": 300
        },
        "id": "CNU6qtOkPwwZ",
        "outputId": "578d2cfa-777e-4b48-bf42-b1491d33fdc2"
      },
      "execution_count": 239,
      "outputs": [
        {
          "output_type": "execute_result",
          "data": {
            "text/plain": [
              "       Item_Weight  Item_Visibility     Item_MRP  Outlet_Establishment_Year  \\\n",
              "count  8523.000000      8523.000000  8523.000000                8523.000000   \n",
              "mean     12.869407         0.066132   140.992782                1997.831867   \n",
              "std       4.653356         0.051598    62.275067                   8.371760   \n",
              "min       0.000000         0.000000    31.290000                1985.000000   \n",
              "25%       8.780000         0.026989    93.826500                1987.000000   \n",
              "50%      12.600000         0.053931   143.012800                1999.000000   \n",
              "75%      16.850000         0.094585   185.643700                2004.000000   \n",
              "max      21.350000         0.328391   266.888400                2009.000000   \n",
              "\n",
              "       Item_Outlet_Sales  \n",
              "count        8523.000000  \n",
              "mean         2181.288914  \n",
              "std          1706.499616  \n",
              "min            33.290000  \n",
              "25%           834.247400  \n",
              "50%          1794.331000  \n",
              "75%          3101.296400  \n",
              "max         13086.964800  "
            ],
            "text/html": [
              "\n",
              "  <div id=\"df-d49a0290-77d5-48d2-a11a-305dfc0b5572\">\n",
              "    <div class=\"colab-df-container\">\n",
              "      <div>\n",
              "<style scoped>\n",
              "    .dataframe tbody tr th:only-of-type {\n",
              "        vertical-align: middle;\n",
              "    }\n",
              "\n",
              "    .dataframe tbody tr th {\n",
              "        vertical-align: top;\n",
              "    }\n",
              "\n",
              "    .dataframe thead th {\n",
              "        text-align: right;\n",
              "    }\n",
              "</style>\n",
              "<table border=\"1\" class=\"dataframe\">\n",
              "  <thead>\n",
              "    <tr style=\"text-align: right;\">\n",
              "      <th></th>\n",
              "      <th>Item_Weight</th>\n",
              "      <th>Item_Visibility</th>\n",
              "      <th>Item_MRP</th>\n",
              "      <th>Outlet_Establishment_Year</th>\n",
              "      <th>Item_Outlet_Sales</th>\n",
              "    </tr>\n",
              "  </thead>\n",
              "  <tbody>\n",
              "    <tr>\n",
              "      <th>count</th>\n",
              "      <td>8523.000000</td>\n",
              "      <td>8523.000000</td>\n",
              "      <td>8523.000000</td>\n",
              "      <td>8523.000000</td>\n",
              "      <td>8523.000000</td>\n",
              "    </tr>\n",
              "    <tr>\n",
              "      <th>mean</th>\n",
              "      <td>12.869407</td>\n",
              "      <td>0.066132</td>\n",
              "      <td>140.992782</td>\n",
              "      <td>1997.831867</td>\n",
              "      <td>2181.288914</td>\n",
              "    </tr>\n",
              "    <tr>\n",
              "      <th>std</th>\n",
              "      <td>4.653356</td>\n",
              "      <td>0.051598</td>\n",
              "      <td>62.275067</td>\n",
              "      <td>8.371760</td>\n",
              "      <td>1706.499616</td>\n",
              "    </tr>\n",
              "    <tr>\n",
              "      <th>min</th>\n",
              "      <td>0.000000</td>\n",
              "      <td>0.000000</td>\n",
              "      <td>31.290000</td>\n",
              "      <td>1985.000000</td>\n",
              "      <td>33.290000</td>\n",
              "    </tr>\n",
              "    <tr>\n",
              "      <th>25%</th>\n",
              "      <td>8.780000</td>\n",
              "      <td>0.026989</td>\n",
              "      <td>93.826500</td>\n",
              "      <td>1987.000000</td>\n",
              "      <td>834.247400</td>\n",
              "    </tr>\n",
              "    <tr>\n",
              "      <th>50%</th>\n",
              "      <td>12.600000</td>\n",
              "      <td>0.053931</td>\n",
              "      <td>143.012800</td>\n",
              "      <td>1999.000000</td>\n",
              "      <td>1794.331000</td>\n",
              "    </tr>\n",
              "    <tr>\n",
              "      <th>75%</th>\n",
              "      <td>16.850000</td>\n",
              "      <td>0.094585</td>\n",
              "      <td>185.643700</td>\n",
              "      <td>2004.000000</td>\n",
              "      <td>3101.296400</td>\n",
              "    </tr>\n",
              "    <tr>\n",
              "      <th>max</th>\n",
              "      <td>21.350000</td>\n",
              "      <td>0.328391</td>\n",
              "      <td>266.888400</td>\n",
              "      <td>2009.000000</td>\n",
              "      <td>13086.964800</td>\n",
              "    </tr>\n",
              "  </tbody>\n",
              "</table>\n",
              "</div>\n",
              "      <button class=\"colab-df-convert\" onclick=\"convertToInteractive('df-d49a0290-77d5-48d2-a11a-305dfc0b5572')\"\n",
              "              title=\"Convert this dataframe to an interactive table.\"\n",
              "              style=\"display:none;\">\n",
              "        \n",
              "  <svg xmlns=\"http://www.w3.org/2000/svg\" height=\"24px\"viewBox=\"0 0 24 24\"\n",
              "       width=\"24px\">\n",
              "    <path d=\"M0 0h24v24H0V0z\" fill=\"none\"/>\n",
              "    <path d=\"M18.56 5.44l.94 2.06.94-2.06 2.06-.94-2.06-.94-.94-2.06-.94 2.06-2.06.94zm-11 1L8.5 8.5l.94-2.06 2.06-.94-2.06-.94L8.5 2.5l-.94 2.06-2.06.94zm10 10l.94 2.06.94-2.06 2.06-.94-2.06-.94-.94-2.06-.94 2.06-2.06.94z\"/><path d=\"M17.41 7.96l-1.37-1.37c-.4-.4-.92-.59-1.43-.59-.52 0-1.04.2-1.43.59L10.3 9.45l-7.72 7.72c-.78.78-.78 2.05 0 2.83L4 21.41c.39.39.9.59 1.41.59.51 0 1.02-.2 1.41-.59l7.78-7.78 2.81-2.81c.8-.78.8-2.07 0-2.86zM5.41 20L4 18.59l7.72-7.72 1.47 1.35L5.41 20z\"/>\n",
              "  </svg>\n",
              "      </button>\n",
              "      \n",
              "  <style>\n",
              "    .colab-df-container {\n",
              "      display:flex;\n",
              "      flex-wrap:wrap;\n",
              "      gap: 12px;\n",
              "    }\n",
              "\n",
              "    .colab-df-convert {\n",
              "      background-color: #E8F0FE;\n",
              "      border: none;\n",
              "      border-radius: 50%;\n",
              "      cursor: pointer;\n",
              "      display: none;\n",
              "      fill: #1967D2;\n",
              "      height: 32px;\n",
              "      padding: 0 0 0 0;\n",
              "      width: 32px;\n",
              "    }\n",
              "\n",
              "    .colab-df-convert:hover {\n",
              "      background-color: #E2EBFA;\n",
              "      box-shadow: 0px 1px 2px rgba(60, 64, 67, 0.3), 0px 1px 3px 1px rgba(60, 64, 67, 0.15);\n",
              "      fill: #174EA6;\n",
              "    }\n",
              "\n",
              "    [theme=dark] .colab-df-convert {\n",
              "      background-color: #3B4455;\n",
              "      fill: #D2E3FC;\n",
              "    }\n",
              "\n",
              "    [theme=dark] .colab-df-convert:hover {\n",
              "      background-color: #434B5C;\n",
              "      box-shadow: 0px 1px 3px 1px rgba(0, 0, 0, 0.15);\n",
              "      filter: drop-shadow(0px 1px 2px rgba(0, 0, 0, 0.3));\n",
              "      fill: #FFFFFF;\n",
              "    }\n",
              "  </style>\n",
              "\n",
              "      <script>\n",
              "        const buttonEl =\n",
              "          document.querySelector('#df-d49a0290-77d5-48d2-a11a-305dfc0b5572 button.colab-df-convert');\n",
              "        buttonEl.style.display =\n",
              "          google.colab.kernel.accessAllowed ? 'block' : 'none';\n",
              "\n",
              "        async function convertToInteractive(key) {\n",
              "          const element = document.querySelector('#df-d49a0290-77d5-48d2-a11a-305dfc0b5572');\n",
              "          const dataTable =\n",
              "            await google.colab.kernel.invokeFunction('convertToInteractive',\n",
              "                                                     [key], {});\n",
              "          if (!dataTable) return;\n",
              "\n",
              "          const docLinkHtml = 'Like what you see? Visit the ' +\n",
              "            '<a target=\"_blank\" href=https://colab.research.google.com/notebooks/data_table.ipynb>data table notebook</a>'\n",
              "            + ' to learn more about interactive tables.';\n",
              "          element.innerHTML = '';\n",
              "          dataTable['output_type'] = 'display_data';\n",
              "          await google.colab.output.renderOutput(dataTable, element);\n",
              "          const docLink = document.createElement('div');\n",
              "          docLink.innerHTML = docLinkHtml;\n",
              "          element.appendChild(docLink);\n",
              "        }\n",
              "      </script>\n",
              "    </div>\n",
              "  </div>\n",
              "  "
            ]
          },
          "metadata": {},
          "execution_count": 239
        }
      ]
    },
    {
      "cell_type": "markdown",
      "source": [],
      "metadata": {
        "id": "DYr8RUJ5cET-"
      }
    },
    {
      "cell_type": "code",
      "source": [
        "newdata.groupby(['Outlet_Size'])['Outlet_Type'].value_counts()"
      ],
      "metadata": {
        "colab": {
          "base_uri": "https://localhost:8080/"
        },
        "id": "CjZGpEb4X6YL",
        "outputId": "85ff77b7-d756-47a6-f9a0-b6167f3da22e"
      },
      "execution_count": 241,
      "outputs": [
        {
          "output_type": "execute_result",
          "data": {
            "text/plain": [
              "Outlet_Size  Outlet_Type      \n",
              "High         Supermarket Type1    1861\n",
              "Medium       Supermarket Type1    1856\n",
              "             Supermarket Type3     935\n",
              "             Supermarket Type2     928\n",
              "Small        Supermarket Type1    1860\n",
              "             Grocery Store        1083\n",
              "Name: Outlet_Type, dtype: int64"
            ]
          },
          "metadata": {},
          "execution_count": 241
        }
      ]
    },
    {
      "cell_type": "code",
      "source": [
        "newdata.info()"
      ],
      "metadata": {
        "colab": {
          "base_uri": "https://localhost:8080/"
        },
        "id": "Keh2k3MeV1AO",
        "outputId": "a2191d45-08ec-4207-bffd-abeb621437d6"
      },
      "execution_count": 240,
      "outputs": [
        {
          "output_type": "stream",
          "name": "stdout",
          "text": [
            "<class 'pandas.core.frame.DataFrame'>\n",
            "RangeIndex: 8523 entries, 0 to 8522\n",
            "Data columns (total 12 columns):\n",
            " #   Column                     Non-Null Count  Dtype  \n",
            "---  ------                     --------------  -----  \n",
            " 0   Item_Identifier            8523 non-null   object \n",
            " 1   Item_Weight                8523 non-null   float64\n",
            " 2   Item_Fat_Content           8523 non-null   object \n",
            " 3   Item_Visibility            8523 non-null   float64\n",
            " 4   Item_Type                  8523 non-null   object \n",
            " 5   Item_MRP                   8523 non-null   float64\n",
            " 6   Outlet_Identifier          8523 non-null   object \n",
            " 7   Outlet_Establishment_Year  8523 non-null   int64  \n",
            " 8   Outlet_Size                8523 non-null   object \n",
            " 9   Outlet_Location_Type       8523 non-null   object \n",
            " 10  Outlet_Type                8523 non-null   object \n",
            " 11  Item_Outlet_Sales          8523 non-null   float64\n",
            "dtypes: float64(4), int64(1), object(7)\n",
            "memory usage: 799.2+ KB\n"
          ]
        }
      ]
    },
    {
      "cell_type": "code",
      "source": [
        "plt.boxplot(newdata['Item_Weight'], patch_artist=True, labels=[\"Item Weight\"])\n",
        "plt.show()"
      ],
      "metadata": {
        "colab": {
          "base_uri": "https://localhost:8080/",
          "height": 353
        },
        "id": "7i8TSyHpV_a9",
        "outputId": "9b981fdd-9176-45de-b1bf-ef6c36145727"
      },
      "execution_count": 294,
      "outputs": [
        {
          "output_type": "display_data",
          "data": {
            "text/plain": [
              "<Figure size 576x396 with 1 Axes>"
            ],
            "image/png": "[encoded data removed]"
          },
          "metadata": {}
        }
      ]
    },
    {
      "cell_type": "markdown",
      "source": [
        "En este grafico podemos mirar el valor minimo, medio y maximo de los productos por su peso, asi podemos analizar el peso medio de los productos mas vendidos."
      ],
      "metadata": {
        "id": "9g6vDdT6wcNZ"
      }
    },
    {
      "cell_type": "code",
      "source": [
        "c = \"green\"\n",
        "plt.boxplot(newdata['Item_Outlet_Sales'], patch_artist=True, labels=[\"Item_Outlet_Sales\"], boxprops=dict(facecolor=c, color=c))\n",
        "plt.show()"
      ],
      "metadata": {
        "colab": {
          "base_uri": "https://localhost:8080/",
          "height": 354
        },
        "id": "t5w87lm1WRzK",
        "outputId": "9c09f3e4-13c2-4cc8-c23a-acd5565333f9"
      },
      "execution_count": 299,
      "outputs": [
        {
          "output_type": "display_data",
          "data": {
            "text/plain": [
              "<Figure size 576x396 with 1 Axes>"
            ],
            "image/png": "[encoded data removed]"
          },
          "metadata": {}
        }
      ]
    },
    {
      "cell_type": "code",
      "source": [
        "newdata.describe()"
      ],
      "metadata": {
        "colab": {
          "base_uri": "https://localhost:8080/",
          "height": 300
        },
        "id": "u3cdv2yrxSax",
        "outputId": "bda86e38-c4f5-4512-ffa6-32117c396647"
      },
      "execution_count": 301,
      "outputs": [
        {
          "output_type": "execute_result",
          "data": {
            "text/plain": [
              "       Item_Weight  Item_Visibility     Item_MRP  Outlet_Establishment_Year  \\\n",
              "count  8523.000000      8523.000000  8523.000000                8523.000000   \n",
              "mean     12.869407         0.066132   140.992782                1997.831867   \n",
              "std       4.653356         0.051598    62.275067                   8.371760   \n",
              "min       0.000000         0.000000    31.290000                1985.000000   \n",
              "25%       8.780000         0.026989    93.826500                1987.000000   \n",
              "50%      12.600000         0.053931   143.012800                1999.000000   \n",
              "75%      16.850000         0.094585   185.643700                2004.000000   \n",
              "max      21.350000         0.328391   266.888400                2009.000000   \n",
              "\n",
              "       Item_Outlet_Sales  \n",
              "count        8523.000000  \n",
              "mean         2181.288914  \n",
              "std          1706.499616  \n",
              "min            33.290000  \n",
              "25%           834.247400  \n",
              "50%          1794.331000  \n",
              "75%          3101.296400  \n",
              "max         13086.964800  "
            ],
            "text/html": [
              "\n",
              "  <div id=\"df-30286328-816c-4840-985a-65724c7e6724\">\n",
              "    <div class=\"colab-df-container\">\n",
              "      <div>\n",
              "<style scoped>\n",
              "    .dataframe tbody tr th:only-of-type {\n",
              "        vertical-align: middle;\n",
              "    }\n",
              "\n",
              "    .dataframe tbody tr th {\n",
              "        vertical-align: top;\n",
              "    }\n",
              "\n",
              "    .dataframe thead th {\n",
              "        text-align: right;\n",
              "    }\n",
              "</style>\n",
              "<table border=\"1\" class=\"dataframe\">\n",
              "  <thead>\n",
              "    <tr style=\"text-align: right;\">\n",
              "      <th></th>\n",
              "      <th>Item_Weight</th>\n",
              "      <th>Item_Visibility</th>\n",
              "      <th>Item_MRP</th>\n",
              "      <th>Outlet_Establishment_Year</th>\n",
              "      <th>Item_Outlet_Sales</th>\n",
              "    </tr>\n",
              "  </thead>\n",
              "  <tbody>\n",
              "    <tr>\n",
              "      <th>count</th>\n",
              "      <td>8523.000000</td>\n",
              "      <td>8523.000000</td>\n",
              "      <td>8523.000000</td>\n",
              "      <td>8523.000000</td>\n",
              "      <td>8523.000000</td>\n",
              "    </tr>\n",
              "    <tr>\n",
              "      <th>mean</th>\n",
              "      <td>12.869407</td>\n",
              "      <td>0.066132</td>\n",
              "      <td>140.992782</td>\n",
              "      <td>1997.831867</td>\n",
              "      <td>2181.288914</td>\n",
              "    </tr>\n",
              "    <tr>\n",
              "      <th>std</th>\n",
              "      <td>4.653356</td>\n",
              "      <td>0.051598</td>\n",
              "      <td>62.275067</td>\n",
              "      <td>8.371760</td>\n",
              "      <td>1706.499616</td>\n",
              "    </tr>\n",
              "    <tr>\n",
              "      <th>min</th>\n",
              "      <td>0.000000</td>\n",
              "      <td>0.000000</td>\n",
              "      <td>31.290000</td>\n",
              "      <td>1985.000000</td>\n",
              "      <td>33.290000</td>\n",
              "    </tr>\n",
              "    <tr>\n",
              "      <th>25%</th>\n",
              "      <td>8.780000</td>\n",
              "      <td>0.026989</td>\n",
              "      <td>93.826500</td>\n",
              "      <td>1987.000000</td>\n",
              "      <td>834.247400</td>\n",
              "    </tr>\n",
              "    <tr>\n",
              "      <th>50%</th>\n",
              "      <td>12.600000</td>\n",
              "      <td>0.053931</td>\n",
              "      <td>143.012800</td>\n",
              "      <td>1999.000000</td>\n",
              "      <td>1794.331000</td>\n",
              "    </tr>\n",
              "    <tr>\n",
              "      <th>75%</th>\n",
              "      <td>16.850000</td>\n",
              "      <td>0.094585</td>\n",
              "      <td>185.643700</td>\n",
              "      <td>2004.000000</td>\n",
              "      <td>3101.296400</td>\n",
              "    </tr>\n",
              "    <tr>\n",
              "      <th>max</th>\n",
              "      <td>21.350000</td>\n",
              "      <td>0.328391</td>\n",
              "      <td>266.888400</td>\n",
              "      <td>2009.000000</td>\n",
              "      <td>13086.964800</td>\n",
              "    </tr>\n",
              "  </tbody>\n",
              "</table>\n",
              "</div>\n",
              "      <button class=\"colab-df-convert\" onclick=\"convertToInteractive('df-30286328-816c-4840-985a-65724c7e6724')\"\n",
              "              title=\"Convert this dataframe to an interactive table.\"\n",
              "              style=\"display:none;\">\n",
              "        \n",
              "  <svg xmlns=\"http://www.w3.org/2000/svg\" height=\"24px\"viewBox=\"0 0 24 24\"\n",
              "       width=\"24px\">\n",
              "    <path d=\"M0 0h24v24H0V0z\" fill=\"none\"/>\n",
              "    <path d=\"M18.56 5.44l.94 2.06.94-2.06 2.06-.94-2.06-.94-.94-2.06-.94 2.06-2.06.94zm-11 1L8.5 8.5l.94-2.06 2.06-.94-2.06-.94L8.5 2.5l-.94 2.06-2.06.94zm10 10l.94 2.06.94-2.06 2.06-.94-2.06-.94-.94-2.06-.94 2.06-2.06.94z\"/><path d=\"M17.41 7.96l-1.37-1.37c-.4-.4-.92-.59-1.43-.59-.52 0-1.04.2-1.43.59L10.3 9.45l-7.72 7.72c-.78.78-.78 2.05 0 2.83L4 21.41c.39.39.9.59 1.41.59.51 0 1.02-.2 1.41-.59l7.78-7.78 2.81-2.81c.8-.78.8-2.07 0-2.86zM5.41 20L4 18.59l7.72-7.72 1.47 1.35L5.41 20z\"/>\n",
              "  </svg>\n",
              "      </button>\n",
              "      \n",
              "  <style>\n",
              "    .colab-df-container {\n",
              "      display:flex;\n",
              "      flex-wrap:wrap;\n",
              "      gap: 12px;\n",
              "    }\n",
              "\n",
              "    .colab-df-convert {\n",
              "      background-color: #E8F0FE;\n",
              "      border: none;\n",
              "      border-radius: 50%;\n",
              "      cursor: pointer;\n",
              "      display: none;\n",
              "      fill: #1967D2;\n",
              "      height: 32px;\n",
              "      padding: 0 0 0 0;\n",
              "      width: 32px;\n",
              "    }\n",
              "\n",
              "    .colab-df-convert:hover {\n",
              "      background-color: #E2EBFA;\n",
              "      box-shadow: 0px 1px 2px rgba(60, 64, 67, 0.3), 0px 1px 3px 1px rgba(60, 64, 67, 0.15);\n",
              "      fill: #174EA6;\n",
              "    }\n",
              "\n",
              "    [theme=dark] .colab-df-convert {\n",
              "      background-color: #3B4455;\n",
              "      fill: #D2E3FC;\n",
              "    }\n",
              "\n",
              "    [theme=dark] .colab-df-convert:hover {\n",
              "      background-color: #434B5C;\n",
              "      box-shadow: 0px 1px 3px 1px rgba(0, 0, 0, 0.15);\n",
              "      filter: drop-shadow(0px 1px 2px rgba(0, 0, 0, 0.3));\n",
              "      fill: #FFFFFF;\n",
              "    }\n",
              "  </style>\n",
              "\n",
              "      <script>\n",
              "        const buttonEl =\n",
              "          document.querySelector('#df-30286328-816c-4840-985a-65724c7e6724 button.colab-df-convert');\n",
              "        buttonEl.style.display =\n",
              "          google.colab.kernel.accessAllowed ? 'block' : 'none';\n",
              "\n",
              "        async function convertToInteractive(key) {\n",
              "          const element = document.querySelector('#df-30286328-816c-4840-985a-65724c7e6724');\n",
              "          const dataTable =\n",
              "            await google.colab.kernel.invokeFunction('convertToInteractive',\n",
              "                                                     [key], {});\n",
              "          if (!dataTable) return;\n",
              "\n",
              "          const docLinkHtml = 'Like what you see? Visit the ' +\n",
              "            '<a target=\"_blank\" href=https://colab.research.google.com/notebooks/data_table.ipynb>data table notebook</a>'\n",
              "            + ' to learn more about interactive tables.';\n",
              "          element.innerHTML = '';\n",
              "          dataTable['output_type'] = 'display_data';\n",
              "          await google.colab.output.renderOutput(dataTable, element);\n",
              "          const docLink = document.createElement('div');\n",
              "          docLink.innerHTML = docLinkHtml;\n",
              "          element.appendChild(docLink);\n",
              "        }\n",
              "      </script>\n",
              "    </div>\n",
              "  </div>\n",
              "  "
            ]
          },
          "metadata": {},
          "execution_count": 301
        }
      ]
    },
    {
      "cell_type": "code",
      "source": [
        "mrps = newdata.corr(method='spearman')\n",
        "\n",
        "sns.heatmap(mrps, xticklabels=mrps.columns,yticklabels=mrps.columns, cmap='coolwarm')"
      ],
      "metadata": {
        "colab": {
          "base_uri": "https://localhost:8080/",
          "height": 513
        },
        "id": "vm82OvKTxVpW",
        "outputId": "168d0aed-de16-4471-f34e-672d3edc679f"
      },
      "execution_count": 306,
      "outputs": [
        {
          "output_type": "execute_result",
          "data": {
            "text/plain": [
              "<matplotlib.axes._subplots.AxesSubplot at 0x7f390f0593d0>"
            ]
          },
          "metadata": {},
          "execution_count": 306
        },
        {
          "output_type": "display_data",
          "data": {
            "text/plain": [
              "<Figure size 576x396 with 2 Axes>"
            ],
            "image/png": "[encoded data removed]"
          },
          "metadata": {}
        }
      ]
    },
    {
      "cell_type": "markdown",
      "source": [
        "En el grafico de calor anterior podemos visualizar la relacion y el nivel de correlacio que tienen las columnas que se visualizan en el grafico, dandonos un mejor entendimiento de como se relacionan para posteriormente trabajar con estas informaciones."
      ],
      "metadata": {
        "id": "6t1pDg5hywVw"
      }
    },
    {
      "cell_type": "code",
      "source": [],
      "metadata": {
        "id": "71S2l1khzBkb"
      },
      "execution_count": null,
      "outputs": []
    }
  ],
  "metadata": {
    "colab": {
      "provenance": [],
      "mount_file_id": "1tI9cnJ03kdbT38OgwwUHc9ixVpefgX_1",
      "authorship_tag": "ABX9TyNJfsm9bZ4TvBWXtJlxUKBU",
      "include_colab_link": true
    },
    "kernelspec": {
      "display_name": "Python 3",
      "name": "python3"
    },
    "language_info": {
      "name": "python"
    }
  },
  "nbformat": 4,
  "nbformat_minor": 0
}